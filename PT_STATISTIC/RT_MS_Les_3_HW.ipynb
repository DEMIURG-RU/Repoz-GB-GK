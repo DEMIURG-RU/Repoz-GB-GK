{
 "cells": [
  {
   "cell_type": "markdown",
   "id": "3251def7",
   "metadata": {},
   "source": [
    "#### Задание 1\n",
    "Даны значения зарплат из выборки выпускников: 100, 80, 75, 77, 89, 33, 45, 25, 65, 17, 30, 24, 57, 55, 70, 75, 65, 84, 90, 150.\n",
    "Посчитать (желательно без использования статистических методов наподобие std, var, mean):"
   ]
  },
  {
   "cell_type": "code",
   "execution_count": 7,
   "id": "94d7808f",
   "metadata": {},
   "outputs": [
    {
     "name": "stdout",
     "output_type": "stream",
     "text": [
      "Среднее арифметическое массива: 65.3\n",
      "Среднее квадратичное отклонение массива: 30.823854398825596\n",
      "Смещенная оценка дисперсии массива: 30.823854398825596\n",
      "Несмещенная оценка дисперсии массива: 31.624607341019814\n"
     ]
    }
   ],
   "source": [
    "from math import sqrt\n",
    "\n",
    "array = [100, 80, 75, 77, 89, 33, 45, 25, 65, 17, 30, 24, 57, 55, 70, 75, 65, 84, 90, 150]\n",
    "\n",
    "n = len(array)\n",
    "array_sum = 0\n",
    "s2_sum = 0\n",
    "\n",
    "for number in array:\n",
    "    array_sum = array_sum + number\n",
    "      \n",
    "x_sr = array_sum/n\n",
    "print('Среднее арифметическое массива:', x_sr)\n",
    "\n",
    "for number in array:\n",
    "    s2_sum = s2_sum + ((number - x_sr) ** 2)\n",
    "\n",
    "s2 = sqrt(s2_sum/n)\n",
    "print('Среднее квадратичное отклонение массива:', s2)\n",
    "\n",
    "std_s = sqrt(s2_sum/n)\n",
    "print('Смещенная оценка дисперсии массива:', std_s)\n",
    "\n",
    "std_ns = sqrt(s2_sum/(n-1))\n",
    "print('Несмещенная оценка дисперсии массива:', std_ns)"
   ]
  },
  {
   "cell_type": "markdown",
   "id": "218bc92b",
   "metadata": {},
   "source": [
    "#### Задание 2\n",
    "В первом ящике находится 8 мячей, из которых 5 - белые. Во втором ящике - 12 мячей, из которых 5 белых.\n",
    "Из первого ящика вытаскивают случайным образом 2 мяча, из второго - 4.\n",
    "Какова вероятность того, что 3 мяча белые?\n"
   ]
  },
  {
   "cell_type": "code",
   "execution_count": 1,
   "id": "ac456499",
   "metadata": {},
   "outputs": [],
   "source": [
    "import numpy as np\n",
    "from math import factorial\n",
    "\n",
    "def combinations(n, k):\n",
    "    return int(factorial(n) / (factorial(k) * factorial(n - k)))"
   ]
  },
  {
   "cell_type": "code",
   "execution_count": 13,
   "id": "fe41f80c",
   "metadata": {},
   "outputs": [
    {
     "data": {
      "text/plain": [
       "0.12626262626262627"
      ]
     },
     "execution_count": 13,
     "metadata": {},
     "output_type": "execute_result"
    }
   ],
   "source": [
    "# из первого ящика вытащили 2 белых + из второго 1 белый + 3черных\n",
    "p21 = combinations(5, 2)/combinations(8, 2)*(combinations(5, 1)*combinations(7, 3)/combinations(12, 4))\n",
    "p21"
   ]
  },
  {
   "cell_type": "code",
   "execution_count": 14,
   "id": "99f24ae8",
   "metadata": {},
   "outputs": [
    {
     "data": {
      "text/plain": [
       "0.22727272727272727"
      ]
     },
     "execution_count": 14,
     "metadata": {},
     "output_type": "execute_result"
    }
   ],
   "source": [
    "# из первого ящика вытащили 1 белых + 1 черный, из второго 2 белых + 2 черных\n",
    "p22 = (combinations(5, 1)*combinations(3, 1)/combinations(8, 2))*(combinations(5, 2)*combinations(7, 2)/combinations(12, 4))\n",
    "p22"
   ]
  },
  {
   "cell_type": "code",
   "execution_count": 17,
   "id": "9d5e096f",
   "metadata": {},
   "outputs": [
    {
     "data": {
      "text/plain": [
       "0.01515151515151515"
      ]
     },
     "execution_count": 17,
     "metadata": {},
     "output_type": "execute_result"
    }
   ],
   "source": [
    "# из первого ящика вытащили 2 черных, из второго 3 белых + 1 черный\n",
    "p23 = combinations(3, 2)/combinations(8, 2)*(combinations(5, 3)*combinations(7, 1)/combinations(12, 4))\n",
    "p23"
   ]
  },
  {
   "cell_type": "code",
   "execution_count": 18,
   "id": "2ca06d7a",
   "metadata": {},
   "outputs": [
    {
     "data": {
      "text/plain": [
       "0.0010822510822510823"
      ]
     },
     "execution_count": 18,
     "metadata": {},
     "output_type": "execute_result"
    }
   ],
   "source": [
    "# из первого ящика вытащили 2 черных, из второго 4 белых\n",
    "p24 = combinations(3, 2)/combinations(8, 2)*combinations(5, 4)/combinations(12, 4)\n",
    "p24"
   ]
  },
  {
   "cell_type": "code",
   "execution_count": 19,
   "id": "1af3db8b",
   "metadata": {},
   "outputs": [
    {
     "data": {
      "text/plain": [
       "0.36976911976911975"
      ]
     },
     "execution_count": 19,
     "metadata": {},
     "output_type": "execute_result"
    }
   ],
   "source": [
    "P2 = p21+p22+p23+p24\n",
    "P2"
   ]
  },
  {
   "cell_type": "markdown",
   "id": "121c6e15",
   "metadata": {},
   "source": [
    "#### Задание 3\n",
    "На соревновании по биатлону один из трех спортсменов стреляет и попадает в мишень.\n",
    "Вероятность попадания для первого спортсмена равна 0.9, для второго — 0.8, для третьего — 0.6.\n",
    "Найти вероятность того, что выстрел произведен:\n",
    "\n",
    "- первым спортсменом\n",
    "- вторым спортсменом\n",
    "- третьим спортсменом.\n",
    "\n",
    "Событие А - попадание в мишень.\n",
    "\n",
    "B1, B2, B3 - выстрелы спортсменом 1, 2 и 3 соответсвенно = 1/3"
   ]
  },
  {
   "cell_type": "code",
   "execution_count": 20,
   "id": "74108f36",
   "metadata": {},
   "outputs": [
    {
     "data": {
      "text/plain": [
       "0.7666666666666666"
      ]
     },
     "execution_count": 20,
     "metadata": {},
     "output_type": "execute_result"
    }
   ],
   "source": [
    "# вероятности попадания спортменов в порядке следования:\n",
    "p31 = 0.9\n",
    "p32 = 0.8\n",
    "p33 = 0.6\n",
    "B31 = 1/3\n",
    "B32 = 1/3\n",
    "B33 = 1/3\n",
    "\n",
    "# Найдем вероятность попадания в мишень всеми стрелками:\n",
    "PA3 = B31 * p31 + B32 * p32 + B33 * p33\n",
    "PA3"
   ]
  },
  {
   "cell_type": "code",
   "execution_count": 55,
   "id": "e920340e",
   "metadata": {},
   "outputs": [
    {
     "data": {
      "text/plain": [
       "0.391304347826087"
      ]
     },
     "execution_count": 55,
     "metadata": {},
     "output_type": "execute_result"
    }
   ],
   "source": [
    "# вероятность что попоал в мишень 1-й спортсмен\n",
    "P31 = (B31*p31)/PA3\n",
    "P31"
   ]
  },
  {
   "cell_type": "code",
   "execution_count": 23,
   "id": "b0586da0",
   "metadata": {},
   "outputs": [
    {
     "data": {
      "text/plain": [
       "0.3478260869565218"
      ]
     },
     "execution_count": 23,
     "metadata": {},
     "output_type": "execute_result"
    }
   ],
   "source": [
    "# вероятность что попоал в мишень 3-й спортсмен\n",
    "P32 = (B32*p32)/PA3\n",
    "P32"
   ]
  },
  {
   "cell_type": "code",
   "execution_count": 21,
   "id": "5d854205",
   "metadata": {},
   "outputs": [
    {
     "data": {
      "text/plain": [
       "0.2608695652173913"
      ]
     },
     "execution_count": 21,
     "metadata": {},
     "output_type": "execute_result"
    }
   ],
   "source": [
    "# вероятность что попоал в мишень 3-й спортсмен\n",
    "P33 = (B33*p33)/PA3\n",
    "P33"
   ]
  },
  {
   "cell_type": "markdown",
   "id": "0c7524f2",
   "metadata": {},
   "source": [
    "#### Задание 4\n",
    "В университет на факультеты A и B поступило равное количество студентов, а на факультет C студентов поступило столько же, сколько на A и B вместе.\n",
    "Вероятность того, что студент факультета A сдаст первую сессию, равна 0.8.\n",
    "Для студента факультета B эта вероятность равна 0.7, а для студента факультета C - 0.9.\n",
    "Студент сдал первую сессию.\n",
    "Какова вероятность, что он учится:\n",
    "\n",
    "- на факультете A\n",
    "- на факультете B\n",
    "- на факультете C?\n",
    "\n",
    "Событие А - сдача сессии.\n",
    "\n",
    "B1, B2, B3 - сдача сессии студентами факультета А, В и С соответсвенно."
   ]
  },
  {
   "cell_type": "code",
   "execution_count": 24,
   "id": "e944a091",
   "metadata": {},
   "outputs": [
    {
     "data": {
      "text/plain": [
       "0.825"
      ]
     },
     "execution_count": 24,
     "metadata": {},
     "output_type": "execute_result"
    }
   ],
   "source": [
    "p41 = 0.8\n",
    "p42 = 0.7\n",
    "p43 = 0.9\n",
    "B41 = 1/4\n",
    "B42 = 1/4\n",
    "B43 = 2/4\n",
    "\n",
    "# Найдем вероятность сдачи экзамена:\n",
    "PA4 = B41 * p41 + B42 * p42 + B43 * p43\n",
    "PA4"
   ]
  },
  {
   "cell_type": "code",
   "execution_count": 53,
   "id": "9fb7f754",
   "metadata": {},
   "outputs": [
    {
     "data": {
      "text/plain": [
       "0.24242424242424246"
      ]
     },
     "execution_count": 53,
     "metadata": {},
     "output_type": "execute_result"
    }
   ],
   "source": [
    "# вероятность того, что сдавший экзамен с факультета А\n",
    "P41 = (B41*p41)/PA4\n",
    "P41"
   ]
  },
  {
   "cell_type": "code",
   "execution_count": 54,
   "id": "da32abcc",
   "metadata": {},
   "outputs": [
    {
     "data": {
      "text/plain": [
       "0.21212121212121213"
      ]
     },
     "execution_count": 54,
     "metadata": {},
     "output_type": "execute_result"
    }
   ],
   "source": [
    "# вероятность того, что сдавший экзамен с факультета B\n",
    "P42 = (B42*p42)/PA4\n",
    "P42"
   ]
  },
  {
   "cell_type": "code",
   "execution_count": 27,
   "id": "a916bc69",
   "metadata": {},
   "outputs": [
    {
     "data": {
      "text/plain": [
       "0.5454545454545455"
      ]
     },
     "execution_count": 27,
     "metadata": {},
     "output_type": "execute_result"
    }
   ],
   "source": [
    "# вероятность того, что сдавший экзамен с факультета B\n",
    "P43 = (B43*p43)/PA4\n",
    "P43"
   ]
  },
  {
   "cell_type": "markdown",
   "id": "b805c963",
   "metadata": {},
   "source": [
    "#### Задание 5\n",
    "Устройство состоит из трех деталей.\n",
    "Для первой детали вероятность выйти из строя в первый месяц равна 0.1, для второй - 0.2, для третьей - 0.25.\n",
    "Какова вероятность того, что в первый месяц выйдут из строя:\n",
    "- все детали\n",
    "- только две детали\n",
    "- хотя бы одна деталь\n",
    "- от одной до двух деталей?"
   ]
  },
  {
   "cell_type": "code",
   "execution_count": 29,
   "id": "cd0575ae",
   "metadata": {},
   "outputs": [],
   "source": [
    "p51 = 0.1\n",
    "p52 = 0.2\n",
    "p53 = 0.25\n",
    "q51 = 1 - p51\n",
    "q52 = 1 - p52\n",
    "q53 = 1 - p53\n",
    "k51, k52, k53, n = 3, 2, 1, 3"
   ]
  },
  {
   "cell_type": "code",
   "execution_count": 37,
   "id": "9c2416c5",
   "metadata": {},
   "outputs": [
    {
     "data": {
      "text/plain": [
       "0.005000000000000001"
      ]
     },
     "execution_count": 37,
     "metadata": {},
     "output_type": "execute_result"
    }
   ],
   "source": [
    "# Вероятность что все три детали выйдут из строй\n",
    "p50 = p51*p52*p53\n",
    "p50"
   ]
  },
  {
   "cell_type": "code",
   "execution_count": 40,
   "id": "cd7b6ba0",
   "metadata": {},
   "outputs": [
    {
     "data": {
      "text/plain": [
       "0.08000000000000002"
      ]
     },
     "execution_count": 40,
     "metadata": {},
     "output_type": "execute_result"
    }
   ],
   "source": [
    "# случай поломки: первая и вторая, или первая и третья, или вторая и третья\n",
    "P52 = (p51 * p52 * q53) + (p51 * q52 * p53) + (q51 * p52 * p53)\n",
    "P52"
   ]
  },
  {
   "cell_type": "markdown",
   "id": "f69006aa",
   "metadata": {},
   "source": [
    "####  Решение: поломка хотя бы одной из деталей"
   ]
  },
  {
   "cell_type": "markdown",
   "id": "cf7c241b",
   "metadata": {},
   "source": [
    "##### Вариант №1"
   ]
  },
  {
   "cell_type": "code",
   "execution_count": 50,
   "id": "a7a224a3",
   "metadata": {},
   "outputs": [
    {
     "data": {
      "text/plain": [
       "0.375"
      ]
     },
     "execution_count": 50,
     "metadata": {},
     "output_type": "execute_result"
    }
   ],
   "source": [
    "# ломается только первая деталь из трех (т.е. вторя и третья - работают)\n",
    "pd1 = p51 * q52 * q53\n",
    "\n",
    "# ломается только вторая деталь из трех (т.е. первая и третья - работают)\n",
    "pd2 = q51 * p52 * q53\n",
    "\n",
    "# ломается только третья деталь из трех (т.е. первая и вторая - работают)\n",
    "pd3 = q51 * q52 * p53\n",
    "\n",
    "# вероятность выхода из строя одной из деталей\n",
    "P53 = pd1 + pd2 + pd3\n",
    "P53"
   ]
  },
  {
   "cell_type": "markdown",
   "id": "a3595cd3",
   "metadata": {},
   "source": [
    "##### Вариант №2"
   ]
  },
  {
   "cell_type": "code",
   "execution_count": 51,
   "id": "d2de7df8",
   "metadata": {},
   "outputs": [
    {
     "data": {
      "text/plain": [
       "0.45999999999999996"
      ]
     },
     "execution_count": 51,
     "metadata": {},
     "output_type": "execute_result"
    }
   ],
   "source": [
    "# хотя бы одна деталь сломалась (т.е. ни одна деталь не вышла из строя)\n",
    "P532 = 1 - (q51 * q52 * q53)\n",
    "P532"
   ]
  },
  {
   "cell_type": "markdown",
   "id": "1d0278ff",
   "metadata": {},
   "source": [
    "#### Вопрос. По утверждениям какждый из вариантов верный, почему результат разный?"
   ]
  },
  {
   "cell_type": "markdown",
   "id": "d0b116e5",
   "metadata": {},
   "source": [
    "####  Решение: поломка от одной до двух деталей"
   ]
  },
  {
   "cell_type": "code",
   "execution_count": 41,
   "id": "cbacbe24",
   "metadata": {},
   "outputs": [
    {
     "data": {
      "text/plain": [
       "0.45499999999999996"
      ]
     },
     "execution_count": 41,
     "metadata": {},
     "output_type": "execute_result"
    }
   ],
   "source": [
    "# сломалось от одной до двух деталей\n",
    "P54 = 1 - (p51 * p52 * p53) - (q51 * q52 * q53)\n",
    "P54"
   ]
  },
  {
   "cell_type": "code",
   "execution_count": null,
   "id": "481bbbce",
   "metadata": {},
   "outputs": [],
   "source": []
  },
  {
   "cell_type": "markdown",
   "id": "c0070897",
   "metadata": {},
   "source": [
    "#### ДАЛЕЕ СЛЕДУЮТ МОИ ПОИСКИ (не принимать во внимание)"
   ]
  },
  {
   "cell_type": "code",
   "execution_count": 32,
   "id": "377d7066",
   "metadata": {},
   "outputs": [
    {
     "data": {
      "text/plain": [
       "0.24300000000000005"
      ]
     },
     "execution_count": 32,
     "metadata": {},
     "output_type": "execute_result"
    }
   ],
   "source": [
    "# что выйдет из строя первая деталь\n",
    "P51 = combinations(3, 1) * (0.1**1) * (0.9**2)\n",
    "P51"
   ]
  },
  {
   "cell_type": "code",
   "execution_count": 33,
   "id": "463d89e1",
   "metadata": {},
   "outputs": [
    {
     "data": {
      "text/plain": [
       "0.3840000000000001"
      ]
     },
     "execution_count": 33,
     "metadata": {},
     "output_type": "execute_result"
    }
   ],
   "source": [
    "# что выйдет из строя вторая деталь\n",
    "P52 = combinations(3, 1) * (0.2**1) * (0.8**2)\n",
    "P52"
   ]
  },
  {
   "cell_type": "code",
   "execution_count": 34,
   "id": "7260be9e",
   "metadata": {},
   "outputs": [
    {
     "data": {
      "text/plain": [
       "0.421875"
      ]
     },
     "execution_count": 34,
     "metadata": {},
     "output_type": "execute_result"
    }
   ],
   "source": [
    "# что выйдет из строя третья деталь\n",
    "P53 = combinations(3, 1) * (0.25**1) * (0.75**2)\n",
    "P53"
   ]
  },
  {
   "cell_type": "code",
   "execution_count": null,
   "id": "ddd12189",
   "metadata": {},
   "outputs": [],
   "source": []
  }
 ],
 "metadata": {
  "kernelspec": {
   "display_name": "Python 3",
   "language": "python",
   "name": "python3"
  },
  "language_info": {
   "codemirror_mode": {
    "name": "ipython",
    "version": 3
   },
   "file_extension": ".py",
   "mimetype": "text/x-python",
   "name": "python",
   "nbconvert_exporter": "python",
   "pygments_lexer": "ipython3",
   "version": "3.8.8"
  }
 },
 "nbformat": 4,
 "nbformat_minor": 5
}
