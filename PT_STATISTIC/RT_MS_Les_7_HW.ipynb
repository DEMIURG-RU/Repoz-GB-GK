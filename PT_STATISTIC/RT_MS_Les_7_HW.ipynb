{
 "cells": [
  {
   "cell_type": "markdown",
   "id": "191283e8",
   "metadata": {},
   "source": [
    "#### Задание 1\n",
    "\n",
    "Даны значения величины заработной платы заемщиков банка (zp) и значения их поведенческого кредитного скоринга (ks):\n",
    "zp = [35, 45, 190, 200, 40, 70, 54, 150, 120, 110],\n",
    "ks = [401, 574, 874, 919, 459, 739, 653, 902, 746, 832].\n",
    "Используя математические операции, посчитать коэффициенты линейной регрессии,\n",
    "приняв за X заработную плату (то есть, zp - признак), а за y - значения скорингового балла (то есть, ks - целевая переменная).\n",
    "Произвести расчет как с использованием intercept, так и без."
   ]
  },
  {
   "cell_type": "code",
   "execution_count": 12,
   "id": "2a52b288",
   "metadata": {},
   "outputs": [],
   "source": [
    "import numpy as np\n",
    "import pandas as pd\n",
    "from sklearn.linear_model import LinearRegression"
   ]
  },
  {
   "cell_type": "code",
   "execution_count": 13,
   "id": "693ba4fe",
   "metadata": {},
   "outputs": [
    {
     "name": "stdout",
     "output_type": "stream",
     "text": [
      "Коэффициенты линейной регрессии методом с intercept: b = 2.6205, a = 444.1774\n"
     ]
    }
   ],
   "source": [
    "x = np.array([35, 45, 190, 200, 40, 70, 54, 150, 120, 110])\n",
    "y = np.array([401, 574, 874, 919, 459, 739, 653, 902, 746, 832])\n",
    "n = len(x)\n",
    "\n",
    "b1_1 = (np.mean(x * y) - (np.mean(x) * np.mean(y))) / (np.mean(x**2) - np.mean(x) ** 2)\n",
    "a1_1 = np.mean(y) - b1_1 * np.mean(x)\n",
    "print(f'Коэффициенты линейной регрессии методом с intercept: b = {round(LR1_1, 4)}, a = {round(A1_1, 4)}')"
   ]
  },
  {
   "cell_type": "code",
   "execution_count": 14,
   "id": "38915d5b",
   "metadata": {},
   "outputs": [
    {
     "name": "stdout",
     "output_type": "stream",
     "text": [
      "[[444.17735732]\n",
      " [  2.62053888]]\n",
      "[[444.17735732]\n",
      " [  2.62053888]]\n"
     ]
    }
   ],
   "source": [
    "x1 = x.reshape(len(x), 1)\n",
    "y1 = y.reshape(len(y), 1)\n",
    "X1 = np.hstack([np.ones((10,1)), x1])\n",
    "# определим коэффициенты линейно1 регрессии матричным способом - 2-мя, различными\n",
    "b1_2 = np.dot(np.linalg.inv(np.dot(X1.T,X1)),X1.T@y1)\n",
    "b1_22 = np.linalg.pinv(X1).dot(y1)\n",
    "print(b1_2)\n",
    "print(b1_22)"
   ]
  },
  {
   "cell_type": "markdown",
   "id": "d02a0e71",
   "metadata": {},
   "source": [
    "#### Задание 2\n",
    "\n",
    "Посчитать коэффициент линейной регрессии при заработной плате (zp), используя градиентный спуск (без intercept)."
   ]
  },
  {
   "cell_type": "code",
   "execution_count": 15,
   "id": "67058258",
   "metadata": {},
   "outputs": [
    {
     "name": "stdout",
     "output_type": "stream",
     "text": [
      "Iteration: 0, b2=0.25952808, mse=493237.7212546963\n",
      "Iteration: 500, b2=5.889815595583751, mse=56516.858416040064\n",
      "Iteration: 1000, b2=5.8898204201285544, mse=56516.85841571941\n",
      "Iteration: 1500, b2=5.889820420132673, mse=56516.85841571943\n",
      "Iteration: 2000, b2=5.889820420132673, mse=56516.85841571943\n",
      "Iteration: 2500, b2=5.889820420132673, mse=56516.85841571943\n"
     ]
    }
   ],
   "source": [
    "alpha = 1e-6\n",
    "b2= 0.1\n",
    "for i in range(3000):\n",
    "    b2 -= alpha*(2/n)*np.sum((b2*x-y)*x)\n",
    "    if i%500 == 0:\n",
    "        print('Iteration: {i}, b2={b2}, mse={mse}'.format(i=i, b2=b2, mse=np.mean((b2*x-y)**2)))"
   ]
  },
  {
   "cell_type": "markdown",
   "id": "e9d2cce2",
   "metadata": {},
   "source": [
    "#### Задание 4\n",
    "\n",
    "Произвести вычисления как в пункте 2, но с вычислением intercept.\n",
    "Учесть, что изменение коэффициентов должно производиться на каждом шаге одновременно\n",
    "(то есть изменение одного коэффициента не должно влиять на изменение другого во время одной итерации)."
   ]
  },
  {
   "cell_type": "code",
   "execution_count": 20,
   "id": "2fb92801",
   "metadata": {},
   "outputs": [
    {
     "name": "stdout",
     "output_type": "stream",
     "text": [
      "b_3=0.10699660000000001, a_3=0.8975390000000001, mse=399736.8945969929\n",
      "b_3=319.2611919366344, a_3=3.53997708826565, mse=10428.613732861277\n",
      "b_3=409.0357653850931, a_3=2.8791965360660576, mse=6783.672985320853\n",
      "b_3=434.291275085185, a_3=2.693304818571127, mse=6495.206045311317\n",
      "b_3=441.39619071675355, a_3=2.6410094982591366, mse=6472.376270771214\n",
      "b_3=443.39495560929134, a_3=2.6262977049453364, mse=6470.569482771402\n",
      "b_3=443.95725096967476, a_3=2.622158962487855, mse=6470.42649043171\n",
      "b_3=444.1154366940318, a_3=2.620994645618661, mse=6470.415173769639\n",
      "b_3=444.1599377252471, a_3=2.6206670983538807, mse=6470.414278149355\n",
      "b_3=444.1724568181537, a_3=2.620574952295079, mse=6470.41420726841\n",
      "b_3=444.1759787070358, a_3=2.6205490296357903, mse=6470.41420165877\n"
     ]
    }
   ],
   "source": [
    "alpha = 5e-6\n",
    "b_3 = 0.1\n",
    "a_3 = 0.1\n",
    "\n",
    "def mse_(b_3, a_3, y, x, n):\n",
    "    return np.sum((b_3+a_3*x-y)**2)/n\n",
    "\n",
    "for i in range(5500000):\n",
    "    y_pred = b_3 + a_3*x\n",
    "    b_3 -= alpha * (2/n) * np.sum(y_pred-y)\n",
    "    a_3 -= alpha * (2/n) * np.sum((y_pred-y)*x)\n",
    "    if i % 500000 == 0:\n",
    "        print('b_3={b_3}, a_3={a_3}, mse={mse}'.format(b_3=b_3, a_3=a_3, mse=mse_(b_3, a_3, y, x, n)))"
   ]
  },
  {
   "cell_type": "code",
   "execution_count": null,
   "id": "3803021f",
   "metadata": {},
   "outputs": [],
   "source": []
  }
 ],
 "metadata": {
  "kernelspec": {
   "display_name": "Python 3",
   "language": "python",
   "name": "python3"
  },
  "language_info": {
   "codemirror_mode": {
    "name": "ipython",
    "version": 3
   },
   "file_extension": ".py",
   "mimetype": "text/x-python",
   "name": "python",
   "nbconvert_exporter": "python",
   "pygments_lexer": "ipython3",
   "version": "3.8.8"
  }
 },
 "nbformat": 4,
 "nbformat_minor": 5
}
