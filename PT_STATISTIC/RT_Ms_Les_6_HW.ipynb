{
 "cells": [
  {
   "cell_type": "markdown",
   "id": "92dc29a7",
   "metadata": {},
   "source": [
    "#### Задание 1.\n",
    "\n",
    "Даны значения величины заработной платы заемщиков банка (zp) и значения их поведенческого кредитного скоринга (ks): zp = [35, 45, 190, 200, 40, 70, 54, 150, 120, 110], ks = [401, 574, 874, 919, 459, 739, 653, 902, 746, 832]. Найдите ковариацию этих двух величин с помощью элементарных действий, а затем с помощью функции cov из numpy Полученные значения должны быть равны. Найдите коэффициент корреляции Пирсона с помощью ковариации и среднеквадратичных отклонений двух признаков, а затем с использованием функций из библиотек numpy и pandas."
   ]
  },
  {
   "cell_type": "code",
   "execution_count": 41,
   "id": "20224dcf",
   "metadata": {},
   "outputs": [
    {
     "name": "stdout",
     "output_type": "stream",
     "text": [
      "9157.84\n"
     ]
    }
   ],
   "source": [
    "from math import sqrt\n",
    "\n",
    "import numpy as np\n",
    "import pandas as pd\n",
    "import scipy.stats as stats\n",
    "\n",
    "zp = np.array([35, 45, 190, 200, 40, 70, 54, 150, 120, 110])\n",
    "ks = np.array([401, 574, 874, 919, 459, 739, 653, 902, 746, 832])\n",
    "\n",
    "cov_1 = np.mean(zp*ks) - (np.mean(zp) * np.mean(ks))\n",
    "print(round(cov_1, 2))"
   ]
  },
  {
   "cell_type": "code",
   "execution_count": 40,
   "id": "d61c92d4",
   "metadata": {},
   "outputs": [
    {
     "data": {
      "text/plain": [
       "array([[ 3494.64,  9157.84],\n",
       "       [ 9157.84, 30468.89]])"
      ]
     },
     "execution_count": 40,
     "metadata": {},
     "output_type": "execute_result"
    }
   ],
   "source": [
    "cov_11 = np.cov(zp, ks, ddof=0)\n",
    "cov_11"
   ]
  },
  {
   "cell_type": "code",
   "execution_count": 42,
   "id": "44a42f84",
   "metadata": {},
   "outputs": [
    {
     "data": {
      "text/plain": [
       "0.8874900920739158"
      ]
     },
     "execution_count": 42,
     "metadata": {},
     "output_type": "execute_result"
    }
   ],
   "source": [
    "pearson_1 = cov_manual/(np.std(zp) * np.std(ks))\n",
    "pearson_1"
   ]
  },
  {
   "cell_type": "code",
   "execution_count": 43,
   "id": "d67984c6",
   "metadata": {},
   "outputs": [
    {
     "data": {
      "text/plain": [
       "array([[1.        , 0.88749009],\n",
       "       [0.88749009, 1.        ]])"
      ]
     },
     "execution_count": 43,
     "metadata": {},
     "output_type": "execute_result"
    }
   ],
   "source": [
    "pearson_11 = np.corrcoef(zp, ks)\n",
    "pearson_11"
   ]
  },
  {
   "cell_type": "code",
   "execution_count": 44,
   "id": "f302b7b2",
   "metadata": {},
   "outputs": [
    {
     "data": {
      "text/plain": [
       "0.8874900920739163"
      ]
     },
     "execution_count": 44,
     "metadata": {},
     "output_type": "execute_result"
    }
   ],
   "source": [
    "zp1 = pd.Series([35, 45, 190, 200, 40, 70, 54, 150, 120, 110])\n",
    "ks1 = pd.Series([401, 574, 874, 919, 459, 739, 653, 902, 746, 832])\n",
    "pearson_pd = zp1.corr(ks1, method=\"pearson\")\n",
    "pearson_pd"
   ]
  },
  {
   "cell_type": "markdown",
   "id": "9e776989",
   "metadata": {},
   "source": [
    "#### Задание 2\n",
    "Измерены значения IQ выборки студентов, обучающихся в местных технических вузах:\n",
    "131, 125, 115, 122, 131, 115, 107, 99, 125, 111.\n",
    "Известно, что в генеральной совокупности IQ распределен нормально.\n",
    "Найдите доверительный интервал для математического ожидания с надежностью 0.95."
   ]
  },
  {
   "cell_type": "code",
   "execution_count": 45,
   "id": "8007bacc",
   "metadata": {},
   "outputs": [],
   "source": [
    "IQ = [131, 125, 115, 122, 131, 115, 107, 99, 125, 111]\n",
    "mean_2 = np.mean(IQ)\n",
    "sigma_2 = np.std(IQ, ddof=1)"
   ]
  },
  {
   "cell_type": "code",
   "execution_count": 48,
   "id": "dd861f15",
   "metadata": {},
   "outputs": [
    {
     "data": {
      "text/plain": [
       "[110.55608365158724, 125.64391634841274]"
      ]
     },
     "execution_count": 48,
     "metadata": {},
     "output_type": "execute_result"
    }
   ],
   "source": [
    "#критерий Стьюдента и интервал:\n",
    "t_2 = abs(stats.t.ppf((1 - 0.95)/2, len(IQ) - 1))\n",
    "interval_start_2 = mean_2 - t_2 * sigma_2/sqrt(len(IQ))\n",
    "interval_end_2 = mean_2 + t_2 * sigma_2/sqrt(len(IQ))\n",
    "interval_2 = [interval_start_2, interval_end_2]\n",
    "interval_2"
   ]
  },
  {
   "cell_type": "markdown",
   "id": "faad0f5b",
   "metadata": {},
   "source": [
    "#### Задание 3\n",
    "Известно, что рост футболистов в сборной распределен нормально с дисперсией генеральной совокупности, равной 25 кв.см.\n",
    "Объем выборки равен 27, среднее выборочное составляет 174.2.\n",
    "Найдите доверительный интервал для математического ожидания с надежностью 0.95."
   ]
  },
  {
   "cell_type": "code",
   "execution_count": 49,
   "id": "bc37cb04",
   "metadata": {},
   "outputs": [],
   "source": [
    "d_3, n_3, mean_3 = 25, 27, 174.2 \n",
    "sigma_3 = sqrt(d_3)"
   ]
  },
  {
   "cell_type": "code",
   "execution_count": 50,
   "id": "89575911",
   "metadata": {},
   "outputs": [
    {
     "data": {
      "text/plain": [
       "[172.31398912064722, 176.08601087935276]"
      ]
     },
     "execution_count": 50,
     "metadata": {},
     "output_type": "execute_result"
    }
   ],
   "source": [
    "#используем z критерий\n",
    "alpha_over2 = 0.05/2\n",
    "t_3 = 1.96\n",
    "interval_start_3 = mean_3 - t_3 * sigma_3/sqrt(n_3)\n",
    "interval_end_3 = mean_3 + t_3 * sigma_3/sqrt(n_3)\n",
    "interval_3 = [interval_start_3, interval_end_3]\n",
    "interval_3"
   ]
  },
  {
   "cell_type": "code",
   "execution_count": null,
   "id": "19904395",
   "metadata": {},
   "outputs": [],
   "source": []
  }
 ],
 "metadata": {
  "kernelspec": {
   "display_name": "Python 3",
   "language": "python",
   "name": "python3"
  },
  "language_info": {
   "codemirror_mode": {
    "name": "ipython",
    "version": 3
   },
   "file_extension": ".py",
   "mimetype": "text/x-python",
   "name": "python",
   "nbconvert_exporter": "python",
   "pygments_lexer": "ipython3",
   "version": "3.8.8"
  }
 },
 "nbformat": 4,
 "nbformat_minor": 5
}
