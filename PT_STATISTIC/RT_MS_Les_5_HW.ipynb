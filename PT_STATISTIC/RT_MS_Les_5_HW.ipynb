{
 "cells": [
  {
   "cell_type": "markdown",
   "id": "6580d8c6",
   "metadata": {},
   "source": [
    "#### Задание 1\n",
    "\n",
    "Известно, что генеральная совокупность распределена нормально со средним квадратическим отклонением, равным 16.\n",
    "Найти доверительный интервал для оценки математического ожидания a с надежностью 0.95, если выборочная средняя M = 80, а объем выборки n = 256."
   ]
  },
  {
   "cell_type": "code",
   "execution_count": 1,
   "id": "90878f1c",
   "metadata": {},
   "outputs": [],
   "source": [
    "from math import sqrt\n",
    "import numpy"
   ]
  },
  {
   "cell_type": "code",
   "execution_count": 3,
   "id": "f97c8ce7",
   "metadata": {},
   "outputs": [
    {
     "data": {
      "text/plain": [
       "[78.04, 81.96]"
      ]
     },
     "execution_count": 3,
     "metadata": {},
     "output_type": "execute_result"
    }
   ],
   "source": [
    "# т.к. надежность 0.95 - означает интревал 1.96*sigma\n",
    "sigma1, z1, M1, n1 = 16, 1.96, 80, 256\n",
    "intrv_start1 = M1 - 1.96 * sigma1/sqrt(n1)\n",
    "intrv_end1 = M1 + 1.96 * sigma1/sqrt(n1)\n",
    "interval1 = [intrv_start1, intrv_end1]\n",
    "interval1"
   ]
  },
  {
   "cell_type": "markdown",
   "id": "b41a6a3a",
   "metadata": {},
   "source": [
    "#### Задание 2\n",
    "\n",
    "В результате 10 независимых измерений некоторой величины X, выполненных с одинаковой точностью, получены опытные данные: 6.9, 6.1, 6.2, 6.8, 7.5, 6.3, 6.4, 6.9, 6.7, 6.1 Предполагая, что результаты измерений подчинены нормальному закону распределения вероятностей, оценить истинное значение величины X при помощи доверительного интервала, покрывающего это значение с доверительной вероятностью 0,95."
   ]
  },
  {
   "cell_type": "code",
   "execution_count": 7,
   "id": "115da9a5",
   "metadata": {},
   "outputs": [
    {
     "data": {
      "text/plain": [
       "[6.268, 6.912]"
      ]
     },
     "execution_count": 7,
     "metadata": {},
     "output_type": "execute_result"
    }
   ],
   "source": [
    "x2 = [6.9, 6.1, 6.2, 6.8, 7.5, 6.3, 6.4, 6.9, 6.7, 6.1]\n",
    "M2 = numpy.mean(x2)\n",
    "sigma2 = numpy.std(x2, ddof=1)\n",
    "t2 = 2.262 # табличное значение для вероятности 0.95 при степени свободы 10-1 \n",
    "intrv_start2 = M2 - t2 * sigma2/sqrt(len(x2))\n",
    "intrv_end2 = M2 + t2 * sigma2/sqrt(len(x2))\n",
    "interval2 = [round(intrv_start2, 3), round(intrv_end2, 3)]\n",
    "interval2"
   ]
  },
  {
   "cell_type": "markdown",
   "id": "a68a1185",
   "metadata": {},
   "source": [
    "#### Задание 3\n",
    "\n",
    "Утверждается, что шарики для подшипников, изготовленные автоматическим станком, имеют средний диаметр 17 мм.\n",
    "Используя односторонний критерий с α=0,05, проверить эту гипотезу, если в выборке из n=100 шариков средний диаметр\n",
    "оказался равным 17.5 мм, а дисперсия известна и равна 4 кв.мм."
   ]
  },
  {
   "cell_type": "code",
   "execution_count": 19,
   "id": "56545e86",
   "metadata": {},
   "outputs": [
    {
     "name": "stdout",
     "output_type": "stream",
     "text": [
      "Т.к. значение отклонения Zn3 = 2.5 > 1.645, следовательно гипотеза H0 - не верна, на критерии 5%\n"
     ]
    }
   ],
   "source": [
    "m03, Xm3, D3, n3, Zk3 = 17, 17.5, 4, 100, 1.645\n",
    "Zn3 = (Xm3 - m03) / (sqrt(D3) / sqrt(n3))\n",
    "print(f'Т.к. значение отклонения Zn3 = {round(Zn3, 3)} > {Zk3}, следовательно гипотеза H0 - не верна, на критерии 5%')"
   ]
  },
  {
   "cell_type": "markdown",
   "id": "146466d3",
   "metadata": {},
   "source": [
    "#### Задание 4\n",
    "\n",
    "Продавец утверждает, что средний вес пачки печенья составляет 200 г.\n",
    "Из партии извлечена выборка из 10 пачек. Вес каждой пачки составляет:\n",
    "202, 203, 199, 197, 195, 201, 200, 204, 194, 190.\n",
    "Известно, что их веса распределены нормально.\n",
    "Верно ли утверждение продавца, если учитывать, что доверительная вероятность равна 99%?"
   ]
  },
  {
   "cell_type": "code",
   "execution_count": 17,
   "id": "57d2df4f",
   "metadata": {},
   "outputs": [
    {
     "name": "stdout",
     "output_type": "stream",
     "text": [
      "Т.к. значение отклонения Zn4 = -1.065, попадает в интервал [-3.25 : 3.25], принимаем гипотезу Н0\n"
     ]
    }
   ],
   "source": [
    "m04 = 200\n",
    "x4 = [202, 203, 199, 197, 195, 201, 200, 204, 194, 190]\n",
    "sigma4 = numpy.std(x4, ddof=1)\n",
    "Xm4 = numpy.mean(x4)\n",
    "n4 = len(x4)\n",
    "tk41 = 3.250 # табличное значение при п-1=9 и p = 99\n",
    "tk42 = -3.250 # обратный интервал\n",
    "Zn4 = (Xm4 - m04) / (sigma4 / sqrt(n4))\n",
    "print(f'Т.к. значение отклонения Zn4 = {round(Zn4, 3)}, попадает в интервал [{tk42} : {tk41}], принимаем гипотезу Н0')"
   ]
  }
 ],
 "metadata": {
  "kernelspec": {
   "display_name": "Python 3",
   "language": "python",
   "name": "python3"
  },
  "language_info": {
   "codemirror_mode": {
    "name": "ipython",
    "version": 3
   },
   "file_extension": ".py",
   "mimetype": "text/x-python",
   "name": "python",
   "nbconvert_exporter": "python",
   "pygments_lexer": "ipython3",
   "version": "3.8.8"
  }
 },
 "nbformat": 4,
 "nbformat_minor": 5
}
