{
 "cells": [
  {
   "cell_type": "markdown",
   "metadata": {
    "papermill": {
     "duration": 0.084338,
     "end_time": "2022-01-06T15:46:56.767318",
     "exception": false,
     "start_time": "2022-01-06T15:46:56.682980",
     "status": "completed"
    },
    "tags": []
   },
   "source": [
    "# Real Estate Price Prediction\n",
    "\n",
    "### This is the course project for GeekBrains University\n",
    "\n",
    "* Use sklearn.metrics.r2_score metrics for model quality assessment\n",
    "* You need to get R2 > 0.6 on the Private Leaderboard\n",
    "* All CSV files should contain header with column names and comma as delimiter. The indexes should be removed\n",
    "\n",
    "Recommendations for working with the code:\n",
    "1. Notebook must contain headers and comments\n",
    "2. Use functions for repetitive operations\n",
    "3. Add charts for describing the data (about 3-5)\n",
    "4. Add only the best model, and don't include all possible models for solving the project\n",
    "5. Notebook must work from beginning to end (from loading data to getting predictions)\n",
    "6. The whole project must be in one notebook\n",
    "7. When using statistics (mean, median, etc.) as features, it is better to calculate them on the train dataset, and use it on validation and test datasets withhout recalculation\n",
    "8. The project should be evaluated in a reasonable time (no more than 10 minutes), so, do not include in the final version models with checking of a large number of combinations of parameters (GridSearch, etc)."
   ]
  },
  {
   "cell_type": "markdown",
   "metadata": {
    "papermill": {
     "duration": 0.082928,
     "end_time": "2022-01-06T15:46:56.936011",
     "exception": false,
     "start_time": "2022-01-06T15:46:56.853083",
     "status": "completed"
    },
    "tags": []
   },
   "source": [
    "### **Table of contents**\n",
    "* [Loading data](#load)\n",
    "* [1. EDA](#eda)\n",
    "* [2. Processing outliers](#outlier)\n",
    "* [3. Processing NaN values](#nan)\n",
    "* [4. Feature generation](#feature)\n",
    "* [5. Feature selection](#feature_selection)\n",
    "* [6. Train and test split](#split)\n",
    "* [7. Model building](#modeling)\n",
    "* [8. Prediction on test dataset](#prediction)"
   ]
  },
  {
   "cell_type": "markdown",
   "metadata": {
    "papermill": {
     "duration": 0.084742,
     "end_time": "2022-01-06T15:46:57.106855",
     "exception": false,
     "start_time": "2022-01-06T15:46:57.022113",
     "status": "completed"
    },
    "tags": []
   },
   "source": [
    "### **Imports**"
   ]
  },
  {
   "cell_type": "code",
   "execution_count": 3,
   "metadata": {
    "execution": {
     "iopub.execute_input": "2022-01-06T15:46:57.276806Z",
     "iopub.status.busy": "2022-01-06T15:46:57.275916Z",
     "iopub.status.idle": "2022-01-06T15:46:57.286640Z",
     "shell.execute_reply": "2022-01-06T15:46:57.287448Z",
     "shell.execute_reply.started": "2022-01-06T15:45:45.278297Z"
    },
    "papermill": {
     "duration": 0.098412,
     "end_time": "2022-01-06T15:46:57.287853",
     "exception": false,
     "start_time": "2022-01-06T15:46:57.189441",
     "status": "completed"
    },
    "tags": []
   },
   "outputs": [],
   "source": [
    "# This Python 3 environment comes with many helpful analytics libraries installed\n",
    "# It is defined by the kaggle/python Docker image: https://github.com/kaggle/docker-python\n",
    "# For example, here's several helpful packages to load\n",
    "\n",
    "import numpy as np # linear algebra\n",
    "import pandas as pd # data processing, CSV file I/O (e.g. pd.read_csv)\n",
    "\n",
    "# Input data files are available in the read-only \"../input/\" directory\n",
    "# For example, running this (by clicking run or pressing Shift+Enter) will list all files under the input directory\n",
    "\n",
    "import os\n",
    "for dirname, _, filenames in os.walk('/kaggle/input'):\n",
    "    for filename in filenames:\n",
    "        print(os.path.join(dirname, filename))\n",
    "\n",
    "# You can write up to 5GB to the current directory (/kaggle/working/) that gets preserved as output when you create a version using \"Save & Run All\" \n",
    "# You can also write temporary files to /kaggle/temp/, but they won't be saved outside of the current session"
   ]
  },
  {
   "cell_type": "code",
   "execution_count": 4,
   "metadata": {
    "execution": {
     "iopub.execute_input": "2022-01-06T15:46:57.460375Z",
     "iopub.status.busy": "2022-01-06T15:46:57.459743Z",
     "iopub.status.idle": "2022-01-06T15:46:59.781718Z",
     "shell.execute_reply": "2022-01-06T15:46:59.782295Z",
     "shell.execute_reply.started": "2022-01-06T15:45:45.294840Z"
    },
    "papermill": {
     "duration": 2.409054,
     "end_time": "2022-01-06T15:46:59.782448",
     "exception": false,
     "start_time": "2022-01-06T15:46:57.373394",
     "status": "completed"
    },
    "tags": []
   },
   "outputs": [],
   "source": [
    "import numpy as np\n",
    "import pandas as pd\n",
    "import random\n",
    "\n",
    "from sklearn.model_selection import train_test_split, cross_val_score\n",
    "from sklearn.preprocessing import StandardScaler, RobustScaler\n",
    "from sklearn.ensemble import RandomForestRegressor\n",
    "from sklearn.metrics import r2_score as r2\n",
    "from sklearn.model_selection import KFold, GridSearchCV\n",
    "\n",
    "from catboost import CatBoostRegressor\n",
    "from xgboost import XGBRegressor\n",
    "from lightgbm import LGBMRegressor\n",
    "\n",
    "from datetime import datetime\n",
    "\n",
    "import matplotlib\n",
    "import matplotlib.pyplot as plt\n",
    "import seaborn as sns\n",
    "%matplotlib inline"
   ]
  },
  {
   "cell_type": "code",
   "execution_count": 5,
   "metadata": {
    "execution": {
     "iopub.execute_input": "2022-01-06T15:46:59.966568Z",
     "iopub.status.busy": "2022-01-06T15:46:59.965533Z",
     "iopub.status.idle": "2022-01-06T15:46:59.971102Z",
     "shell.execute_reply": "2022-01-06T15:46:59.970428Z",
     "shell.execute_reply.started": "2022-01-06T15:45:45.311984Z"
    },
    "papermill": {
     "duration": 0.100281,
     "end_time": "2022-01-06T15:46:59.971241",
     "exception": false,
     "start_time": "2022-01-06T15:46:59.870960",
     "status": "completed"
    },
    "tags": []
   },
   "outputs": [],
   "source": [
    "import warnings\n",
    "warnings.filterwarnings('ignore')"
   ]
  },
  {
   "cell_type": "code",
   "execution_count": 6,
   "metadata": {
    "execution": {
     "iopub.execute_input": "2022-01-06T15:47:00.145938Z",
     "iopub.status.busy": "2022-01-06T15:47:00.144994Z",
     "iopub.status.idle": "2022-01-06T15:47:00.148923Z",
     "shell.execute_reply": "2022-01-06T15:47:00.149446Z",
     "shell.execute_reply.started": "2022-01-06T15:45:45.325248Z"
    },
    "papermill": {
     "duration": 0.092251,
     "end_time": "2022-01-06T15:47:00.149606",
     "exception": false,
     "start_time": "2022-01-06T15:47:00.057355",
     "status": "completed"
    },
    "tags": []
   },
   "outputs": [],
   "source": [
    "matplotlib.rcParams.update({'font.size': 14})"
   ]
  },
  {
   "cell_type": "code",
   "execution_count": 7,
   "metadata": {
    "execution": {
     "iopub.execute_input": "2022-01-06T15:47:00.327257Z",
     "iopub.status.busy": "2022-01-06T15:47:00.326504Z",
     "iopub.status.idle": "2022-01-06T15:47:00.331276Z",
     "shell.execute_reply": "2022-01-06T15:47:00.330729Z",
     "shell.execute_reply.started": "2022-01-06T15:45:45.341563Z"
    },
    "papermill": {
     "duration": 0.097303,
     "end_time": "2022-01-06T15:47:00.331416",
     "exception": false,
     "start_time": "2022-01-06T15:47:00.234113",
     "status": "completed"
    },
    "tags": []
   },
   "outputs": [],
   "source": [
    "def evaluate_preds(train_true_values, train_pred_values, test_true_values, test_pred_values):\n",
    "    print(\"Train R2:\\t\" + str(round(r2(train_true_values, train_pred_values), 3)))\n",
    "    print(\"Test R2:\\t\" + str(round(r2(test_true_values, test_pred_values), 3)))\n",
    "    \n",
    "    plt.figure(figsize=(18,10))\n",
    "    \n",
    "    plt.subplot(121)\n",
    "    sns.scatterplot(x=train_pred_values, y=train_true_values)\n",
    "    plt.xlabel('Predicted values')\n",
    "    plt.ylabel('True values')\n",
    "    plt.title('Train sample prediction')\n",
    "    \n",
    "    plt.subplot(122)\n",
    "    sns.scatterplot(x=test_pred_values, y=test_true_values)\n",
    "    plt.xlabel('Predicted values')\n",
    "    plt.ylabel('True values')\n",
    "    plt.title('Test sample prediction')\n",
    "\n",
    "    plt.show()"
   ]
  },
  {
   "cell_type": "markdown",
   "metadata": {
    "papermill": {
     "duration": 0.08447,
     "end_time": "2022-01-06T15:47:00.500171",
     "exception": false,
     "start_time": "2022-01-06T15:47:00.415701",
     "status": "completed"
    },
    "tags": []
   },
   "source": [
    "### **Paths for train and test datasets**"
   ]
  },
  {
   "cell_type": "code",
   "execution_count": 8,
   "metadata": {
    "execution": {
     "iopub.execute_input": "2022-01-06T15:47:00.674120Z",
     "iopub.status.busy": "2022-01-06T15:47:00.673422Z",
     "iopub.status.idle": "2022-01-06T15:47:00.675938Z",
     "shell.execute_reply": "2022-01-06T15:47:00.676407Z",
     "shell.execute_reply.started": "2022-01-06T15:45:45.353822Z"
    },
    "papermill": {
     "duration": 0.092025,
     "end_time": "2022-01-06T15:47:00.676565",
     "exception": false,
     "start_time": "2022-01-06T15:47:00.584540",
     "status": "completed"
    },
    "tags": []
   },
   "outputs": [],
   "source": [
    "TRAIN_DATASET_PATH = './train.csv'\n",
    "TEST_DATASET_PATH = './test.csv'"
   ]
  },
  {
   "cell_type": "markdown",
   "metadata": {
    "papermill": {
     "duration": 0.095219,
     "end_time": "2022-01-06T15:47:00.858352",
     "exception": false,
     "start_time": "2022-01-06T15:47:00.763133",
     "status": "completed"
    },
    "tags": []
   },
   "source": [
    "## **Loading data** <a class='anchor' id='load'>"
   ]
  },
  {
   "cell_type": "markdown",
   "metadata": {
    "papermill": {
     "duration": 0.084793,
     "end_time": "2022-01-06T15:47:01.026566",
     "exception": false,
     "start_time": "2022-01-06T15:47:00.941773",
     "status": "completed"
    },
    "tags": []
   },
   "source": [
    "### **Dataset description**\n",
    "\n",
    "* **Id** - flat identifier in dataset\n",
    "* **DistrictId** - district identifier in dataset\n",
    "* **Rooms** - rooms number\n",
    "* **Square** - square of flat\n",
    "* **LifeSquare** - living square of flat\n",
    "* **KitchenSquare** - kitchen square of flat\n",
    "* **Floor** - floor of flat\n",
    "* **HouseFloor** - number of floors in house\n",
    "* **HouseYear** - year where the house was built\n",
    "* **Ecology_1, Ecology_2, Ecology_3** - ecology metrics of the area\n",
    "* **Social_1, Social_2, Social_3** - social metrics of the area\n",
    "* **Healthcare_1, Helthcare_2** - healthcare metrics of the area\n",
    "* **Shops_1, Shops_2** - metrics related to the presence of shops, shopping centers\n",
    "* **Price** - price of flat"
   ]
  },
  {
   "cell_type": "code",
   "execution_count": 9,
   "metadata": {
    "execution": {
     "iopub.execute_input": "2022-01-06T15:47:01.199151Z",
     "iopub.status.busy": "2022-01-06T15:47:01.198505Z",
     "iopub.status.idle": "2022-01-06T15:47:01.291864Z",
     "shell.execute_reply": "2022-01-06T15:47:01.291177Z",
     "shell.execute_reply.started": "2022-01-06T15:45:45.370073Z"
    },
    "papermill": {
     "duration": 0.17959,
     "end_time": "2022-01-06T15:47:01.291988",
     "exception": false,
     "start_time": "2022-01-06T15:47:01.112398",
     "status": "completed"
    },
    "tags": []
   },
   "outputs": [
    {
     "data": {
      "text/html": [
       "<div>\n",
       "<style scoped>\n",
       "    .dataframe tbody tr th:only-of-type {\n",
       "        vertical-align: middle;\n",
       "    }\n",
       "\n",
       "    .dataframe tbody tr th {\n",
       "        vertical-align: top;\n",
       "    }\n",
       "\n",
       "    .dataframe thead th {\n",
       "        text-align: right;\n",
       "    }\n",
       "</style>\n",
       "<table border=\"1\" class=\"dataframe\">\n",
       "  <thead>\n",
       "    <tr style=\"text-align: right;\">\n",
       "      <th></th>\n",
       "      <th>Id</th>\n",
       "      <th>DistrictId</th>\n",
       "      <th>Rooms</th>\n",
       "      <th>Square</th>\n",
       "      <th>LifeSquare</th>\n",
       "      <th>KitchenSquare</th>\n",
       "      <th>Floor</th>\n",
       "      <th>HouseFloor</th>\n",
       "      <th>HouseYear</th>\n",
       "      <th>Ecology_1</th>\n",
       "      <th>Ecology_2</th>\n",
       "      <th>Ecology_3</th>\n",
       "      <th>Social_1</th>\n",
       "      <th>Social_2</th>\n",
       "      <th>Social_3</th>\n",
       "      <th>Healthcare_1</th>\n",
       "      <th>Helthcare_2</th>\n",
       "      <th>Shops_1</th>\n",
       "      <th>Shops_2</th>\n",
       "      <th>Price</th>\n",
       "    </tr>\n",
       "  </thead>\n",
       "  <tbody>\n",
       "    <tr>\n",
       "      <th>9995</th>\n",
       "      <td>1260</td>\n",
       "      <td>61</td>\n",
       "      <td>2.0</td>\n",
       "      <td>49.090728</td>\n",
       "      <td>33.272626</td>\n",
       "      <td>6.0</td>\n",
       "      <td>3</td>\n",
       "      <td>12.0</td>\n",
       "      <td>1981</td>\n",
       "      <td>0.300323</td>\n",
       "      <td>B</td>\n",
       "      <td>B</td>\n",
       "      <td>52</td>\n",
       "      <td>10311</td>\n",
       "      <td>6</td>\n",
       "      <td>NaN</td>\n",
       "      <td>1</td>\n",
       "      <td>9</td>\n",
       "      <td>B</td>\n",
       "      <td>119367.455796</td>\n",
       "    </tr>\n",
       "    <tr>\n",
       "      <th>9996</th>\n",
       "      <td>16265</td>\n",
       "      <td>27</td>\n",
       "      <td>2.0</td>\n",
       "      <td>64.307684</td>\n",
       "      <td>37.038420</td>\n",
       "      <td>9.0</td>\n",
       "      <td>13</td>\n",
       "      <td>0.0</td>\n",
       "      <td>1977</td>\n",
       "      <td>0.072158</td>\n",
       "      <td>B</td>\n",
       "      <td>B</td>\n",
       "      <td>2</td>\n",
       "      <td>629</td>\n",
       "      <td>1</td>\n",
       "      <td>NaN</td>\n",
       "      <td>0</td>\n",
       "      <td>0</td>\n",
       "      <td>A</td>\n",
       "      <td>199715.148807</td>\n",
       "    </tr>\n",
       "    <tr>\n",
       "      <th>9997</th>\n",
       "      <td>2795</td>\n",
       "      <td>178</td>\n",
       "      <td>1.0</td>\n",
       "      <td>29.648057</td>\n",
       "      <td>16.555363</td>\n",
       "      <td>5.0</td>\n",
       "      <td>3</td>\n",
       "      <td>5.0</td>\n",
       "      <td>1958</td>\n",
       "      <td>0.460556</td>\n",
       "      <td>B</td>\n",
       "      <td>B</td>\n",
       "      <td>20</td>\n",
       "      <td>4386</td>\n",
       "      <td>14</td>\n",
       "      <td>NaN</td>\n",
       "      <td>1</td>\n",
       "      <td>5</td>\n",
       "      <td>B</td>\n",
       "      <td>165953.912580</td>\n",
       "    </tr>\n",
       "    <tr>\n",
       "      <th>9998</th>\n",
       "      <td>14561</td>\n",
       "      <td>21</td>\n",
       "      <td>1.0</td>\n",
       "      <td>32.330292</td>\n",
       "      <td>22.326870</td>\n",
       "      <td>5.0</td>\n",
       "      <td>3</td>\n",
       "      <td>9.0</td>\n",
       "      <td>1969</td>\n",
       "      <td>0.194489</td>\n",
       "      <td>B</td>\n",
       "      <td>B</td>\n",
       "      <td>47</td>\n",
       "      <td>8004</td>\n",
       "      <td>3</td>\n",
       "      <td>125.0</td>\n",
       "      <td>3</td>\n",
       "      <td>5</td>\n",
       "      <td>B</td>\n",
       "      <td>171842.411855</td>\n",
       "    </tr>\n",
       "    <tr>\n",
       "      <th>9999</th>\n",
       "      <td>7202</td>\n",
       "      <td>94</td>\n",
       "      <td>1.0</td>\n",
       "      <td>35.815476</td>\n",
       "      <td>22.301367</td>\n",
       "      <td>6.0</td>\n",
       "      <td>9</td>\n",
       "      <td>9.0</td>\n",
       "      <td>1975</td>\n",
       "      <td>0.127376</td>\n",
       "      <td>B</td>\n",
       "      <td>B</td>\n",
       "      <td>43</td>\n",
       "      <td>8429</td>\n",
       "      <td>3</td>\n",
       "      <td>NaN</td>\n",
       "      <td>3</td>\n",
       "      <td>9</td>\n",
       "      <td>B</td>\n",
       "      <td>177685.627486</td>\n",
       "    </tr>\n",
       "  </tbody>\n",
       "</table>\n",
       "</div>"
      ],
      "text/plain": [
       "         Id  DistrictId  Rooms     Square  LifeSquare  KitchenSquare  Floor  \\\n",
       "9995   1260          61    2.0  49.090728   33.272626            6.0      3   \n",
       "9996  16265          27    2.0  64.307684   37.038420            9.0     13   \n",
       "9997   2795         178    1.0  29.648057   16.555363            5.0      3   \n",
       "9998  14561          21    1.0  32.330292   22.326870            5.0      3   \n",
       "9999   7202          94    1.0  35.815476   22.301367            6.0      9   \n",
       "\n",
       "      HouseFloor  HouseYear  Ecology_1 Ecology_2 Ecology_3  Social_1  \\\n",
       "9995        12.0       1981   0.300323         B         B        52   \n",
       "9996         0.0       1977   0.072158         B         B         2   \n",
       "9997         5.0       1958   0.460556         B         B        20   \n",
       "9998         9.0       1969   0.194489         B         B        47   \n",
       "9999         9.0       1975   0.127376         B         B        43   \n",
       "\n",
       "      Social_2  Social_3  Healthcare_1  Helthcare_2  Shops_1 Shops_2  \\\n",
       "9995     10311         6           NaN            1        9       B   \n",
       "9996       629         1           NaN            0        0       A   \n",
       "9997      4386        14           NaN            1        5       B   \n",
       "9998      8004         3         125.0            3        5       B   \n",
       "9999      8429         3           NaN            3        9       B   \n",
       "\n",
       "              Price  \n",
       "9995  119367.455796  \n",
       "9996  199715.148807  \n",
       "9997  165953.912580  \n",
       "9998  171842.411855  \n",
       "9999  177685.627486  "
      ]
     },
     "execution_count": 9,
     "metadata": {},
     "output_type": "execute_result"
    }
   ],
   "source": [
    "train_df = pd.read_csv(TRAIN_DATASET_PATH)\n",
    "train_df.tail()"
   ]
  },
  {
   "cell_type": "code",
   "execution_count": 10,
   "metadata": {
    "execution": {
     "iopub.execute_input": "2022-01-06T15:47:01.463803Z",
     "iopub.status.busy": "2022-01-06T15:47:01.463152Z",
     "iopub.status.idle": "2022-01-06T15:47:01.470385Z",
     "shell.execute_reply": "2022-01-06T15:47:01.471035Z",
     "shell.execute_reply.started": "2022-01-06T15:45:45.438222Z"
    },
    "papermill": {
     "duration": 0.095065,
     "end_time": "2022-01-06T15:47:01.471183",
     "exception": false,
     "start_time": "2022-01-06T15:47:01.376118",
     "status": "completed"
    },
    "tags": []
   },
   "outputs": [
    {
     "data": {
      "text/plain": [
       "Id                 int64\n",
       "DistrictId         int64\n",
       "Rooms            float64\n",
       "Square           float64\n",
       "LifeSquare       float64\n",
       "KitchenSquare    float64\n",
       "Floor              int64\n",
       "HouseFloor       float64\n",
       "HouseYear          int64\n",
       "Ecology_1        float64\n",
       "Ecology_2         object\n",
       "Ecology_3         object\n",
       "Social_1           int64\n",
       "Social_2           int64\n",
       "Social_3           int64\n",
       "Healthcare_1     float64\n",
       "Helthcare_2        int64\n",
       "Shops_1            int64\n",
       "Shops_2           object\n",
       "Price            float64\n",
       "dtype: object"
      ]
     },
     "execution_count": 10,
     "metadata": {},
     "output_type": "execute_result"
    }
   ],
   "source": [
    "train_df.dtypes"
   ]
  },
  {
   "cell_type": "code",
   "execution_count": 11,
   "metadata": {
    "execution": {
     "iopub.execute_input": "2022-01-06T15:47:01.643307Z",
     "iopub.status.busy": "2022-01-06T15:47:01.642645Z",
     "iopub.status.idle": "2022-01-06T15:47:01.710239Z",
     "shell.execute_reply": "2022-01-06T15:47:01.710729Z",
     "shell.execute_reply.started": "2022-01-06T15:45:45.448039Z"
    },
    "papermill": {
     "duration": 0.155402,
     "end_time": "2022-01-06T15:47:01.710888",
     "exception": false,
     "start_time": "2022-01-06T15:47:01.555486",
     "status": "completed"
    },
    "tags": []
   },
   "outputs": [
    {
     "data": {
      "text/html": [
       "<div>\n",
       "<style scoped>\n",
       "    .dataframe tbody tr th:only-of-type {\n",
       "        vertical-align: middle;\n",
       "    }\n",
       "\n",
       "    .dataframe tbody tr th {\n",
       "        vertical-align: top;\n",
       "    }\n",
       "\n",
       "    .dataframe thead th {\n",
       "        text-align: right;\n",
       "    }\n",
       "</style>\n",
       "<table border=\"1\" class=\"dataframe\">\n",
       "  <thead>\n",
       "    <tr style=\"text-align: right;\">\n",
       "      <th></th>\n",
       "      <th>Id</th>\n",
       "      <th>DistrictId</th>\n",
       "      <th>Rooms</th>\n",
       "      <th>Square</th>\n",
       "      <th>LifeSquare</th>\n",
       "      <th>KitchenSquare</th>\n",
       "      <th>Floor</th>\n",
       "      <th>HouseFloor</th>\n",
       "      <th>HouseYear</th>\n",
       "      <th>Ecology_1</th>\n",
       "      <th>Ecology_2</th>\n",
       "      <th>Ecology_3</th>\n",
       "      <th>Social_1</th>\n",
       "      <th>Social_2</th>\n",
       "      <th>Social_3</th>\n",
       "      <th>Healthcare_1</th>\n",
       "      <th>Helthcare_2</th>\n",
       "      <th>Shops_1</th>\n",
       "      <th>Shops_2</th>\n",
       "    </tr>\n",
       "  </thead>\n",
       "  <tbody>\n",
       "    <tr>\n",
       "      <th>4995</th>\n",
       "      <td>10379</td>\n",
       "      <td>29</td>\n",
       "      <td>2.0</td>\n",
       "      <td>43.177521</td>\n",
       "      <td>30.339945</td>\n",
       "      <td>5.0</td>\n",
       "      <td>6</td>\n",
       "      <td>5.0</td>\n",
       "      <td>1962</td>\n",
       "      <td>0.069660</td>\n",
       "      <td>B</td>\n",
       "      <td>B</td>\n",
       "      <td>31</td>\n",
       "      <td>6119</td>\n",
       "      <td>4</td>\n",
       "      <td>NaN</td>\n",
       "      <td>1</td>\n",
       "      <td>2</td>\n",
       "      <td>B</td>\n",
       "    </tr>\n",
       "    <tr>\n",
       "      <th>4996</th>\n",
       "      <td>16138</td>\n",
       "      <td>38</td>\n",
       "      <td>3.0</td>\n",
       "      <td>93.698122</td>\n",
       "      <td>94.521465</td>\n",
       "      <td>10.0</td>\n",
       "      <td>21</td>\n",
       "      <td>27.0</td>\n",
       "      <td>2018</td>\n",
       "      <td>0.060753</td>\n",
       "      <td>B</td>\n",
       "      <td>B</td>\n",
       "      <td>15</td>\n",
       "      <td>2787</td>\n",
       "      <td>2</td>\n",
       "      <td>520.0</td>\n",
       "      <td>0</td>\n",
       "      <td>7</td>\n",
       "      <td>B</td>\n",
       "    </tr>\n",
       "    <tr>\n",
       "      <th>4997</th>\n",
       "      <td>3912</td>\n",
       "      <td>101</td>\n",
       "      <td>1.0</td>\n",
       "      <td>33.656723</td>\n",
       "      <td>19.003259</td>\n",
       "      <td>5.0</td>\n",
       "      <td>2</td>\n",
       "      <td>5.0</td>\n",
       "      <td>1966</td>\n",
       "      <td>0.038693</td>\n",
       "      <td>B</td>\n",
       "      <td>B</td>\n",
       "      <td>28</td>\n",
       "      <td>6533</td>\n",
       "      <td>1</td>\n",
       "      <td>1015.0</td>\n",
       "      <td>2</td>\n",
       "      <td>5</td>\n",
       "      <td>B</td>\n",
       "    </tr>\n",
       "    <tr>\n",
       "      <th>4998</th>\n",
       "      <td>5722</td>\n",
       "      <td>10</td>\n",
       "      <td>1.0</td>\n",
       "      <td>38.635155</td>\n",
       "      <td>20.976257</td>\n",
       "      <td>9.0</td>\n",
       "      <td>8</td>\n",
       "      <td>14.0</td>\n",
       "      <td>1970</td>\n",
       "      <td>0.089040</td>\n",
       "      <td>B</td>\n",
       "      <td>B</td>\n",
       "      <td>33</td>\n",
       "      <td>7976</td>\n",
       "      <td>5</td>\n",
       "      <td>NaN</td>\n",
       "      <td>0</td>\n",
       "      <td>11</td>\n",
       "      <td>B</td>\n",
       "    </tr>\n",
       "    <tr>\n",
       "      <th>4999</th>\n",
       "      <td>11004</td>\n",
       "      <td>21</td>\n",
       "      <td>2.0</td>\n",
       "      <td>67.122742</td>\n",
       "      <td>33.944344</td>\n",
       "      <td>13.0</td>\n",
       "      <td>9</td>\n",
       "      <td>17.0</td>\n",
       "      <td>2009</td>\n",
       "      <td>0.194489</td>\n",
       "      <td>B</td>\n",
       "      <td>B</td>\n",
       "      <td>47</td>\n",
       "      <td>8004</td>\n",
       "      <td>3</td>\n",
       "      <td>125.0</td>\n",
       "      <td>3</td>\n",
       "      <td>5</td>\n",
       "      <td>B</td>\n",
       "    </tr>\n",
       "  </tbody>\n",
       "</table>\n",
       "</div>"
      ],
      "text/plain": [
       "         Id  DistrictId  Rooms     Square  LifeSquare  KitchenSquare  Floor  \\\n",
       "4995  10379          29    2.0  43.177521   30.339945            5.0      6   \n",
       "4996  16138          38    3.0  93.698122   94.521465           10.0     21   \n",
       "4997   3912         101    1.0  33.656723   19.003259            5.0      2   \n",
       "4998   5722          10    1.0  38.635155   20.976257            9.0      8   \n",
       "4999  11004          21    2.0  67.122742   33.944344           13.0      9   \n",
       "\n",
       "      HouseFloor  HouseYear  Ecology_1 Ecology_2 Ecology_3  Social_1  \\\n",
       "4995         5.0       1962   0.069660         B         B        31   \n",
       "4996        27.0       2018   0.060753         B         B        15   \n",
       "4997         5.0       1966   0.038693         B         B        28   \n",
       "4998        14.0       1970   0.089040         B         B        33   \n",
       "4999        17.0       2009   0.194489         B         B        47   \n",
       "\n",
       "      Social_2  Social_3  Healthcare_1  Helthcare_2  Shops_1 Shops_2  \n",
       "4995      6119         4           NaN            1        2       B  \n",
       "4996      2787         2         520.0            0        7       B  \n",
       "4997      6533         1        1015.0            2        5       B  \n",
       "4998      7976         5           NaN            0       11       B  \n",
       "4999      8004         3         125.0            3        5       B  "
      ]
     },
     "execution_count": 11,
     "metadata": {},
     "output_type": "execute_result"
    }
   ],
   "source": [
    "test_df = pd.read_csv(TEST_DATASET_PATH)\n",
    "test_df.tail()"
   ]
  },
  {
   "cell_type": "code",
   "execution_count": 12,
   "metadata": {
    "execution": {
     "iopub.execute_input": "2022-01-06T15:47:01.889280Z",
     "iopub.status.busy": "2022-01-06T15:47:01.888349Z",
     "iopub.status.idle": "2022-01-06T15:47:01.892128Z",
     "shell.execute_reply": "2022-01-06T15:47:01.892882Z",
     "shell.execute_reply.started": "2022-01-06T15:45:45.530651Z"
    },
    "papermill": {
     "duration": 0.097122,
     "end_time": "2022-01-06T15:47:01.893090",
     "exception": false,
     "start_time": "2022-01-06T15:47:01.795968",
     "status": "completed"
    },
    "tags": []
   },
   "outputs": [
    {
     "name": "stdout",
     "output_type": "stream",
     "text": [
      "Lines in train dataset: 10000\n",
      "Lines in test dataset: 5000\n"
     ]
    }
   ],
   "source": [
    "print('Lines in train dataset:', train_df.shape[0])\n",
    "print('Lines in test dataset:', test_df.shape[0])"
   ]
  },
  {
   "cell_type": "code",
   "execution_count": 13,
   "metadata": {
    "execution": {
     "iopub.execute_input": "2022-01-06T15:47:02.072433Z",
     "iopub.status.busy": "2022-01-06T15:47:02.071797Z",
     "iopub.status.idle": "2022-01-06T15:47:02.078594Z",
     "shell.execute_reply": "2022-01-06T15:47:02.078090Z",
     "shell.execute_reply.started": "2022-01-06T15:45:45.540447Z"
    },
    "papermill": {
     "duration": 0.097663,
     "end_time": "2022-01-06T15:47:02.078754",
     "exception": false,
     "start_time": "2022-01-06T15:47:01.981091",
     "status": "completed"
    },
    "tags": []
   },
   "outputs": [
    {
     "data": {
      "text/plain": [
       "True"
      ]
     },
     "execution_count": 13,
     "metadata": {},
     "output_type": "execute_result"
    }
   ],
   "source": [
    "train_df.shape[1] - 1 == test_df.shape[1]"
   ]
  },
  {
   "cell_type": "markdown",
   "metadata": {
    "papermill": {
     "duration": 0.086996,
     "end_time": "2022-01-06T15:47:02.303044",
     "exception": false,
     "start_time": "2022-01-06T15:47:02.216048",
     "status": "completed"
    },
    "tags": []
   },
   "source": [
    "### **Types cast**"
   ]
  },
  {
   "cell_type": "code",
   "execution_count": 14,
   "metadata": {
    "execution": {
     "iopub.execute_input": "2022-01-06T15:47:02.478925Z",
     "iopub.status.busy": "2022-01-06T15:47:02.478161Z",
     "iopub.status.idle": "2022-01-06T15:47:02.485089Z",
     "shell.execute_reply": "2022-01-06T15:47:02.485648Z",
     "shell.execute_reply.started": "2022-01-06T15:45:45.556807Z"
    },
    "papermill": {
     "duration": 0.096799,
     "end_time": "2022-01-06T15:47:02.485814",
     "exception": false,
     "start_time": "2022-01-06T15:47:02.389015",
     "status": "completed"
    },
    "tags": []
   },
   "outputs": [
    {
     "data": {
      "text/plain": [
       "Id                 int64\n",
       "DistrictId         int64\n",
       "Rooms            float64\n",
       "Square           float64\n",
       "LifeSquare       float64\n",
       "KitchenSquare    float64\n",
       "Floor              int64\n",
       "HouseFloor       float64\n",
       "HouseYear          int64\n",
       "Ecology_1        float64\n",
       "Ecology_2         object\n",
       "Ecology_3         object\n",
       "Social_1           int64\n",
       "Social_2           int64\n",
       "Social_3           int64\n",
       "Healthcare_1     float64\n",
       "Helthcare_2        int64\n",
       "Shops_1            int64\n",
       "Shops_2           object\n",
       "Price            float64\n",
       "dtype: object"
      ]
     },
     "execution_count": 14,
     "metadata": {},
     "output_type": "execute_result"
    }
   ],
   "source": [
    "train_df.dtypes"
   ]
  },
  {
   "cell_type": "code",
   "execution_count": 15,
   "metadata": {
    "execution": {
     "iopub.execute_input": "2022-01-06T15:47:02.678764Z",
     "iopub.status.busy": "2022-01-06T15:47:02.677980Z",
     "iopub.status.idle": "2022-01-06T15:47:02.681653Z",
     "shell.execute_reply": "2022-01-06T15:47:02.681144Z",
     "shell.execute_reply.started": "2022-01-06T15:45:45.574382Z"
    },
    "papermill": {
     "duration": 0.108358,
     "end_time": "2022-01-06T15:47:02.681798",
     "exception": false,
     "start_time": "2022-01-06T15:47:02.573440",
     "status": "completed"
    },
    "tags": []
   },
   "outputs": [],
   "source": [
    "train_df['Id'] = train_df['Id'].astype(str)\n",
    "train_df['DistrictId'] = train_df['DistrictId'].astype(str)"
   ]
  },
  {
   "cell_type": "markdown",
   "metadata": {
    "papermill": {
     "duration": 0.08714,
     "end_time": "2022-01-06T15:47:02.857158",
     "exception": false,
     "start_time": "2022-01-06T15:47:02.770018",
     "status": "completed"
    },
    "tags": []
   },
   "source": [
    "## **1. EDA**  <a class='anchor' id='eda'>\n",
    "We use EDA for:\n",
    "- processing outliers\n",
    "- filling NaN gaps\n",
    "- finding ideas for new features"
   ]
  },
  {
   "cell_type": "markdown",
   "metadata": {
    "papermill": {
     "duration": 0.08584,
     "end_time": "2022-01-06T15:47:03.031102",
     "exception": false,
     "start_time": "2022-01-06T15:47:02.945262",
     "status": "completed"
    },
    "tags": []
   },
   "source": [
    "**Target variable**"
   ]
  },
  {
   "cell_type": "code",
   "execution_count": 16,
   "metadata": {
    "execution": {
     "iopub.execute_input": "2022-01-06T15:47:03.210841Z",
     "iopub.status.busy": "2022-01-06T15:47:03.209792Z",
     "iopub.status.idle": "2022-01-06T15:47:03.511026Z",
     "shell.execute_reply": "2022-01-06T15:47:03.510113Z",
     "shell.execute_reply.started": "2022-01-06T15:45:45.599843Z"
    },
    "papermill": {
     "duration": 0.392053,
     "end_time": "2022-01-06T15:47:03.511170",
     "exception": false,
     "start_time": "2022-01-06T15:47:03.119117",
     "status": "completed"
    },
    "tags": []
   },
   "outputs": [
    {
     "data": {
      "image/png": "[encoded data removed]",
      "text/plain": [
       "<Figure size 1152x576 with 1 Axes>"
      ]
     },
     "metadata": {
      "needs_background": "light"
     },
     "output_type": "display_data"
    }
   ],
   "source": [
    "plt.figure(figsize = (16, 8))\n",
    "\n",
    "train_df['Price'].hist(bins=30)\n",
    "plt.ylabel('Count')\n",
    "plt.xlabel('Price')\n",
    "\n",
    "plt.title('Target distribution')\n",
    "plt.show()"
   ]
  },
  {
   "cell_type": "markdown",
   "metadata": {
    "papermill": {
     "duration": 0.087291,
     "end_time": "2022-01-06T15:47:03.687639",
     "exception": false,
     "start_time": "2022-01-06T15:47:03.600348",
     "status": "completed"
    },
    "tags": []
   },
   "source": [
    "**Quantitative variables**"
   ]
  },
  {
   "cell_type": "code",
   "execution_count": 17,
   "metadata": {
    "_kg_hide-output": true,
    "execution": {
     "iopub.execute_input": "2022-01-06T15:47:03.873616Z",
     "iopub.status.busy": "2022-01-06T15:47:03.872932Z",
     "iopub.status.idle": "2022-01-06T15:47:03.934211Z",
     "shell.execute_reply": "2022-01-06T15:47:03.933617Z",
     "shell.execute_reply.started": "2022-01-06T15:45:45.863161Z"
    },
    "papermill": {
     "duration": 0.158506,
     "end_time": "2022-01-06T15:47:03.934330",
     "exception": false,
     "start_time": "2022-01-06T15:47:03.775824",
     "status": "completed"
    },
    "tags": []
   },
   "outputs": [
    {
     "data": {
      "text/html": [
       "<div>\n",
       "<style scoped>\n",
       "    .dataframe tbody tr th:only-of-type {\n",
       "        vertical-align: middle;\n",
       "    }\n",
       "\n",
       "    .dataframe tbody tr th {\n",
       "        vertical-align: top;\n",
       "    }\n",
       "\n",
       "    .dataframe thead th {\n",
       "        text-align: right;\n",
       "    }\n",
       "</style>\n",
       "<table border=\"1\" class=\"dataframe\">\n",
       "  <thead>\n",
       "    <tr style=\"text-align: right;\">\n",
       "      <th></th>\n",
       "      <th>Rooms</th>\n",
       "      <th>Square</th>\n",
       "      <th>LifeSquare</th>\n",
       "      <th>KitchenSquare</th>\n",
       "      <th>Floor</th>\n",
       "      <th>HouseFloor</th>\n",
       "      <th>HouseYear</th>\n",
       "      <th>Ecology_1</th>\n",
       "      <th>Social_1</th>\n",
       "      <th>Social_2</th>\n",
       "      <th>Social_3</th>\n",
       "      <th>Healthcare_1</th>\n",
       "      <th>Helthcare_2</th>\n",
       "      <th>Shops_1</th>\n",
       "      <th>Price</th>\n",
       "    </tr>\n",
       "  </thead>\n",
       "  <tbody>\n",
       "    <tr>\n",
       "      <th>count</th>\n",
       "      <td>10000.000000</td>\n",
       "      <td>10000.000000</td>\n",
       "      <td>7887.000000</td>\n",
       "      <td>10000.000000</td>\n",
       "      <td>10000.000000</td>\n",
       "      <td>10000.000000</td>\n",
       "      <td>1.000000e+04</td>\n",
       "      <td>10000.000000</td>\n",
       "      <td>10000.000000</td>\n",
       "      <td>10000.000000</td>\n",
       "      <td>10000.000000</td>\n",
       "      <td>5202.000000</td>\n",
       "      <td>10000.000000</td>\n",
       "      <td>10000.000000</td>\n",
       "      <td>10000.000000</td>\n",
       "    </tr>\n",
       "    <tr>\n",
       "      <th>mean</th>\n",
       "      <td>1.890500</td>\n",
       "      <td>56.315775</td>\n",
       "      <td>37.199645</td>\n",
       "      <td>6.273300</td>\n",
       "      <td>8.526700</td>\n",
       "      <td>12.609400</td>\n",
       "      <td>3.990166e+03</td>\n",
       "      <td>0.118858</td>\n",
       "      <td>24.687000</td>\n",
       "      <td>5352.157400</td>\n",
       "      <td>8.039200</td>\n",
       "      <td>1142.904460</td>\n",
       "      <td>1.319500</td>\n",
       "      <td>4.231300</td>\n",
       "      <td>214138.857399</td>\n",
       "    </tr>\n",
       "    <tr>\n",
       "      <th>std</th>\n",
       "      <td>0.839512</td>\n",
       "      <td>21.058732</td>\n",
       "      <td>86.241209</td>\n",
       "      <td>28.560917</td>\n",
       "      <td>5.241148</td>\n",
       "      <td>6.775974</td>\n",
       "      <td>2.005003e+05</td>\n",
       "      <td>0.119025</td>\n",
       "      <td>17.532614</td>\n",
       "      <td>4006.799803</td>\n",
       "      <td>23.831875</td>\n",
       "      <td>1021.517264</td>\n",
       "      <td>1.493601</td>\n",
       "      <td>4.806341</td>\n",
       "      <td>92872.293865</td>\n",
       "    </tr>\n",
       "    <tr>\n",
       "      <th>min</th>\n",
       "      <td>0.000000</td>\n",
       "      <td>1.136859</td>\n",
       "      <td>0.370619</td>\n",
       "      <td>0.000000</td>\n",
       "      <td>1.000000</td>\n",
       "      <td>0.000000</td>\n",
       "      <td>1.910000e+03</td>\n",
       "      <td>0.000000</td>\n",
       "      <td>0.000000</td>\n",
       "      <td>168.000000</td>\n",
       "      <td>0.000000</td>\n",
       "      <td>0.000000</td>\n",
       "      <td>0.000000</td>\n",
       "      <td>0.000000</td>\n",
       "      <td>59174.778028</td>\n",
       "    </tr>\n",
       "    <tr>\n",
       "      <th>25%</th>\n",
       "      <td>1.000000</td>\n",
       "      <td>41.774881</td>\n",
       "      <td>22.769832</td>\n",
       "      <td>1.000000</td>\n",
       "      <td>4.000000</td>\n",
       "      <td>9.000000</td>\n",
       "      <td>1.974000e+03</td>\n",
       "      <td>0.017647</td>\n",
       "      <td>6.000000</td>\n",
       "      <td>1564.000000</td>\n",
       "      <td>0.000000</td>\n",
       "      <td>350.000000</td>\n",
       "      <td>0.000000</td>\n",
       "      <td>1.000000</td>\n",
       "      <td>153872.633942</td>\n",
       "    </tr>\n",
       "    <tr>\n",
       "      <th>50%</th>\n",
       "      <td>2.000000</td>\n",
       "      <td>52.513310</td>\n",
       "      <td>32.781260</td>\n",
       "      <td>6.000000</td>\n",
       "      <td>7.000000</td>\n",
       "      <td>13.000000</td>\n",
       "      <td>1.977000e+03</td>\n",
       "      <td>0.075424</td>\n",
       "      <td>25.000000</td>\n",
       "      <td>5285.000000</td>\n",
       "      <td>2.000000</td>\n",
       "      <td>900.000000</td>\n",
       "      <td>1.000000</td>\n",
       "      <td>3.000000</td>\n",
       "      <td>192269.644879</td>\n",
       "    </tr>\n",
       "    <tr>\n",
       "      <th>75%</th>\n",
       "      <td>2.000000</td>\n",
       "      <td>65.900625</td>\n",
       "      <td>45.128803</td>\n",
       "      <td>9.000000</td>\n",
       "      <td>12.000000</td>\n",
       "      <td>17.000000</td>\n",
       "      <td>2.001000e+03</td>\n",
       "      <td>0.195781</td>\n",
       "      <td>36.000000</td>\n",
       "      <td>7227.000000</td>\n",
       "      <td>5.000000</td>\n",
       "      <td>1548.000000</td>\n",
       "      <td>2.000000</td>\n",
       "      <td>6.000000</td>\n",
       "      <td>249135.462171</td>\n",
       "    </tr>\n",
       "    <tr>\n",
       "      <th>max</th>\n",
       "      <td>19.000000</td>\n",
       "      <td>641.065193</td>\n",
       "      <td>7480.592129</td>\n",
       "      <td>2014.000000</td>\n",
       "      <td>42.000000</td>\n",
       "      <td>117.000000</td>\n",
       "      <td>2.005201e+07</td>\n",
       "      <td>0.521867</td>\n",
       "      <td>74.000000</td>\n",
       "      <td>19083.000000</td>\n",
       "      <td>141.000000</td>\n",
       "      <td>4849.000000</td>\n",
       "      <td>6.000000</td>\n",
       "      <td>23.000000</td>\n",
       "      <td>633233.466570</td>\n",
       "    </tr>\n",
       "  </tbody>\n",
       "</table>\n",
       "</div>"
      ],
      "text/plain": [
       "              Rooms        Square   LifeSquare  KitchenSquare         Floor  \\\n",
       "count  10000.000000  10000.000000  7887.000000   10000.000000  10000.000000   \n",
       "mean       1.890500     56.315775    37.199645       6.273300      8.526700   \n",
       "std        0.839512     21.058732    86.241209      28.560917      5.241148   \n",
       "min        0.000000      1.136859     0.370619       0.000000      1.000000   \n",
       "25%        1.000000     41.774881    22.769832       1.000000      4.000000   \n",
       "50%        2.000000     52.513310    32.781260       6.000000      7.000000   \n",
       "75%        2.000000     65.900625    45.128803       9.000000     12.000000   \n",
       "max       19.000000    641.065193  7480.592129    2014.000000     42.000000   \n",
       "\n",
       "         HouseFloor     HouseYear     Ecology_1      Social_1      Social_2  \\\n",
       "count  10000.000000  1.000000e+04  10000.000000  10000.000000  10000.000000   \n",
       "mean      12.609400  3.990166e+03      0.118858     24.687000   5352.157400   \n",
       "std        6.775974  2.005003e+05      0.119025     17.532614   4006.799803   \n",
       "min        0.000000  1.910000e+03      0.000000      0.000000    168.000000   \n",
       "25%        9.000000  1.974000e+03      0.017647      6.000000   1564.000000   \n",
       "50%       13.000000  1.977000e+03      0.075424     25.000000   5285.000000   \n",
       "75%       17.000000  2.001000e+03      0.195781     36.000000   7227.000000   \n",
       "max      117.000000  2.005201e+07      0.521867     74.000000  19083.000000   \n",
       "\n",
       "           Social_3  Healthcare_1   Helthcare_2       Shops_1          Price  \n",
       "count  10000.000000   5202.000000  10000.000000  10000.000000   10000.000000  \n",
       "mean       8.039200   1142.904460      1.319500      4.231300  214138.857399  \n",
       "std       23.831875   1021.517264      1.493601      4.806341   92872.293865  \n",
       "min        0.000000      0.000000      0.000000      0.000000   59174.778028  \n",
       "25%        0.000000    350.000000      0.000000      1.000000  153872.633942  \n",
       "50%        2.000000    900.000000      1.000000      3.000000  192269.644879  \n",
       "75%        5.000000   1548.000000      2.000000      6.000000  249135.462171  \n",
       "max      141.000000   4849.000000      6.000000     23.000000  633233.466570  "
      ]
     },
     "execution_count": 17,
     "metadata": {},
     "output_type": "execute_result"
    }
   ],
   "source": [
    "train_df.describe()"
   ]
  },
  {
   "cell_type": "markdown",
   "metadata": {
    "papermill": {
     "duration": 0.088509,
     "end_time": "2022-01-06T15:47:04.111731",
     "exception": false,
     "start_time": "2022-01-06T15:47:04.023222",
     "status": "completed"
    },
    "tags": []
   },
   "source": [
    "**Nominative variables**"
   ]
  },
  {
   "cell_type": "code",
   "execution_count": 18,
   "metadata": {
    "execution": {
     "iopub.execute_input": "2022-01-06T15:47:04.295435Z",
     "iopub.status.busy": "2022-01-06T15:47:04.294772Z",
     "iopub.status.idle": "2022-01-06T15:47:04.299634Z",
     "shell.execute_reply": "2022-01-06T15:47:04.300167Z",
     "shell.execute_reply.started": "2022-01-06T15:45:45.928499Z"
    },
    "papermill": {
     "duration": 0.100793,
     "end_time": "2022-01-06T15:47:04.300313",
     "exception": false,
     "start_time": "2022-01-06T15:47:04.199520",
     "status": "completed"
    },
    "tags": []
   },
   "outputs": [
    {
     "data": {
      "text/plain": [
       "['Id', 'DistrictId', 'Ecology_2', 'Ecology_3', 'Shops_2']"
      ]
     },
     "execution_count": 18,
     "metadata": {},
     "output_type": "execute_result"
    }
   ],
   "source": [
    "train_df.select_dtypes(include='object').columns.tolist()"
   ]
  },
  {
   "cell_type": "code",
   "execution_count": 19,
   "metadata": {
    "execution": {
     "iopub.execute_input": "2022-01-06T15:47:04.488977Z",
     "iopub.status.busy": "2022-01-06T15:47:04.488261Z",
     "iopub.status.idle": "2022-01-06T15:47:04.491266Z",
     "shell.execute_reply": "2022-01-06T15:47:04.491781Z",
     "shell.execute_reply.started": "2022-01-06T15:45:45.938983Z"
    },
    "papermill": {
     "duration": 0.102718,
     "end_time": "2022-01-06T15:47:04.491938",
     "exception": false,
     "start_time": "2022-01-06T15:47:04.389220",
     "status": "completed"
    },
    "tags": []
   },
   "outputs": [
    {
     "data": {
      "text/plain": [
       "27     851\n",
       "1      652\n",
       "23     565\n",
       "6      511\n",
       "9      294\n",
       "      ... \n",
       "205      1\n",
       "207      1\n",
       "196      1\n",
       "199      1\n",
       "117      1\n",
       "Name: DistrictId, Length: 205, dtype: int64"
      ]
     },
     "execution_count": 19,
     "metadata": {},
     "output_type": "execute_result"
    }
   ],
   "source": [
    "train_df['DistrictId'].value_counts()"
   ]
  },
  {
   "cell_type": "code",
   "execution_count": 20,
   "metadata": {
    "execution": {
     "iopub.execute_input": "2022-01-06T15:47:04.672340Z",
     "iopub.status.busy": "2022-01-06T15:47:04.671644Z",
     "iopub.status.idle": "2022-01-06T15:47:04.681224Z",
     "shell.execute_reply": "2022-01-06T15:47:04.681707Z",
     "shell.execute_reply.started": "2022-01-06T15:45:45.958506Z"
    },
    "papermill": {
     "duration": 0.101297,
     "end_time": "2022-01-06T15:47:04.681864",
     "exception": false,
     "start_time": "2022-01-06T15:47:04.580567",
     "status": "completed"
    },
    "tags": []
   },
   "outputs": [
    {
     "data": {
      "text/plain": [
       "B    9903\n",
       "A      97\n",
       "Name: Ecology_2, dtype: int64"
      ]
     },
     "execution_count": 20,
     "metadata": {},
     "output_type": "execute_result"
    }
   ],
   "source": [
    "train_df['Ecology_2'].value_counts()"
   ]
  },
  {
   "cell_type": "code",
   "execution_count": 21,
   "metadata": {
    "execution": {
     "iopub.execute_input": "2022-01-06T15:47:04.863123Z",
     "iopub.status.busy": "2022-01-06T15:47:04.862107Z",
     "iopub.status.idle": "2022-01-06T15:47:04.872404Z",
     "shell.execute_reply": "2022-01-06T15:47:04.873006Z",
     "shell.execute_reply.started": "2022-01-06T15:45:45.972025Z"
    },
    "papermill": {
     "duration": 0.102133,
     "end_time": "2022-01-06T15:47:04.873162",
     "exception": false,
     "start_time": "2022-01-06T15:47:04.771029",
     "status": "completed"
    },
    "tags": []
   },
   "outputs": [
    {
     "data": {
      "text/plain": [
       "B    9725\n",
       "A     275\n",
       "Name: Ecology_3, dtype: int64"
      ]
     },
     "execution_count": 21,
     "metadata": {},
     "output_type": "execute_result"
    }
   ],
   "source": [
    "train_df['Ecology_3'].value_counts()"
   ]
  },
  {
   "cell_type": "code",
   "execution_count": 22,
   "metadata": {
    "execution": {
     "iopub.execute_input": "2022-01-06T15:47:05.056726Z",
     "iopub.status.busy": "2022-01-06T15:47:05.055613Z",
     "iopub.status.idle": "2022-01-06T15:47:05.066291Z",
     "shell.execute_reply": "2022-01-06T15:47:05.066936Z",
     "shell.execute_reply.started": "2022-01-06T15:45:45.988276Z"
    },
    "papermill": {
     "duration": 0.104756,
     "end_time": "2022-01-06T15:47:05.067094",
     "exception": false,
     "start_time": "2022-01-06T15:47:04.962338",
     "status": "completed"
    },
    "tags": []
   },
   "outputs": [
    {
     "data": {
      "text/plain": [
       "B    9175\n",
       "A     825\n",
       "Name: Shops_2, dtype: int64"
      ]
     },
     "execution_count": 22,
     "metadata": {},
     "output_type": "execute_result"
    }
   ],
   "source": [
    "train_df['Shops_2'].value_counts()"
   ]
  },
  {
   "cell_type": "markdown",
   "metadata": {
    "papermill": {
     "duration": 0.090207,
     "end_time": "2022-01-06T15:47:05.248394",
     "exception": false,
     "start_time": "2022-01-06T15:47:05.158187",
     "status": "completed"
    },
    "tags": []
   },
   "source": [
    "### **2. Processing outliers**  <a class='anchor' id='outlier'>\n",
    "What we can do with outliers?\n",
    "1. Drop these data on train\n",
    "2. Replace them with medians, mean values, np.clip, etc\n",
    "3. Create an additional feature by outlier data\n",
    "4. Leave them alone :)"
   ]
  },
  {
   "cell_type": "markdown",
   "metadata": {
    "papermill": {
     "duration": 0.088711,
     "end_time": "2022-01-06T15:47:05.426461",
     "exception": false,
     "start_time": "2022-01-06T15:47:05.337750",
     "status": "completed"
    },
    "tags": []
   },
   "source": [
    "**Rooms**"
   ]
  },
  {
   "cell_type": "code",
   "execution_count": 23,
   "metadata": {
    "execution": {
     "iopub.execute_input": "2022-01-06T15:47:05.609055Z",
     "iopub.status.busy": "2022-01-06T15:47:05.608046Z",
     "iopub.status.idle": "2022-01-06T15:47:05.615853Z",
     "shell.execute_reply": "2022-01-06T15:47:05.616381Z",
     "shell.execute_reply.started": "2022-01-06T15:45:46.003609Z"
    },
    "papermill": {
     "duration": 0.100601,
     "end_time": "2022-01-06T15:47:05.616525",
     "exception": false,
     "start_time": "2022-01-06T15:47:05.515924",
     "status": "completed"
    },
    "scrolled": true,
    "tags": []
   },
   "outputs": [
    {
     "data": {
      "text/plain": [
       "2.0     3880\n",
       "1.0     3705\n",
       "3.0     2235\n",
       "4.0      150\n",
       "5.0       18\n",
       "0.0        8\n",
       "10.0       2\n",
       "6.0        1\n",
       "19.0       1\n",
       "Name: Rooms, dtype: int64"
      ]
     },
     "execution_count": 23,
     "metadata": {},
     "output_type": "execute_result"
    }
   ],
   "source": [
    "train_df['Rooms'].value_counts()"
   ]
  },
  {
   "cell_type": "code",
   "execution_count": 24,
   "metadata": {
    "execution": {
     "iopub.execute_input": "2022-01-06T15:47:05.802639Z",
     "iopub.status.busy": "2022-01-06T15:47:05.801999Z",
     "iopub.status.idle": "2022-01-06T15:47:05.836082Z",
     "shell.execute_reply": "2022-01-06T15:47:05.835338Z",
     "shell.execute_reply.started": "2022-01-06T15:45:46.021301Z"
    },
    "papermill": {
     "duration": 0.128552,
     "end_time": "2022-01-06T15:47:05.836206",
     "exception": false,
     "start_time": "2022-01-06T15:47:05.707654",
     "status": "completed"
    },
    "tags": []
   },
   "outputs": [
    {
     "data": {
      "text/html": [
       "<div>\n",
       "<style scoped>\n",
       "    .dataframe tbody tr th:only-of-type {\n",
       "        vertical-align: middle;\n",
       "    }\n",
       "\n",
       "    .dataframe tbody tr th {\n",
       "        vertical-align: top;\n",
       "    }\n",
       "\n",
       "    .dataframe thead th {\n",
       "        text-align: right;\n",
       "    }\n",
       "</style>\n",
       "<table border=\"1\" class=\"dataframe\">\n",
       "  <thead>\n",
       "    <tr style=\"text-align: right;\">\n",
       "      <th></th>\n",
       "      <th>Id</th>\n",
       "      <th>DistrictId</th>\n",
       "      <th>Rooms</th>\n",
       "      <th>Square</th>\n",
       "      <th>LifeSquare</th>\n",
       "      <th>KitchenSquare</th>\n",
       "      <th>Floor</th>\n",
       "      <th>HouseFloor</th>\n",
       "      <th>HouseYear</th>\n",
       "      <th>Ecology_1</th>\n",
       "      <th>...</th>\n",
       "      <th>Ecology_3</th>\n",
       "      <th>Social_1</th>\n",
       "      <th>Social_2</th>\n",
       "      <th>Social_3</th>\n",
       "      <th>Healthcare_1</th>\n",
       "      <th>Helthcare_2</th>\n",
       "      <th>Shops_1</th>\n",
       "      <th>Shops_2</th>\n",
       "      <th>Price</th>\n",
       "      <th>Rooms_outlier</th>\n",
       "    </tr>\n",
       "  </thead>\n",
       "  <tbody>\n",
       "    <tr>\n",
       "      <th>0</th>\n",
       "      <td>11809</td>\n",
       "      <td>27</td>\n",
       "      <td>3.0</td>\n",
       "      <td>115.027311</td>\n",
       "      <td>NaN</td>\n",
       "      <td>10.0</td>\n",
       "      <td>4</td>\n",
       "      <td>10.0</td>\n",
       "      <td>2014</td>\n",
       "      <td>0.075424</td>\n",
       "      <td>...</td>\n",
       "      <td>B</td>\n",
       "      <td>11</td>\n",
       "      <td>3097</td>\n",
       "      <td>0</td>\n",
       "      <td>NaN</td>\n",
       "      <td>0</td>\n",
       "      <td>0</td>\n",
       "      <td>B</td>\n",
       "      <td>305018.871089</td>\n",
       "      <td>0</td>\n",
       "    </tr>\n",
       "    <tr>\n",
       "      <th>1</th>\n",
       "      <td>3013</td>\n",
       "      <td>22</td>\n",
       "      <td>1.0</td>\n",
       "      <td>39.832524</td>\n",
       "      <td>23.169223</td>\n",
       "      <td>8.0</td>\n",
       "      <td>7</td>\n",
       "      <td>8.0</td>\n",
       "      <td>1966</td>\n",
       "      <td>0.118537</td>\n",
       "      <td>...</td>\n",
       "      <td>B</td>\n",
       "      <td>30</td>\n",
       "      <td>6207</td>\n",
       "      <td>1</td>\n",
       "      <td>1183.0</td>\n",
       "      <td>1</td>\n",
       "      <td>0</td>\n",
       "      <td>B</td>\n",
       "      <td>177734.553407</td>\n",
       "      <td>0</td>\n",
       "    </tr>\n",
       "    <tr>\n",
       "      <th>2</th>\n",
       "      <td>8215</td>\n",
       "      <td>1</td>\n",
       "      <td>3.0</td>\n",
       "      <td>78.342215</td>\n",
       "      <td>47.671972</td>\n",
       "      <td>10.0</td>\n",
       "      <td>2</td>\n",
       "      <td>17.0</td>\n",
       "      <td>1988</td>\n",
       "      <td>0.025609</td>\n",
       "      <td>...</td>\n",
       "      <td>B</td>\n",
       "      <td>33</td>\n",
       "      <td>5261</td>\n",
       "      <td>0</td>\n",
       "      <td>240.0</td>\n",
       "      <td>3</td>\n",
       "      <td>1</td>\n",
       "      <td>B</td>\n",
       "      <td>282078.720850</td>\n",
       "      <td>0</td>\n",
       "    </tr>\n",
       "    <tr>\n",
       "      <th>3</th>\n",
       "      <td>2352</td>\n",
       "      <td>1</td>\n",
       "      <td>1.0</td>\n",
       "      <td>40.409907</td>\n",
       "      <td>NaN</td>\n",
       "      <td>1.0</td>\n",
       "      <td>10</td>\n",
       "      <td>22.0</td>\n",
       "      <td>1977</td>\n",
       "      <td>0.007122</td>\n",
       "      <td>...</td>\n",
       "      <td>B</td>\n",
       "      <td>1</td>\n",
       "      <td>264</td>\n",
       "      <td>0</td>\n",
       "      <td>NaN</td>\n",
       "      <td>0</td>\n",
       "      <td>1</td>\n",
       "      <td>B</td>\n",
       "      <td>168106.007630</td>\n",
       "      <td>0</td>\n",
       "    </tr>\n",
       "    <tr>\n",
       "      <th>4</th>\n",
       "      <td>13866</td>\n",
       "      <td>94</td>\n",
       "      <td>2.0</td>\n",
       "      <td>64.285067</td>\n",
       "      <td>38.562517</td>\n",
       "      <td>9.0</td>\n",
       "      <td>16</td>\n",
       "      <td>16.0</td>\n",
       "      <td>1972</td>\n",
       "      <td>0.282798</td>\n",
       "      <td>...</td>\n",
       "      <td>B</td>\n",
       "      <td>33</td>\n",
       "      <td>8667</td>\n",
       "      <td>2</td>\n",
       "      <td>NaN</td>\n",
       "      <td>0</td>\n",
       "      <td>6</td>\n",
       "      <td>B</td>\n",
       "      <td>343995.102962</td>\n",
       "      <td>0</td>\n",
       "    </tr>\n",
       "  </tbody>\n",
       "</table>\n",
       "<p>5 rows × 21 columns</p>\n",
       "</div>"
      ],
      "text/plain": [
       "      Id DistrictId  Rooms      Square  LifeSquare  KitchenSquare  Floor  \\\n",
       "0  11809         27    3.0  115.027311         NaN           10.0      4   \n",
       "1   3013         22    1.0   39.832524   23.169223            8.0      7   \n",
       "2   8215          1    3.0   78.342215   47.671972           10.0      2   \n",
       "3   2352          1    1.0   40.409907         NaN            1.0     10   \n",
       "4  13866         94    2.0   64.285067   38.562517            9.0     16   \n",
       "\n",
       "   HouseFloor  HouseYear  Ecology_1  ... Ecology_3 Social_1  Social_2  \\\n",
       "0        10.0       2014   0.075424  ...         B       11      3097   \n",
       "1         8.0       1966   0.118537  ...         B       30      6207   \n",
       "2        17.0       1988   0.025609  ...         B       33      5261   \n",
       "3        22.0       1977   0.007122  ...         B        1       264   \n",
       "4        16.0       1972   0.282798  ...         B       33      8667   \n",
       "\n",
       "   Social_3  Healthcare_1  Helthcare_2  Shops_1  Shops_2          Price  \\\n",
       "0         0           NaN            0        0        B  305018.871089   \n",
       "1         1        1183.0            1        0        B  177734.553407   \n",
       "2         0         240.0            3        1        B  282078.720850   \n",
       "3         0           NaN            0        1        B  168106.007630   \n",
       "4         2           NaN            0        6        B  343995.102962   \n",
       "\n",
       "   Rooms_outlier  \n",
       "0              0  \n",
       "1              0  \n",
       "2              0  \n",
       "3              0  \n",
       "4              0  \n",
       "\n",
       "[5 rows x 21 columns]"
      ]
     },
     "execution_count": 24,
     "metadata": {},
     "output_type": "execute_result"
    }
   ],
   "source": [
    "train_df['Rooms_outlier'] = 0\n",
    "train_df.loc[(train_df['Rooms'] == 0) | (train_df['Rooms'] >= 6), 'Rooms_outlier'] = 1\n",
    "train_df.head()"
   ]
  },
  {
   "cell_type": "code",
   "execution_count": 25,
   "metadata": {
    "execution": {
     "iopub.execute_input": "2022-01-06T15:47:06.027568Z",
     "iopub.status.busy": "2022-01-06T15:47:06.026043Z",
     "iopub.status.idle": "2022-01-06T15:47:06.032245Z",
     "shell.execute_reply": "2022-01-06T15:47:06.031657Z",
     "shell.execute_reply.started": "2022-01-06T15:45:46.060688Z"
    },
    "papermill": {
     "duration": 0.103737,
     "end_time": "2022-01-06T15:47:06.032365",
     "exception": false,
     "start_time": "2022-01-06T15:47:05.928628",
     "status": "completed"
    },
    "tags": []
   },
   "outputs": [],
   "source": [
    "rooms_median = train_df['Rooms'].median()\n",
    "train_df.loc[train_df['Rooms'] == 0, 'Rooms'] = 1\n",
    "train_df.loc[train_df['Rooms'] >= 6, 'Rooms'] = rooms_median"
   ]
  },
  {
   "cell_type": "code",
   "execution_count": 26,
   "metadata": {
    "execution": {
     "iopub.execute_input": "2022-01-06T15:47:06.222569Z",
     "iopub.status.busy": "2022-01-06T15:47:06.219947Z",
     "iopub.status.idle": "2022-01-06T15:47:06.227569Z",
     "shell.execute_reply": "2022-01-06T15:47:06.226968Z",
     "shell.execute_reply.started": "2022-01-06T15:45:46.071742Z"
    },
    "papermill": {
     "duration": 0.104059,
     "end_time": "2022-01-06T15:47:06.227703",
     "exception": false,
     "start_time": "2022-01-06T15:47:06.123644",
     "status": "completed"
    },
    "tags": []
   },
   "outputs": [
    {
     "data": {
      "text/plain": [
       "2.0    3884\n",
       "1.0    3713\n",
       "3.0    2235\n",
       "4.0     150\n",
       "5.0      18\n",
       "Name: Rooms, dtype: int64"
      ]
     },
     "execution_count": 26,
     "metadata": {},
     "output_type": "execute_result"
    }
   ],
   "source": [
    "train_df['Rooms'].value_counts()"
   ]
  },
  {
   "cell_type": "markdown",
   "metadata": {
    "papermill": {
     "duration": 0.090741,
     "end_time": "2022-01-06T15:47:06.412625",
     "exception": false,
     "start_time": "2022-01-06T15:47:06.321884",
     "status": "completed"
    },
    "tags": []
   },
   "source": [
    "**KitchenSquare** "
   ]
  },
  {
   "cell_type": "code",
   "execution_count": 27,
   "metadata": {
    "execution": {
     "iopub.execute_input": "2022-01-06T15:47:06.598698Z",
     "iopub.status.busy": "2022-01-06T15:47:06.598046Z",
     "iopub.status.idle": "2022-01-06T15:47:06.607198Z",
     "shell.execute_reply": "2022-01-06T15:47:06.607766Z",
     "shell.execute_reply.started": "2022-01-06T15:45:46.094379Z"
    },
    "papermill": {
     "duration": 0.103697,
     "end_time": "2022-01-06T15:47:06.607926",
     "exception": false,
     "start_time": "2022-01-06T15:47:06.504229",
     "status": "completed"
    },
    "tags": []
   },
   "outputs": [
    {
     "data": {
      "text/plain": [
       "1.0       2460\n",
       "8.0       1306\n",
       "5.0       1169\n",
       "10.0      1075\n",
       "6.0       1038\n",
       "9.0        843\n",
       "0.0        697\n",
       "7.0        609\n",
       "12.0       249\n",
       "11.0       233\n",
       "13.0        67\n",
       "14.0        51\n",
       "4.0         39\n",
       "15.0        31\n",
       "3.0         22\n",
       "16.0        16\n",
       "20.0        14\n",
       "17.0        12\n",
       "19.0        11\n",
       "18.0         6\n",
       "2.0          4\n",
       "22.0         3\n",
       "112.0        2\n",
       "51.0         2\n",
       "58.0         2\n",
       "37.0         2\n",
       "32.0         2\n",
       "41.0         2\n",
       "43.0         2\n",
       "30.0         2\n",
       "25.0         2\n",
       "39.0         1\n",
       "23.0         1\n",
       "123.0        1\n",
       "40.0         1\n",
       "48.0         1\n",
       "21.0         1\n",
       "72.0         1\n",
       "27.0         1\n",
       "63.0         1\n",
       "1970.0       1\n",
       "29.0         1\n",
       "66.0         1\n",
       "2014.0       1\n",
       "31.0         1\n",
       "78.0         1\n",
       "35.0         1\n",
       "42.0         1\n",
       "73.0         1\n",
       "60.0         1\n",
       "84.0         1\n",
       "26.0         1\n",
       "54.0         1\n",
       "36.0         1\n",
       "53.0         1\n",
       "96.0         1\n",
       "62.0         1\n",
       "75.0         1\n",
       "Name: KitchenSquare, dtype: int64"
      ]
     },
     "execution_count": 27,
     "metadata": {},
     "output_type": "execute_result"
    }
   ],
   "source": [
    "train_df['KitchenSquare'].value_counts()"
   ]
  },
  {
   "cell_type": "code",
   "execution_count": 28,
   "metadata": {
    "execution": {
     "iopub.execute_input": "2022-01-06T15:47:06.794795Z",
     "iopub.status.busy": "2022-01-06T15:47:06.794102Z",
     "iopub.status.idle": "2022-01-06T15:47:06.802155Z",
     "shell.execute_reply": "2022-01-06T15:47:06.802717Z",
     "shell.execute_reply.started": "2022-01-06T15:45:46.109917Z"
    },
    "papermill": {
     "duration": 0.103049,
     "end_time": "2022-01-06T15:47:06.802884",
     "exception": false,
     "start_time": "2022-01-06T15:47:06.699835",
     "status": "completed"
    },
    "tags": []
   },
   "outputs": [
    {
     "data": {
      "text/plain": [
       "(12.0, 0.0)"
      ]
     },
     "execution_count": 28,
     "metadata": {},
     "output_type": "execute_result"
    }
   ],
   "source": [
    "train_df['KitchenSquare'].quantile(.95), train_df['KitchenSquare'].quantile(.05)"
   ]
  },
  {
   "cell_type": "code",
   "execution_count": 29,
   "metadata": {
    "execution": {
     "iopub.execute_input": "2022-01-06T15:47:06.992010Z",
     "iopub.status.busy": "2022-01-06T15:47:06.990187Z",
     "iopub.status.idle": "2022-01-06T15:47:07.003788Z",
     "shell.execute_reply": "2022-01-06T15:47:07.002912Z",
     "shell.execute_reply.started": "2022-01-06T15:45:46.128079Z"
    },
    "papermill": {
     "duration": 0.108057,
     "end_time": "2022-01-06T15:47:07.003933",
     "exception": false,
     "start_time": "2022-01-06T15:47:06.895876",
     "status": "completed"
    },
    "tags": []
   },
   "outputs": [],
   "source": [
    "kitchen_square_median = train_df['KitchenSquare'].median()\n",
    "condition = (train_df['KitchenSquare'].isna()) \\\n",
    "             | (train_df['KitchenSquare'] > train_df['KitchenSquare'].quantile(.95))\n",
    "        \n",
    "train_df.loc[condition, 'KitchenSquare'] = kitchen_square_median\n",
    "\n",
    "train_df.loc[train_df['KitchenSquare'] < 5, 'KitchenSquare'] = 5"
   ]
  },
  {
   "cell_type": "code",
   "execution_count": 30,
   "metadata": {
    "execution": {
     "iopub.execute_input": "2022-01-06T15:47:07.221578Z",
     "iopub.status.busy": "2022-01-06T15:47:07.220915Z",
     "iopub.status.idle": "2022-01-06T15:47:07.231338Z",
     "shell.execute_reply": "2022-01-06T15:47:07.231986Z",
     "shell.execute_reply.started": "2022-01-06T15:45:46.141567Z"
    },
    "papermill": {
     "duration": 0.114768,
     "end_time": "2022-01-06T15:47:07.232139",
     "exception": false,
     "start_time": "2022-01-06T15:47:07.117371",
     "status": "completed"
    },
    "tags": []
   },
   "outputs": [
    {
     "data": {
      "text/plain": [
       "5.0     4391\n",
       "8.0     1306\n",
       "6.0     1294\n",
       "10.0    1075\n",
       "9.0      843\n",
       "7.0      609\n",
       "12.0     249\n",
       "11.0     233\n",
       "Name: KitchenSquare, dtype: int64"
      ]
     },
     "execution_count": 30,
     "metadata": {},
     "output_type": "execute_result"
    }
   ],
   "source": [
    "train_df['KitchenSquare'].value_counts()"
   ]
  },
  {
   "cell_type": "markdown",
   "metadata": {
    "papermill": {
     "duration": 0.094068,
     "end_time": "2022-01-06T15:47:07.432159",
     "exception": false,
     "start_time": "2022-01-06T15:47:07.338091",
     "status": "completed"
    },
    "tags": []
   },
   "source": [
    "**HouseFloor, Floor**"
   ]
  },
  {
   "cell_type": "code",
   "execution_count": 31,
   "metadata": {
    "execution": {
     "iopub.execute_input": "2022-01-06T15:47:07.624993Z",
     "iopub.status.busy": "2022-01-06T15:47:07.623948Z",
     "iopub.status.idle": "2022-01-06T15:47:07.633252Z",
     "shell.execute_reply": "2022-01-06T15:47:07.633749Z",
     "shell.execute_reply.started": "2022-01-06T15:45:46.160238Z"
    },
    "papermill": {
     "duration": 0.108,
     "end_time": "2022-01-06T15:47:07.633921",
     "exception": false,
     "start_time": "2022-01-06T15:47:07.525921",
     "status": "completed"
    },
    "scrolled": true,
    "tags": []
   },
   "outputs": [
    {
     "data": {
      "text/plain": [
       "array([  0.,   1.,   2.,   3.,   4.,   5.,   6.,   7.,   8.,   9.,  10.,\n",
       "        11.,  12.,  13.,  14.,  15.,  16.,  17.,  18.,  19.,  20.,  21.,\n",
       "        22.,  23.,  24.,  25.,  26.,  27.,  28.,  29.,  30.,  31.,  32.,\n",
       "        36.,  37.,  38.,  39.,  40.,  44.,  45.,  47.,  48.,  99., 117.])"
      ]
     },
     "execution_count": 31,
     "metadata": {},
     "output_type": "execute_result"
    }
   ],
   "source": [
    "train_df['HouseFloor'].sort_values().unique()"
   ]
  },
  {
   "cell_type": "code",
   "execution_count": 32,
   "metadata": {
    "execution": {
     "iopub.execute_input": "2022-01-06T15:47:07.826749Z",
     "iopub.status.busy": "2022-01-06T15:47:07.825748Z",
     "iopub.status.idle": "2022-01-06T15:47:07.833454Z",
     "shell.execute_reply": "2022-01-06T15:47:07.834015Z",
     "shell.execute_reply.started": "2022-01-06T15:45:46.175218Z"
    },
    "papermill": {
     "duration": 0.105517,
     "end_time": "2022-01-06T15:47:07.834172",
     "exception": false,
     "start_time": "2022-01-06T15:47:07.728655",
     "status": "completed"
    },
    "scrolled": true,
    "tags": []
   },
   "outputs": [
    {
     "data": {
      "text/plain": [
       "array([ 1,  2,  3,  4,  5,  6,  7,  8,  9, 10, 11, 12, 13, 14, 15, 16, 17,\n",
       "       18, 19, 20, 21, 22, 23, 24, 25, 26, 27, 28, 31, 32, 33, 37, 42],\n",
       "      dtype=int64)"
      ]
     },
     "execution_count": 32,
     "metadata": {},
     "output_type": "execute_result"
    }
   ],
   "source": [
    "train_df['Floor'].sort_values().unique()"
   ]
  },
  {
   "cell_type": "code",
   "execution_count": 33,
   "metadata": {
    "execution": {
     "iopub.execute_input": "2022-01-06T15:47:08.025341Z",
     "iopub.status.busy": "2022-01-06T15:47:08.024300Z",
     "iopub.status.idle": "2022-01-06T15:47:08.031244Z",
     "shell.execute_reply": "2022-01-06T15:47:08.031852Z",
     "shell.execute_reply.started": "2022-01-06T15:45:46.187339Z"
    },
    "papermill": {
     "duration": 0.104341,
     "end_time": "2022-01-06T15:47:08.032002",
     "exception": false,
     "start_time": "2022-01-06T15:47:07.927661",
     "status": "completed"
    },
    "tags": []
   },
   "outputs": [
    {
     "data": {
      "text/plain": [
       "1825"
      ]
     },
     "execution_count": 33,
     "metadata": {},
     "output_type": "execute_result"
    }
   ],
   "source": [
    "(train_df['Floor'] > train_df['HouseFloor']).sum()"
   ]
  },
  {
   "cell_type": "code",
   "execution_count": 34,
   "metadata": {
    "execution": {
     "iopub.execute_input": "2022-01-06T15:47:08.223475Z",
     "iopub.status.busy": "2022-01-06T15:47:08.222488Z",
     "iopub.status.idle": "2022-01-06T15:47:08.232092Z",
     "shell.execute_reply": "2022-01-06T15:47:08.232697Z",
     "shell.execute_reply.started": "2022-01-06T15:45:46.200107Z"
    },
    "papermill": {
     "duration": 0.107427,
     "end_time": "2022-01-06T15:47:08.232856",
     "exception": false,
     "start_time": "2022-01-06T15:47:08.125429",
     "status": "completed"
    },
    "tags": []
   },
   "outputs": [],
   "source": [
    "train_df['HouseFloor_outlier'] = 0\n",
    "train_df.loc[train_df['HouseFloor'] == 0, 'HouseFloor_outlier'] = 1\n",
    "train_df.loc[train_df['Floor'] > train_df['HouseFloor'], 'HouseFloor_outlier'] = 1"
   ]
  },
  {
   "cell_type": "code",
   "execution_count": 35,
   "metadata": {
    "execution": {
     "iopub.execute_input": "2022-01-06T15:47:08.426813Z",
     "iopub.status.busy": "2022-01-06T15:47:08.425817Z",
     "iopub.status.idle": "2022-01-06T15:47:08.431966Z",
     "shell.execute_reply": "2022-01-06T15:47:08.432582Z",
     "shell.execute_reply.started": "2022-01-06T15:45:46.212602Z"
    },
    "papermill": {
     "duration": 0.104887,
     "end_time": "2022-01-06T15:47:08.432747",
     "exception": false,
     "start_time": "2022-01-06T15:47:08.327860",
     "status": "completed"
    },
    "tags": []
   },
   "outputs": [],
   "source": [
    "train_df.loc[train_df['HouseFloor'] == 0, 'HouseFloor'] = train_df['HouseFloor'].median()"
   ]
  },
  {
   "cell_type": "code",
   "execution_count": 36,
   "metadata": {
    "execution": {
     "iopub.execute_input": "2022-01-06T15:47:08.625976Z",
     "iopub.status.busy": "2022-01-06T15:47:08.624975Z",
     "iopub.status.idle": "2022-01-06T15:47:08.630892Z",
     "shell.execute_reply": "2022-01-06T15:47:08.631495Z",
     "shell.execute_reply.started": "2022-01-06T15:45:46.222036Z"
    },
    "papermill": {
     "duration": 0.105747,
     "end_time": "2022-01-06T15:47:08.631636",
     "exception": false,
     "start_time": "2022-01-06T15:47:08.525889",
     "status": "completed"
    },
    "tags": []
   },
   "outputs": [
    {
     "data": {
      "text/plain": [
       "Int64Index([  17,   19,   21,   25,   26,   33,   34,   37,   39,   44,\n",
       "            ...\n",
       "            9913, 9921, 9930, 9931, 9938, 9953, 9960, 9968, 9970, 9975],\n",
       "           dtype='int64', length=1610)"
      ]
     },
     "execution_count": 36,
     "metadata": {},
     "output_type": "execute_result"
    }
   ],
   "source": [
    "floor_outliers = train_df.loc[train_df['Floor'] > train_df['HouseFloor']].index\n",
    "floor_outliers"
   ]
  },
  {
   "cell_type": "code",
   "execution_count": 37,
   "metadata": {
    "execution": {
     "iopub.execute_input": "2022-01-06T15:47:08.835289Z",
     "iopub.status.busy": "2022-01-06T15:47:08.834249Z",
     "iopub.status.idle": "2022-01-06T15:47:08.841444Z",
     "shell.execute_reply": "2022-01-06T15:47:08.842046Z",
     "shell.execute_reply.started": "2022-01-06T15:45:46.239025Z"
    },
    "papermill": {
     "duration": 0.115931,
     "end_time": "2022-01-06T15:47:08.842194",
     "exception": false,
     "start_time": "2022-01-06T15:47:08.726263",
     "status": "completed"
    },
    "tags": []
   },
   "outputs": [],
   "source": [
    "# If flat floor is higher than the max floor of house, this is the mistake in Floor or HouseFloor columns\n",
    "# We can fix it in different ways, for example, fill Floor HouseFloor value\n",
    "train_df.loc[floor_outliers, 'Floor'] = train_df.loc[floor_outliers, 'HouseFloor']"
   ]
  },
  {
   "cell_type": "code",
   "execution_count": 38,
   "metadata": {
    "execution": {
     "iopub.execute_input": "2022-01-06T15:47:09.036290Z",
     "iopub.status.busy": "2022-01-06T15:47:09.035196Z",
     "iopub.status.idle": "2022-01-06T15:47:09.042525Z",
     "shell.execute_reply": "2022-01-06T15:47:09.043104Z",
     "shell.execute_reply.started": "2022-01-06T15:45:46.250500Z"
    },
    "papermill": {
     "duration": 0.107168,
     "end_time": "2022-01-06T15:47:09.043249",
     "exception": false,
     "start_time": "2022-01-06T15:47:08.936081",
     "status": "completed"
    },
    "tags": []
   },
   "outputs": [
    {
     "data": {
      "text/plain": [
       "0"
      ]
     },
     "execution_count": 38,
     "metadata": {},
     "output_type": "execute_result"
    }
   ],
   "source": [
    "(train_df['Floor'] > train_df['HouseFloor']).sum()"
   ]
  },
  {
   "cell_type": "markdown",
   "metadata": {
    "papermill": {
     "duration": 0.094084,
     "end_time": "2022-01-06T15:47:09.231104",
     "exception": false,
     "start_time": "2022-01-06T15:47:09.137020",
     "status": "completed"
    },
    "tags": []
   },
   "source": [
    "**HouseYear**"
   ]
  },
  {
   "cell_type": "code",
   "execution_count": 39,
   "metadata": {
    "execution": {
     "iopub.execute_input": "2022-01-06T15:47:09.425495Z",
     "iopub.status.busy": "2022-01-06T15:47:09.424455Z",
     "iopub.status.idle": "2022-01-06T15:47:09.433306Z",
     "shell.execute_reply": "2022-01-06T15:47:09.433834Z",
     "shell.execute_reply.started": "2022-01-06T15:45:46.265256Z"
    },
    "papermill": {
     "duration": 0.107386,
     "end_time": "2022-01-06T15:47:09.433983",
     "exception": false,
     "start_time": "2022-01-06T15:47:09.326597",
     "status": "completed"
    },
    "tags": []
   },
   "outputs": [
    {
     "data": {
      "text/plain": [
       "9163    20052011\n",
       "8828        4968\n",
       "7721        2020\n",
       "9122        2020\n",
       "7955        2020\n",
       "          ...   \n",
       "7610        1916\n",
       "6250        1914\n",
       "2066        1912\n",
       "2795        1912\n",
       "6794        1910\n",
       "Name: HouseYear, Length: 10000, dtype: int64"
      ]
     },
     "execution_count": 39,
     "metadata": {},
     "output_type": "execute_result"
    }
   ],
   "source": [
    "train_df['HouseYear'].sort_values(ascending=False)"
   ]
  },
  {
   "cell_type": "code",
   "execution_count": 40,
   "metadata": {
    "execution": {
     "iopub.execute_input": "2022-01-06T15:47:09.631609Z",
     "iopub.status.busy": "2022-01-06T15:47:09.630774Z",
     "iopub.status.idle": "2022-01-06T15:47:09.635443Z",
     "shell.execute_reply": "2022-01-06T15:47:09.634909Z",
     "shell.execute_reply.started": "2022-01-06T15:45:46.280003Z"
    },
    "papermill": {
     "duration": 0.104609,
     "end_time": "2022-01-06T15:47:09.635566",
     "exception": false,
     "start_time": "2022-01-06T15:47:09.530957",
     "status": "completed"
    },
    "tags": []
   },
   "outputs": [],
   "source": [
    "train_df.loc[train_df['HouseYear'] > 2020, 'HouseYear'] = 2020"
   ]
  },
  {
   "cell_type": "markdown",
   "metadata": {
    "papermill": {
     "duration": 0.096538,
     "end_time": "2022-01-06T15:47:09.826501",
     "exception": false,
     "start_time": "2022-01-06T15:47:09.729963",
     "status": "completed"
    },
    "tags": []
   },
   "source": [
    "### **3. Processing NaN values**  <a class='anchor' id='nan'>"
   ]
  },
  {
   "cell_type": "code",
   "execution_count": 41,
   "metadata": {
    "execution": {
     "iopub.execute_input": "2022-01-06T15:47:10.028784Z",
     "iopub.status.busy": "2022-01-06T15:47:10.028062Z",
     "iopub.status.idle": "2022-01-06T15:47:10.035137Z",
     "shell.execute_reply": "2022-01-06T15:47:10.035654Z",
     "shell.execute_reply.started": "2022-01-06T15:45:46.290656Z"
    },
    "papermill": {
     "duration": 0.113033,
     "end_time": "2022-01-06T15:47:10.035816",
     "exception": false,
     "start_time": "2022-01-06T15:47:09.922783",
     "status": "completed"
    },
    "tags": []
   },
   "outputs": [
    {
     "data": {
      "text/plain": [
       "Id                       0\n",
       "DistrictId               0\n",
       "Rooms                    0\n",
       "Square                   0\n",
       "LifeSquare            2113\n",
       "KitchenSquare            0\n",
       "Floor                    0\n",
       "HouseFloor               0\n",
       "HouseYear                0\n",
       "Ecology_1                0\n",
       "Ecology_2                0\n",
       "Ecology_3                0\n",
       "Social_1                 0\n",
       "Social_2                 0\n",
       "Social_3                 0\n",
       "Healthcare_1          4798\n",
       "Helthcare_2              0\n",
       "Shops_1                  0\n",
       "Shops_2                  0\n",
       "Price                    0\n",
       "Rooms_outlier            0\n",
       "HouseFloor_outlier       0\n",
       "dtype: int64"
      ]
     },
     "execution_count": 41,
     "metadata": {},
     "output_type": "execute_result"
    }
   ],
   "source": [
    "train_df.isna().sum()"
   ]
  },
  {
   "cell_type": "code",
   "execution_count": 42,
   "metadata": {
    "execution": {
     "iopub.execute_input": "2022-01-06T15:47:10.231427Z",
     "iopub.status.busy": "2022-01-06T15:47:10.230729Z",
     "iopub.status.idle": "2022-01-06T15:47:10.242828Z",
     "shell.execute_reply": "2022-01-06T15:47:10.243346Z",
     "shell.execute_reply.started": "2022-01-06T15:45:46.316974Z"
    },
    "papermill": {
     "duration": 0.111842,
     "end_time": "2022-01-06T15:47:10.243504",
     "exception": false,
     "start_time": "2022-01-06T15:47:10.131662",
     "status": "completed"
    },
    "tags": []
   },
   "outputs": [
    {
     "data": {
      "text/html": [
       "<div>\n",
       "<style scoped>\n",
       "    .dataframe tbody tr th:only-of-type {\n",
       "        vertical-align: middle;\n",
       "    }\n",
       "\n",
       "    .dataframe tbody tr th {\n",
       "        vertical-align: top;\n",
       "    }\n",
       "\n",
       "    .dataframe thead th {\n",
       "        text-align: right;\n",
       "    }\n",
       "</style>\n",
       "<table border=\"1\" class=\"dataframe\">\n",
       "  <thead>\n",
       "    <tr style=\"text-align: right;\">\n",
       "      <th></th>\n",
       "      <th>Square</th>\n",
       "      <th>LifeSquare</th>\n",
       "      <th>KitchenSquare</th>\n",
       "    </tr>\n",
       "  </thead>\n",
       "  <tbody>\n",
       "    <tr>\n",
       "      <th>0</th>\n",
       "      <td>115.027311</td>\n",
       "      <td>NaN</td>\n",
       "      <td>10.0</td>\n",
       "    </tr>\n",
       "    <tr>\n",
       "      <th>1</th>\n",
       "      <td>39.832524</td>\n",
       "      <td>23.169223</td>\n",
       "      <td>8.0</td>\n",
       "    </tr>\n",
       "    <tr>\n",
       "      <th>2</th>\n",
       "      <td>78.342215</td>\n",
       "      <td>47.671972</td>\n",
       "      <td>10.0</td>\n",
       "    </tr>\n",
       "    <tr>\n",
       "      <th>3</th>\n",
       "      <td>40.409907</td>\n",
       "      <td>NaN</td>\n",
       "      <td>5.0</td>\n",
       "    </tr>\n",
       "    <tr>\n",
       "      <th>4</th>\n",
       "      <td>64.285067</td>\n",
       "      <td>38.562517</td>\n",
       "      <td>9.0</td>\n",
       "    </tr>\n",
       "    <tr>\n",
       "      <th>5</th>\n",
       "      <td>62.528465</td>\n",
       "      <td>47.103833</td>\n",
       "      <td>6.0</td>\n",
       "    </tr>\n",
       "    <tr>\n",
       "      <th>6</th>\n",
       "      <td>33.938750</td>\n",
       "      <td>21.772930</td>\n",
       "      <td>9.0</td>\n",
       "    </tr>\n",
       "    <tr>\n",
       "      <th>7</th>\n",
       "      <td>50.391814</td>\n",
       "      <td>32.893256</td>\n",
       "      <td>8.0</td>\n",
       "    </tr>\n",
       "    <tr>\n",
       "      <th>8</th>\n",
       "      <td>46.887892</td>\n",
       "      <td>44.628132</td>\n",
       "      <td>5.0</td>\n",
       "    </tr>\n",
       "    <tr>\n",
       "      <th>9</th>\n",
       "      <td>79.867477</td>\n",
       "      <td>75.085125</td>\n",
       "      <td>5.0</td>\n",
       "    </tr>\n",
       "  </tbody>\n",
       "</table>\n",
       "</div>"
      ],
      "text/plain": [
       "       Square  LifeSquare  KitchenSquare\n",
       "0  115.027311         NaN           10.0\n",
       "1   39.832524   23.169223            8.0\n",
       "2   78.342215   47.671972           10.0\n",
       "3   40.409907         NaN            5.0\n",
       "4   64.285067   38.562517            9.0\n",
       "5   62.528465   47.103833            6.0\n",
       "6   33.938750   21.772930            9.0\n",
       "7   50.391814   32.893256            8.0\n",
       "8   46.887892   44.628132            5.0\n",
       "9   79.867477   75.085125            5.0"
      ]
     },
     "execution_count": 42,
     "metadata": {},
     "output_type": "execute_result"
    }
   ],
   "source": [
    "train_df[['Square', 'LifeSquare', 'KitchenSquare']].head(10)"
   ]
  },
  {
   "cell_type": "markdown",
   "metadata": {
    "papermill": {
     "duration": 0.096927,
     "end_time": "2022-01-06T15:47:10.438060",
     "exception": false,
     "start_time": "2022-01-06T15:47:10.341133",
     "status": "completed"
    },
    "tags": []
   },
   "source": [
    "**LifeSquare**"
   ]
  },
  {
   "cell_type": "code",
   "execution_count": 43,
   "metadata": {
    "execution": {
     "iopub.execute_input": "2022-01-06T15:47:10.632591Z",
     "iopub.status.busy": "2022-01-06T15:47:10.631960Z",
     "iopub.status.idle": "2022-01-06T15:47:10.642230Z",
     "shell.execute_reply": "2022-01-06T15:47:10.642789Z",
     "shell.execute_reply.started": "2022-01-06T15:45:46.339813Z"
    },
    "papermill": {
     "duration": 0.108695,
     "end_time": "2022-01-06T15:47:10.642939",
     "exception": false,
     "start_time": "2022-01-06T15:47:10.534244",
     "status": "completed"
    },
    "tags": []
   },
   "outputs": [
    {
     "data": {
      "text/plain": [
       "2113"
      ]
     },
     "execution_count": 43,
     "metadata": {},
     "output_type": "execute_result"
    }
   ],
   "source": [
    "train_df['LifeSquare_nan'] = train_df['LifeSquare'].isna() * 1\n",
    "\n",
    "condition = (train_df['LifeSquare'].isna()) \\\n",
    "             & (~train_df['Square'].isna()) \\\n",
    "             & (~train_df['KitchenSquare'].isna())\n",
    "        \n",
    "condition.sum()"
   ]
  },
  {
   "cell_type": "code",
   "execution_count": 44,
   "metadata": {
    "execution": {
     "iopub.execute_input": "2022-01-06T15:47:10.841663Z",
     "iopub.status.busy": "2022-01-06T15:47:10.841042Z",
     "iopub.status.idle": "2022-01-06T15:47:10.848776Z",
     "shell.execute_reply": "2022-01-06T15:47:10.849322Z",
     "shell.execute_reply.started": "2022-01-06T15:45:46.354930Z"
    },
    "papermill": {
     "duration": 0.108707,
     "end_time": "2022-01-06T15:47:10.849471",
     "exception": false,
     "start_time": "2022-01-06T15:47:10.740764",
     "status": "completed"
    },
    "tags": []
   },
   "outputs": [],
   "source": [
    "train_df.loc[condition, 'LifeSquare'] = train_df.loc[condition, 'Square'] \\\n",
    "                                            - train_df.loc[condition, 'KitchenSquare'] - 3"
   ]
  },
  {
   "cell_type": "code",
   "execution_count": 45,
   "metadata": {
    "execution": {
     "iopub.execute_input": "2022-01-06T15:47:11.049391Z",
     "iopub.status.busy": "2022-01-06T15:47:11.048774Z",
     "iopub.status.idle": "2022-01-06T15:47:11.054738Z",
     "shell.execute_reply": "2022-01-06T15:47:11.054203Z",
     "shell.execute_reply.started": "2022-01-06T15:45:46.370812Z"
    },
    "papermill": {
     "duration": 0.108679,
     "end_time": "2022-01-06T15:47:11.054859",
     "exception": false,
     "start_time": "2022-01-06T15:47:10.946180",
     "status": "completed"
    },
    "tags": []
   },
   "outputs": [
    {
     "data": {
      "text/plain": [
       "0"
      ]
     },
     "execution_count": 45,
     "metadata": {},
     "output_type": "execute_result"
    }
   ],
   "source": [
    "condition = (train_df['LifeSquare'].isna()) \\\n",
    "             & (~train_df['Square'].isna()) \\\n",
    "             & (~train_df['KitchenSquare'].isna())\n",
    "        \n",
    "condition.sum()"
   ]
  },
  {
   "cell_type": "markdown",
   "metadata": {
    "papermill": {
     "duration": 0.096205,
     "end_time": "2022-01-06T15:47:11.247004",
     "exception": false,
     "start_time": "2022-01-06T15:47:11.150799",
     "status": "completed"
    },
    "tags": []
   },
   "source": [
    "**Healthcare_1**"
   ]
  },
  {
   "cell_type": "code",
   "execution_count": 46,
   "metadata": {
    "execution": {
     "iopub.execute_input": "2022-01-06T15:47:11.446133Z",
     "iopub.status.busy": "2022-01-06T15:47:11.445428Z",
     "iopub.status.idle": "2022-01-06T15:47:11.456412Z",
     "shell.execute_reply": "2022-01-06T15:47:11.455815Z",
     "shell.execute_reply.started": "2022-01-06T15:45:46.384079Z"
    },
    "papermill": {
     "duration": 0.112352,
     "end_time": "2022-01-06T15:47:11.456526",
     "exception": false,
     "start_time": "2022-01-06T15:47:11.344174",
     "status": "completed"
    },
    "tags": []
   },
   "outputs": [
    {
     "data": {
      "text/plain": [
       "0.0         1\n",
       "30.0      348\n",
       "32.0       12\n",
       "35.0        2\n",
       "46.0       49\n",
       "         ... \n",
       "4087.0     45\n",
       "4129.0     37\n",
       "4508.0     46\n",
       "4702.0     27\n",
       "4849.0     15\n",
       "Name: Healthcare_1, Length: 79, dtype: int64"
      ]
     },
     "execution_count": 46,
     "metadata": {},
     "output_type": "execute_result"
    }
   ],
   "source": [
    "train_df['Healthcare_1'].value_counts().sort_index()"
   ]
  },
  {
   "cell_type": "code",
   "execution_count": 47,
   "metadata": {
    "execution": {
     "iopub.execute_input": "2022-01-06T15:47:11.655437Z",
     "iopub.status.busy": "2022-01-06T15:47:11.654789Z",
     "iopub.status.idle": "2022-01-06T15:47:11.660296Z",
     "shell.execute_reply": "2022-01-06T15:47:11.659792Z",
     "shell.execute_reply.started": "2022-01-06T15:45:46.400115Z"
    },
    "papermill": {
     "duration": 0.105644,
     "end_time": "2022-01-06T15:47:11.660424",
     "exception": false,
     "start_time": "2022-01-06T15:47:11.554780",
     "status": "completed"
    },
    "tags": []
   },
   "outputs": [],
   "source": [
    "# We have only one 0 value in Healthcare_1, so, probably we can fill NaNs with 0 too\n",
    "train_df['Healthcare_1'].fillna(0, inplace=True)"
   ]
  },
  {
   "cell_type": "code",
   "execution_count": 48,
   "metadata": {
    "execution": {
     "iopub.execute_input": "2022-01-06T15:47:11.880587Z",
     "iopub.status.busy": "2022-01-06T15:47:11.879896Z",
     "iopub.status.idle": "2022-01-06T15:47:11.901862Z",
     "shell.execute_reply": "2022-01-06T15:47:11.902395Z",
     "shell.execute_reply.started": "2022-01-06T15:45:46.409166Z"
    },
    "papermill": {
     "duration": 0.144288,
     "end_time": "2022-01-06T15:47:11.902555",
     "exception": false,
     "start_time": "2022-01-06T15:47:11.758267",
     "status": "completed"
    },
    "tags": []
   },
   "outputs": [],
   "source": [
    "class DataPreprocessing:\n",
    "    \"\"\"Class for train and test datasets preprocessing\"\"\"\n",
    "\n",
    "    def __init__(self, kitchen_square_quantile=0.975, kitchen_square_min_threshold=3, balcony_square=3):\n",
    "        \"\"\"Preprocessing parameters\"\"\"\n",
    "        self.medians = None\n",
    "        self.kitchen_square_quantile = kitchen_square_quantile\n",
    "        self.kitchen_square_min_threshold = kitchen_square_min_threshold\n",
    "        self.balcony_square = balcony_square\n",
    "    \n",
    "    def fit(self, X):\n",
    "        \"\"\"Get statistics\"\"\"\n",
    "        self.medians = X.median()\n",
    "        self.kitchen_square_quantile = X['KitchenSquare'].quantile(self.kitchen_square_quantile)\n",
    "    \n",
    "    def transform(self, X):\n",
    "        \"\"\"Transform data\"\"\"\n",
    "\n",
    "        # Rooms\n",
    "        X['Rooms_outlier'] = 0\n",
    "        X.loc[(X['Rooms'] == 0) | (X['Rooms'] >= 6), 'Rooms_outlier'] = 1\n",
    "        \n",
    "        X.loc[X['Rooms'] == 0, 'Rooms'] = 1\n",
    "        X.loc[X['Rooms'] >= 6, 'Rooms'] = self.medians['Rooms']\n",
    "        \n",
    "        # KitchenSquare\n",
    "        condition = (X['KitchenSquare'].isna()) \\\n",
    "                    | (X['KitchenSquare'] > self.kitchen_square_quantile)\n",
    "        \n",
    "        X.loc[condition, 'KitchenSquare'] = self.medians['KitchenSquare']\n",
    "\n",
    "        X.loc[X['KitchenSquare'] < self.kitchen_square_min_threshold, 'KitchenSquare'] = self.kitchen_square_min_threshold\n",
    "        \n",
    "        # HouseFloor, Floor\n",
    "        X['HouseFloor_outlier'] = 0\n",
    "        X.loc[X['HouseFloor'] == 0, 'HouseFloor_outlier'] = 1\n",
    "        X.loc[X['Floor'] > X['HouseFloor'], 'HouseFloor_outlier'] = 1\n",
    "        \n",
    "        X.loc[X['HouseFloor'] == 0, 'HouseFloor'] = self.medians['HouseFloor']\n",
    "        \n",
    "        floor_outliers = X.loc[X['Floor'] > X['HouseFloor']].index\n",
    "        X.loc[floor_outliers, 'Floor'] = X.loc[floor_outliers, 'HouseFloor']\n",
    "        \n",
    "        # HouseYear\n",
    "        current_year = datetime.now().year\n",
    "        \n",
    "        X['HouseYear_outlier'] = 0\n",
    "        X.loc[X['HouseYear'] > current_year, 'HouseYear_outlier'] = 1\n",
    "        \n",
    "        X.loc[X['HouseYear'] > current_year, 'HouseYear'] = current_year\n",
    "        \n",
    "        # Healthcare_1\n",
    "        X['Healthcare_1'].fillna(0, inplace=True)\n",
    "        \n",
    "        # LifeSquare\n",
    "        X['LifeSquare_nan'] = X['LifeSquare'].isna() * 1\n",
    "        condition = (X['LifeSquare'].isna()) & \\\n",
    "                      (~X['Square'].isna()) & \\\n",
    "                      (~X['KitchenSquare'].isna())\n",
    "        \n",
    "        X.loc[condition, 'LifeSquare'] = X.loc[condition, 'Square'] - X.loc[condition, 'KitchenSquare'] - self.balcony_square\n",
    "        \n",
    "        \n",
    "        X.fillna(self.medians, inplace=True)\n",
    "        \n",
    "        return X"
   ]
  },
  {
   "cell_type": "markdown",
   "metadata": {
    "papermill": {
     "duration": 0.096121,
     "end_time": "2022-01-06T15:47:12.096724",
     "exception": false,
     "start_time": "2022-01-06T15:47:12.000603",
     "status": "completed"
    },
    "tags": []
   },
   "source": [
    "### **4. Feature generation**  <a class='anchor' id='feature'>"
   ]
  },
  {
   "cell_type": "markdown",
   "metadata": {
    "papermill": {
     "duration": 0.101802,
     "end_time": "2022-01-06T15:47:12.296628",
     "exception": false,
     "start_time": "2022-01-06T15:47:12.194826",
     "status": "completed"
    },
    "tags": []
   },
   "source": [
    "**Dummies**"
   ]
  },
  {
   "cell_type": "code",
   "execution_count": 49,
   "metadata": {
    "execution": {
     "iopub.execute_input": "2022-01-06T15:47:12.498154Z",
     "iopub.status.busy": "2022-01-06T15:47:12.497421Z",
     "iopub.status.idle": "2022-01-06T15:47:12.527100Z",
     "shell.execute_reply": "2022-01-06T15:47:12.527685Z",
     "shell.execute_reply.started": "2022-01-06T15:45:46.436209Z"
    },
    "papermill": {
     "duration": 0.132679,
     "end_time": "2022-01-06T15:47:12.527842",
     "exception": false,
     "start_time": "2022-01-06T15:47:12.395163",
     "status": "completed"
    },
    "tags": []
   },
   "outputs": [],
   "source": [
    "binary_to_numbers = {'A': 0, 'B': 1}\n",
    "\n",
    "train_df['Ecology_2'] = train_df['Ecology_2'].replace(binary_to_numbers)\n",
    "train_df['Ecology_3'] = train_df['Ecology_3'].replace(binary_to_numbers)\n",
    "train_df['Shops_2'] = train_df['Shops_2'].replace(binary_to_numbers)"
   ]
  },
  {
   "cell_type": "markdown",
   "metadata": {
    "papermill": {
     "duration": 0.097321,
     "end_time": "2022-01-06T15:47:12.722336",
     "exception": false,
     "start_time": "2022-01-06T15:47:12.625015",
     "status": "completed"
    },
    "tags": []
   },
   "source": [
    "**DistrictSize, IsDistrictLarge**"
   ]
  },
  {
   "cell_type": "code",
   "execution_count": 50,
   "metadata": {
    "execution": {
     "iopub.execute_input": "2022-01-06T15:47:12.919388Z",
     "iopub.status.busy": "2022-01-06T15:47:12.918744Z",
     "iopub.status.idle": "2022-01-06T15:47:12.936093Z",
     "shell.execute_reply": "2022-01-06T15:47:12.936760Z",
     "shell.execute_reply.started": "2022-01-06T15:45:46.475801Z"
    },
    "papermill": {
     "duration": 0.117167,
     "end_time": "2022-01-06T15:47:12.936917",
     "exception": false,
     "start_time": "2022-01-06T15:47:12.819750",
     "status": "completed"
    },
    "tags": []
   },
   "outputs": [
    {
     "data": {
      "text/html": [
       "<div>\n",
       "<style scoped>\n",
       "    .dataframe tbody tr th:only-of-type {\n",
       "        vertical-align: middle;\n",
       "    }\n",
       "\n",
       "    .dataframe tbody tr th {\n",
       "        vertical-align: top;\n",
       "    }\n",
       "\n",
       "    .dataframe thead th {\n",
       "        text-align: right;\n",
       "    }\n",
       "</style>\n",
       "<table border=\"1\" class=\"dataframe\">\n",
       "  <thead>\n",
       "    <tr style=\"text-align: right;\">\n",
       "      <th></th>\n",
       "      <th>DistrictId</th>\n",
       "      <th>DistrictSize</th>\n",
       "    </tr>\n",
       "  </thead>\n",
       "  <tbody>\n",
       "    <tr>\n",
       "      <th>0</th>\n",
       "      <td>27</td>\n",
       "      <td>851</td>\n",
       "    </tr>\n",
       "    <tr>\n",
       "      <th>1</th>\n",
       "      <td>1</td>\n",
       "      <td>652</td>\n",
       "    </tr>\n",
       "    <tr>\n",
       "      <th>2</th>\n",
       "      <td>23</td>\n",
       "      <td>565</td>\n",
       "    </tr>\n",
       "    <tr>\n",
       "      <th>3</th>\n",
       "      <td>6</td>\n",
       "      <td>511</td>\n",
       "    </tr>\n",
       "    <tr>\n",
       "      <th>4</th>\n",
       "      <td>9</td>\n",
       "      <td>294</td>\n",
       "    </tr>\n",
       "  </tbody>\n",
       "</table>\n",
       "</div>"
      ],
      "text/plain": [
       "  DistrictId  DistrictSize\n",
       "0         27           851\n",
       "1          1           652\n",
       "2         23           565\n",
       "3          6           511\n",
       "4          9           294"
      ]
     },
     "execution_count": 50,
     "metadata": {},
     "output_type": "execute_result"
    }
   ],
   "source": [
    "district_size = train_df['DistrictId'].value_counts().reset_index() \\\n",
    "                    .rename(columns={'index':'DistrictId', 'DistrictId':'DistrictSize'})\n",
    "\n",
    "district_size.head()"
   ]
  },
  {
   "cell_type": "code",
   "execution_count": 51,
   "metadata": {
    "execution": {
     "iopub.execute_input": "2022-01-06T15:47:13.139034Z",
     "iopub.status.busy": "2022-01-06T15:47:13.138009Z",
     "iopub.status.idle": "2022-01-06T15:47:13.181377Z",
     "shell.execute_reply": "2022-01-06T15:47:13.180759Z",
     "shell.execute_reply.started": "2022-01-06T15:45:46.496789Z"
    },
    "papermill": {
     "duration": 0.145338,
     "end_time": "2022-01-06T15:47:13.181572",
     "exception": false,
     "start_time": "2022-01-06T15:47:13.036234",
     "status": "completed"
    },
    "tags": []
   },
   "outputs": [
    {
     "data": {
      "text/html": [
       "<div>\n",
       "<style scoped>\n",
       "    .dataframe tbody tr th:only-of-type {\n",
       "        vertical-align: middle;\n",
       "    }\n",
       "\n",
       "    .dataframe tbody tr th {\n",
       "        vertical-align: top;\n",
       "    }\n",
       "\n",
       "    .dataframe thead th {\n",
       "        text-align: right;\n",
       "    }\n",
       "</style>\n",
       "<table border=\"1\" class=\"dataframe\">\n",
       "  <thead>\n",
       "    <tr style=\"text-align: right;\">\n",
       "      <th></th>\n",
       "      <th>Id</th>\n",
       "      <th>DistrictId</th>\n",
       "      <th>Rooms</th>\n",
       "      <th>Square</th>\n",
       "      <th>LifeSquare</th>\n",
       "      <th>KitchenSquare</th>\n",
       "      <th>Floor</th>\n",
       "      <th>HouseFloor</th>\n",
       "      <th>HouseYear</th>\n",
       "      <th>Ecology_1</th>\n",
       "      <th>...</th>\n",
       "      <th>Social_3</th>\n",
       "      <th>Healthcare_1</th>\n",
       "      <th>Helthcare_2</th>\n",
       "      <th>Shops_1</th>\n",
       "      <th>Shops_2</th>\n",
       "      <th>Price</th>\n",
       "      <th>Rooms_outlier</th>\n",
       "      <th>HouseFloor_outlier</th>\n",
       "      <th>LifeSquare_nan</th>\n",
       "      <th>DistrictSize</th>\n",
       "    </tr>\n",
       "  </thead>\n",
       "  <tbody>\n",
       "    <tr>\n",
       "      <th>0</th>\n",
       "      <td>11809</td>\n",
       "      <td>27</td>\n",
       "      <td>3.0</td>\n",
       "      <td>115.027311</td>\n",
       "      <td>102.027311</td>\n",
       "      <td>10.0</td>\n",
       "      <td>4.0</td>\n",
       "      <td>10.0</td>\n",
       "      <td>2014</td>\n",
       "      <td>0.075424</td>\n",
       "      <td>...</td>\n",
       "      <td>0</td>\n",
       "      <td>0.0</td>\n",
       "      <td>0</td>\n",
       "      <td>0</td>\n",
       "      <td>1</td>\n",
       "      <td>305018.871089</td>\n",
       "      <td>0</td>\n",
       "      <td>0</td>\n",
       "      <td>1</td>\n",
       "      <td>851</td>\n",
       "    </tr>\n",
       "    <tr>\n",
       "      <th>1</th>\n",
       "      <td>3013</td>\n",
       "      <td>22</td>\n",
       "      <td>1.0</td>\n",
       "      <td>39.832524</td>\n",
       "      <td>23.169223</td>\n",
       "      <td>8.0</td>\n",
       "      <td>7.0</td>\n",
       "      <td>8.0</td>\n",
       "      <td>1966</td>\n",
       "      <td>0.118537</td>\n",
       "      <td>...</td>\n",
       "      <td>1</td>\n",
       "      <td>1183.0</td>\n",
       "      <td>1</td>\n",
       "      <td>0</td>\n",
       "      <td>1</td>\n",
       "      <td>177734.553407</td>\n",
       "      <td>0</td>\n",
       "      <td>0</td>\n",
       "      <td>0</td>\n",
       "      <td>78</td>\n",
       "    </tr>\n",
       "    <tr>\n",
       "      <th>2</th>\n",
       "      <td>8215</td>\n",
       "      <td>1</td>\n",
       "      <td>3.0</td>\n",
       "      <td>78.342215</td>\n",
       "      <td>47.671972</td>\n",
       "      <td>10.0</td>\n",
       "      <td>2.0</td>\n",
       "      <td>17.0</td>\n",
       "      <td>1988</td>\n",
       "      <td>0.025609</td>\n",
       "      <td>...</td>\n",
       "      <td>0</td>\n",
       "      <td>240.0</td>\n",
       "      <td>3</td>\n",
       "      <td>1</td>\n",
       "      <td>1</td>\n",
       "      <td>282078.720850</td>\n",
       "      <td>0</td>\n",
       "      <td>0</td>\n",
       "      <td>0</td>\n",
       "      <td>652</td>\n",
       "    </tr>\n",
       "    <tr>\n",
       "      <th>3</th>\n",
       "      <td>2352</td>\n",
       "      <td>1</td>\n",
       "      <td>1.0</td>\n",
       "      <td>40.409907</td>\n",
       "      <td>32.409907</td>\n",
       "      <td>5.0</td>\n",
       "      <td>10.0</td>\n",
       "      <td>22.0</td>\n",
       "      <td>1977</td>\n",
       "      <td>0.007122</td>\n",
       "      <td>...</td>\n",
       "      <td>0</td>\n",
       "      <td>0.0</td>\n",
       "      <td>0</td>\n",
       "      <td>1</td>\n",
       "      <td>1</td>\n",
       "      <td>168106.007630</td>\n",
       "      <td>0</td>\n",
       "      <td>0</td>\n",
       "      <td>1</td>\n",
       "      <td>652</td>\n",
       "    </tr>\n",
       "    <tr>\n",
       "      <th>4</th>\n",
       "      <td>13866</td>\n",
       "      <td>94</td>\n",
       "      <td>2.0</td>\n",
       "      <td>64.285067</td>\n",
       "      <td>38.562517</td>\n",
       "      <td>9.0</td>\n",
       "      <td>16.0</td>\n",
       "      <td>16.0</td>\n",
       "      <td>1972</td>\n",
       "      <td>0.282798</td>\n",
       "      <td>...</td>\n",
       "      <td>2</td>\n",
       "      <td>0.0</td>\n",
       "      <td>0</td>\n",
       "      <td>6</td>\n",
       "      <td>1</td>\n",
       "      <td>343995.102962</td>\n",
       "      <td>0</td>\n",
       "      <td>0</td>\n",
       "      <td>0</td>\n",
       "      <td>89</td>\n",
       "    </tr>\n",
       "  </tbody>\n",
       "</table>\n",
       "<p>5 rows × 24 columns</p>\n",
       "</div>"
      ],
      "text/plain": [
       "      Id DistrictId  Rooms      Square  LifeSquare  KitchenSquare  Floor  \\\n",
       "0  11809         27    3.0  115.027311  102.027311           10.0    4.0   \n",
       "1   3013         22    1.0   39.832524   23.169223            8.0    7.0   \n",
       "2   8215          1    3.0   78.342215   47.671972           10.0    2.0   \n",
       "3   2352          1    1.0   40.409907   32.409907            5.0   10.0   \n",
       "4  13866         94    2.0   64.285067   38.562517            9.0   16.0   \n",
       "\n",
       "   HouseFloor  HouseYear  Ecology_1  ...  Social_3  Healthcare_1  Helthcare_2  \\\n",
       "0        10.0       2014   0.075424  ...         0           0.0            0   \n",
       "1         8.0       1966   0.118537  ...         1        1183.0            1   \n",
       "2        17.0       1988   0.025609  ...         0         240.0            3   \n",
       "3        22.0       1977   0.007122  ...         0           0.0            0   \n",
       "4        16.0       1972   0.282798  ...         2           0.0            0   \n",
       "\n",
       "   Shops_1  Shops_2          Price  Rooms_outlier  HouseFloor_outlier  \\\n",
       "0        0        1  305018.871089              0                   0   \n",
       "1        0        1  177734.553407              0                   0   \n",
       "2        1        1  282078.720850              0                   0   \n",
       "3        1        1  168106.007630              0                   0   \n",
       "4        6        1  343995.102962              0                   0   \n",
       "\n",
       "   LifeSquare_nan  DistrictSize  \n",
       "0               1           851  \n",
       "1               0            78  \n",
       "2               0           652  \n",
       "3               1           652  \n",
       "4               0            89  \n",
       "\n",
       "[5 rows x 24 columns]"
      ]
     },
     "execution_count": 51,
     "metadata": {},
     "output_type": "execute_result"
    }
   ],
   "source": [
    "train_df = train_df.merge(district_size, on='DistrictId', how='left')\n",
    "train_df.head()"
   ]
  },
  {
   "cell_type": "code",
   "execution_count": 52,
   "metadata": {
    "execution": {
     "iopub.execute_input": "2022-01-06T15:47:13.382248Z",
     "iopub.status.busy": "2022-01-06T15:47:13.381528Z",
     "iopub.status.idle": "2022-01-06T15:47:13.390853Z",
     "shell.execute_reply": "2022-01-06T15:47:13.390225Z",
     "shell.execute_reply.started": "2022-01-06T15:45:46.540971Z"
    },
    "papermill": {
     "duration": 0.111151,
     "end_time": "2022-01-06T15:47:13.390976",
     "exception": false,
     "start_time": "2022-01-06T15:47:13.279825",
     "status": "completed"
    },
    "tags": []
   },
   "outputs": [
    {
     "data": {
      "text/plain": [
       "True     5069\n",
       "False    4931\n",
       "Name: DistrictSize, dtype: int64"
      ]
     },
     "execution_count": 52,
     "metadata": {},
     "output_type": "execute_result"
    }
   ],
   "source": [
    "(train_df['DistrictSize'] > 100).value_counts()"
   ]
  },
  {
   "cell_type": "code",
   "execution_count": 53,
   "metadata": {
    "execution": {
     "iopub.execute_input": "2022-01-06T15:47:13.594212Z",
     "iopub.status.busy": "2022-01-06T15:47:13.593471Z",
     "iopub.status.idle": "2022-01-06T15:47:13.596282Z",
     "shell.execute_reply": "2022-01-06T15:47:13.596989Z",
     "shell.execute_reply.started": "2022-01-06T15:45:46.555305Z"
    },
    "papermill": {
     "duration": 0.108203,
     "end_time": "2022-01-06T15:47:13.597143",
     "exception": false,
     "start_time": "2022-01-06T15:47:13.488940",
     "status": "completed"
    },
    "tags": []
   },
   "outputs": [],
   "source": [
    "train_df['IsDistrictLarge'] = (train_df['DistrictSize'] > 100).astype(int)"
   ]
  },
  {
   "cell_type": "markdown",
   "metadata": {
    "papermill": {
     "duration": 0.099316,
     "end_time": "2022-01-06T15:47:13.793944",
     "exception": false,
     "start_time": "2022-01-06T15:47:13.694628",
     "status": "completed"
    },
    "tags": []
   },
   "source": [
    "**MedPriceByDistrict**"
   ]
  },
  {
   "cell_type": "code",
   "execution_count": 54,
   "metadata": {
    "execution": {
     "iopub.execute_input": "2022-01-06T15:47:13.993349Z",
     "iopub.status.busy": "2022-01-06T15:47:13.992660Z",
     "iopub.status.idle": "2022-01-06T15:47:14.012081Z",
     "shell.execute_reply": "2022-01-06T15:47:14.011349Z",
     "shell.execute_reply.started": "2022-01-06T15:45:46.564676Z"
    },
    "papermill": {
     "duration": 0.120243,
     "end_time": "2022-01-06T15:47:14.012216",
     "exception": false,
     "start_time": "2022-01-06T15:47:13.891973",
     "status": "completed"
    },
    "tags": []
   },
   "outputs": [
    {
     "data": {
      "text/html": [
       "<div>\n",
       "<style scoped>\n",
       "    .dataframe tbody tr th:only-of-type {\n",
       "        vertical-align: middle;\n",
       "    }\n",
       "\n",
       "    .dataframe tbody tr th {\n",
       "        vertical-align: top;\n",
       "    }\n",
       "\n",
       "    .dataframe thead th {\n",
       "        text-align: right;\n",
       "    }\n",
       "</style>\n",
       "<table border=\"1\" class=\"dataframe\">\n",
       "  <thead>\n",
       "    <tr style=\"text-align: right;\">\n",
       "      <th></th>\n",
       "      <th>DistrictId</th>\n",
       "      <th>MedPriceByDistrict</th>\n",
       "    </tr>\n",
       "  </thead>\n",
       "  <tbody>\n",
       "    <tr>\n",
       "      <th>0</th>\n",
       "      <td>0</td>\n",
       "      <td>165963.054142</td>\n",
       "    </tr>\n",
       "    <tr>\n",
       "      <th>1</th>\n",
       "      <td>1</td>\n",
       "      <td>183663.443595</td>\n",
       "    </tr>\n",
       "    <tr>\n",
       "      <th>2</th>\n",
       "      <td>10</td>\n",
       "      <td>217749.656911</td>\n",
       "    </tr>\n",
       "    <tr>\n",
       "      <th>3</th>\n",
       "      <td>100</td>\n",
       "      <td>234032.836228</td>\n",
       "    </tr>\n",
       "    <tr>\n",
       "      <th>4</th>\n",
       "      <td>101</td>\n",
       "      <td>184276.502773</td>\n",
       "    </tr>\n",
       "  </tbody>\n",
       "</table>\n",
       "</div>"
      ],
      "text/plain": [
       "  DistrictId  MedPriceByDistrict\n",
       "0          0       165963.054142\n",
       "1          1       183663.443595\n",
       "2         10       217749.656911\n",
       "3        100       234032.836228\n",
       "4        101       184276.502773"
      ]
     },
     "execution_count": 54,
     "metadata": {},
     "output_type": "execute_result"
    }
   ],
   "source": [
    "med_price_by_district = train_df.groupby(['DistrictId'], as_index=False).agg({'Price':'median'})\\\n",
    "                            .rename(columns={'Price':'MedPriceByDistrict'})\n",
    "\n",
    "med_price_by_district.head()"
   ]
  },
  {
   "cell_type": "code",
   "execution_count": 55,
   "metadata": {
    "execution": {
     "iopub.execute_input": "2022-01-06T15:47:14.217810Z",
     "iopub.status.busy": "2022-01-06T15:47:14.216796Z",
     "iopub.status.idle": "2022-01-06T15:47:14.221056Z",
     "shell.execute_reply": "2022-01-06T15:47:14.220389Z",
     "shell.execute_reply.started": "2022-01-06T15:45:46.592070Z"
    },
    "papermill": {
     "duration": 0.109115,
     "end_time": "2022-01-06T15:47:14.221175",
     "exception": false,
     "start_time": "2022-01-06T15:47:14.112060",
     "status": "completed"
    },
    "tags": []
   },
   "outputs": [
    {
     "data": {
      "text/plain": [
       "(205, 2)"
      ]
     },
     "execution_count": 55,
     "metadata": {},
     "output_type": "execute_result"
    }
   ],
   "source": [
    "med_price_by_district.shape"
   ]
  },
  {
   "cell_type": "code",
   "execution_count": 56,
   "metadata": {
    "execution": {
     "iopub.execute_input": "2022-01-06T15:47:14.427990Z",
     "iopub.status.busy": "2022-01-06T15:47:14.427236Z",
     "iopub.status.idle": "2022-01-06T15:47:14.459395Z",
     "shell.execute_reply": "2022-01-06T15:47:14.458727Z",
     "shell.execute_reply.started": "2022-01-06T15:45:46.602163Z"
    },
    "papermill": {
     "duration": 0.139136,
     "end_time": "2022-01-06T15:47:14.459515",
     "exception": false,
     "start_time": "2022-01-06T15:47:14.320379",
     "status": "completed"
    },
    "tags": []
   },
   "outputs": [
    {
     "data": {
      "text/html": [
       "<div>\n",
       "<style scoped>\n",
       "    .dataframe tbody tr th:only-of-type {\n",
       "        vertical-align: middle;\n",
       "    }\n",
       "\n",
       "    .dataframe tbody tr th {\n",
       "        vertical-align: top;\n",
       "    }\n",
       "\n",
       "    .dataframe thead th {\n",
       "        text-align: right;\n",
       "    }\n",
       "</style>\n",
       "<table border=\"1\" class=\"dataframe\">\n",
       "  <thead>\n",
       "    <tr style=\"text-align: right;\">\n",
       "      <th></th>\n",
       "      <th>Id</th>\n",
       "      <th>DistrictId</th>\n",
       "      <th>Rooms</th>\n",
       "      <th>Square</th>\n",
       "      <th>LifeSquare</th>\n",
       "      <th>KitchenSquare</th>\n",
       "      <th>Floor</th>\n",
       "      <th>HouseFloor</th>\n",
       "      <th>HouseYear</th>\n",
       "      <th>Ecology_1</th>\n",
       "      <th>...</th>\n",
       "      <th>Helthcare_2</th>\n",
       "      <th>Shops_1</th>\n",
       "      <th>Shops_2</th>\n",
       "      <th>Price</th>\n",
       "      <th>Rooms_outlier</th>\n",
       "      <th>HouseFloor_outlier</th>\n",
       "      <th>LifeSquare_nan</th>\n",
       "      <th>DistrictSize</th>\n",
       "      <th>IsDistrictLarge</th>\n",
       "      <th>MedPriceByDistrict</th>\n",
       "    </tr>\n",
       "  </thead>\n",
       "  <tbody>\n",
       "    <tr>\n",
       "      <th>0</th>\n",
       "      <td>11809</td>\n",
       "      <td>27</td>\n",
       "      <td>3.0</td>\n",
       "      <td>115.027311</td>\n",
       "      <td>102.027311</td>\n",
       "      <td>10.0</td>\n",
       "      <td>4.0</td>\n",
       "      <td>10.0</td>\n",
       "      <td>2014</td>\n",
       "      <td>0.075424</td>\n",
       "      <td>...</td>\n",
       "      <td>0</td>\n",
       "      <td>0</td>\n",
       "      <td>1</td>\n",
       "      <td>305018.871089</td>\n",
       "      <td>0</td>\n",
       "      <td>0</td>\n",
       "      <td>1</td>\n",
       "      <td>851</td>\n",
       "      <td>1</td>\n",
       "      <td>146171.433190</td>\n",
       "    </tr>\n",
       "    <tr>\n",
       "      <th>1</th>\n",
       "      <td>3013</td>\n",
       "      <td>22</td>\n",
       "      <td>1.0</td>\n",
       "      <td>39.832524</td>\n",
       "      <td>23.169223</td>\n",
       "      <td>8.0</td>\n",
       "      <td>7.0</td>\n",
       "      <td>8.0</td>\n",
       "      <td>1966</td>\n",
       "      <td>0.118537</td>\n",
       "      <td>...</td>\n",
       "      <td>1</td>\n",
       "      <td>0</td>\n",
       "      <td>1</td>\n",
       "      <td>177734.553407</td>\n",
       "      <td>0</td>\n",
       "      <td>0</td>\n",
       "      <td>0</td>\n",
       "      <td>78</td>\n",
       "      <td>0</td>\n",
       "      <td>183678.134031</td>\n",
       "    </tr>\n",
       "    <tr>\n",
       "      <th>2</th>\n",
       "      <td>8215</td>\n",
       "      <td>1</td>\n",
       "      <td>3.0</td>\n",
       "      <td>78.342215</td>\n",
       "      <td>47.671972</td>\n",
       "      <td>10.0</td>\n",
       "      <td>2.0</td>\n",
       "      <td>17.0</td>\n",
       "      <td>1988</td>\n",
       "      <td>0.025609</td>\n",
       "      <td>...</td>\n",
       "      <td>3</td>\n",
       "      <td>1</td>\n",
       "      <td>1</td>\n",
       "      <td>282078.720850</td>\n",
       "      <td>0</td>\n",
       "      <td>0</td>\n",
       "      <td>0</td>\n",
       "      <td>652</td>\n",
       "      <td>1</td>\n",
       "      <td>183663.443595</td>\n",
       "    </tr>\n",
       "    <tr>\n",
       "      <th>3</th>\n",
       "      <td>2352</td>\n",
       "      <td>1</td>\n",
       "      <td>1.0</td>\n",
       "      <td>40.409907</td>\n",
       "      <td>32.409907</td>\n",
       "      <td>5.0</td>\n",
       "      <td>10.0</td>\n",
       "      <td>22.0</td>\n",
       "      <td>1977</td>\n",
       "      <td>0.007122</td>\n",
       "      <td>...</td>\n",
       "      <td>0</td>\n",
       "      <td>1</td>\n",
       "      <td>1</td>\n",
       "      <td>168106.007630</td>\n",
       "      <td>0</td>\n",
       "      <td>0</td>\n",
       "      <td>1</td>\n",
       "      <td>652</td>\n",
       "      <td>1</td>\n",
       "      <td>183663.443595</td>\n",
       "    </tr>\n",
       "    <tr>\n",
       "      <th>4</th>\n",
       "      <td>13866</td>\n",
       "      <td>94</td>\n",
       "      <td>2.0</td>\n",
       "      <td>64.285067</td>\n",
       "      <td>38.562517</td>\n",
       "      <td>9.0</td>\n",
       "      <td>16.0</td>\n",
       "      <td>16.0</td>\n",
       "      <td>1972</td>\n",
       "      <td>0.282798</td>\n",
       "      <td>...</td>\n",
       "      <td>0</td>\n",
       "      <td>6</td>\n",
       "      <td>1</td>\n",
       "      <td>343995.102962</td>\n",
       "      <td>0</td>\n",
       "      <td>0</td>\n",
       "      <td>0</td>\n",
       "      <td>89</td>\n",
       "      <td>0</td>\n",
       "      <td>181706.718894</td>\n",
       "    </tr>\n",
       "  </tbody>\n",
       "</table>\n",
       "<p>5 rows × 26 columns</p>\n",
       "</div>"
      ],
      "text/plain": [
       "      Id DistrictId  Rooms      Square  LifeSquare  KitchenSquare  Floor  \\\n",
       "0  11809         27    3.0  115.027311  102.027311           10.0    4.0   \n",
       "1   3013         22    1.0   39.832524   23.169223            8.0    7.0   \n",
       "2   8215          1    3.0   78.342215   47.671972           10.0    2.0   \n",
       "3   2352          1    1.0   40.409907   32.409907            5.0   10.0   \n",
       "4  13866         94    2.0   64.285067   38.562517            9.0   16.0   \n",
       "\n",
       "   HouseFloor  HouseYear  Ecology_1  ...  Helthcare_2  Shops_1  Shops_2  \\\n",
       "0        10.0       2014   0.075424  ...            0        0        1   \n",
       "1         8.0       1966   0.118537  ...            1        0        1   \n",
       "2        17.0       1988   0.025609  ...            3        1        1   \n",
       "3        22.0       1977   0.007122  ...            0        1        1   \n",
       "4        16.0       1972   0.282798  ...            0        6        1   \n",
       "\n",
       "           Price  Rooms_outlier  HouseFloor_outlier  LifeSquare_nan  \\\n",
       "0  305018.871089              0                   0               1   \n",
       "1  177734.553407              0                   0               0   \n",
       "2  282078.720850              0                   0               0   \n",
       "3  168106.007630              0                   0               1   \n",
       "4  343995.102962              0                   0               0   \n",
       "\n",
       "   DistrictSize  IsDistrictLarge  MedPriceByDistrict  \n",
       "0           851                1       146171.433190  \n",
       "1            78                0       183678.134031  \n",
       "2           652                1       183663.443595  \n",
       "3           652                1       183663.443595  \n",
       "4            89                0       181706.718894  \n",
       "\n",
       "[5 rows x 26 columns]"
      ]
     },
     "execution_count": 56,
     "metadata": {},
     "output_type": "execute_result"
    }
   ],
   "source": [
    "train_df = train_df.merge(med_price_by_district, on=['DistrictId'], how='left')\n",
    "train_df.head()"
   ]
  },
  {
   "cell_type": "markdown",
   "metadata": {
    "papermill": {
     "duration": 0.098534,
     "end_time": "2022-01-06T15:47:14.657913",
     "exception": false,
     "start_time": "2022-01-06T15:47:14.559379",
     "status": "completed"
    },
    "tags": []
   },
   "source": [
    "**MedPriceByFloorYear**"
   ]
  },
  {
   "cell_type": "code",
   "execution_count": 57,
   "metadata": {
    "execution": {
     "iopub.execute_input": "2022-01-06T15:47:14.867435Z",
     "iopub.status.busy": "2022-01-06T15:47:14.866015Z",
     "iopub.status.idle": "2022-01-06T15:47:14.870633Z",
     "shell.execute_reply": "2022-01-06T15:47:14.869941Z",
     "shell.execute_reply.started": "2022-01-06T15:45:46.649891Z"
    },
    "papermill": {
     "duration": 0.113815,
     "end_time": "2022-01-06T15:47:14.870768",
     "exception": false,
     "start_time": "2022-01-06T15:47:14.756953",
     "status": "completed"
    },
    "tags": []
   },
   "outputs": [],
   "source": [
    "def floor_to_cat(X):\n",
    "    bins = [X['Floor'].min(), 3, 5, 9, 15, X['Floor'].max()]\n",
    "    X['floor_cat'] = pd.cut(X['Floor'], bins=bins, labels=False)\n",
    "    \n",
    "    X['floor_cat'].fillna(-1, inplace=True)\n",
    "    return X\n",
    "\n",
    "def year_to_cat(X):\n",
    "    bins = [X['HouseYear'].min(), 1941, 1945, 1980, 2000, 2010, X['HouseYear'].max()]\n",
    "    X['year_cat'] = pd.cut(X['HouseYear'], bins=bins, labels=False)\n",
    "    \n",
    "    X['year_cat'].fillna(-1, inplace=True)\n",
    "    return X"
   ]
  },
  {
   "cell_type": "code",
   "execution_count": 58,
   "metadata": {
    "execution": {
     "iopub.execute_input": "2022-01-06T15:47:15.079103Z",
     "iopub.status.busy": "2022-01-06T15:47:15.078390Z",
     "iopub.status.idle": "2022-01-06T15:47:15.087124Z",
     "shell.execute_reply": "2022-01-06T15:47:15.086542Z",
     "shell.execute_reply.started": "2022-01-06T15:45:46.661876Z"
    },
    "papermill": {
     "duration": 0.117063,
     "end_time": "2022-01-06T15:47:15.087249",
     "exception": false,
     "start_time": "2022-01-06T15:47:14.970186",
     "status": "completed"
    },
    "tags": []
   },
   "outputs": [
    {
     "data": {
      "text/plain": [
       "0       1.0\n",
       "1       2.0\n",
       "2       0.0\n",
       "3       3.0\n",
       "4       4.0\n",
       "       ... \n",
       "9995    0.0\n",
       "9996    3.0\n",
       "9997    0.0\n",
       "9998    0.0\n",
       "9999    2.0\n",
       "Name: Floor, Length: 10000, dtype: float64"
      ]
     },
     "execution_count": 58,
     "metadata": {},
     "output_type": "execute_result"
    }
   ],
   "source": [
    "bins = [train_df['Floor'].min(), 3, 5, 9, 15, train_df['Floor'].max()]\n",
    "pd.cut(train_df['Floor'], bins=bins, labels=False)"
   ]
  },
  {
   "cell_type": "code",
   "execution_count": 59,
   "metadata": {
    "execution": {
     "iopub.execute_input": "2022-01-06T15:47:15.296364Z",
     "iopub.status.busy": "2022-01-06T15:47:15.295633Z",
     "iopub.status.idle": "2022-01-06T15:47:15.314354Z",
     "shell.execute_reply": "2022-01-06T15:47:15.313701Z",
     "shell.execute_reply.started": "2022-01-06T15:45:46.681483Z"
    },
    "papermill": {
     "duration": 0.127157,
     "end_time": "2022-01-06T15:47:15.314478",
     "exception": false,
     "start_time": "2022-01-06T15:47:15.187321",
     "status": "completed"
    },
    "tags": []
   },
   "outputs": [
    {
     "data": {
      "text/plain": [
       "0         (3.0, 5.0]\n",
       "1         (5.0, 9.0]\n",
       "2         (1.0, 3.0]\n",
       "3        (9.0, 15.0]\n",
       "4       (15.0, 42.0]\n",
       "            ...     \n",
       "9995      (1.0, 3.0]\n",
       "9996     (9.0, 15.0]\n",
       "9997      (1.0, 3.0]\n",
       "9998      (1.0, 3.0]\n",
       "9999      (5.0, 9.0]\n",
       "Name: Floor, Length: 10000, dtype: category\n",
       "Categories (5, interval[float64]): [(1.0, 3.0] < (3.0, 5.0] < (5.0, 9.0] < (9.0, 15.0] < (15.0, 42.0]]"
      ]
     },
     "execution_count": 59,
     "metadata": {},
     "output_type": "execute_result"
    }
   ],
   "source": [
    "bins = [train_df['Floor'].min(), 3, 5, 9, 15, train_df['Floor'].max()]\n",
    "pd.cut(train_df['Floor'], bins=bins)"
   ]
  },
  {
   "cell_type": "code",
   "execution_count": 60,
   "metadata": {
    "execution": {
     "iopub.execute_input": "2022-01-06T15:47:15.520932Z",
     "iopub.status.busy": "2022-01-06T15:47:15.520228Z",
     "iopub.status.idle": "2022-01-06T15:47:15.553015Z",
     "shell.execute_reply": "2022-01-06T15:47:15.553661Z",
     "shell.execute_reply.started": "2022-01-06T15:45:46.702037Z"
    },
    "papermill": {
     "duration": 0.136214,
     "end_time": "2022-01-06T15:47:15.553833",
     "exception": false,
     "start_time": "2022-01-06T15:47:15.417619",
     "status": "completed"
    },
    "tags": []
   },
   "outputs": [
    {
     "data": {
      "text/html": [
       "<div>\n",
       "<style scoped>\n",
       "    .dataframe tbody tr th:only-of-type {\n",
       "        vertical-align: middle;\n",
       "    }\n",
       "\n",
       "    .dataframe tbody tr th {\n",
       "        vertical-align: top;\n",
       "    }\n",
       "\n",
       "    .dataframe thead th {\n",
       "        text-align: right;\n",
       "    }\n",
       "</style>\n",
       "<table border=\"1\" class=\"dataframe\">\n",
       "  <thead>\n",
       "    <tr style=\"text-align: right;\">\n",
       "      <th></th>\n",
       "      <th>Id</th>\n",
       "      <th>DistrictId</th>\n",
       "      <th>Rooms</th>\n",
       "      <th>Square</th>\n",
       "      <th>LifeSquare</th>\n",
       "      <th>KitchenSquare</th>\n",
       "      <th>Floor</th>\n",
       "      <th>HouseFloor</th>\n",
       "      <th>HouseYear</th>\n",
       "      <th>Ecology_1</th>\n",
       "      <th>...</th>\n",
       "      <th>Shops_2</th>\n",
       "      <th>Price</th>\n",
       "      <th>Rooms_outlier</th>\n",
       "      <th>HouseFloor_outlier</th>\n",
       "      <th>LifeSquare_nan</th>\n",
       "      <th>DistrictSize</th>\n",
       "      <th>IsDistrictLarge</th>\n",
       "      <th>MedPriceByDistrict</th>\n",
       "      <th>year_cat</th>\n",
       "      <th>floor_cat</th>\n",
       "    </tr>\n",
       "  </thead>\n",
       "  <tbody>\n",
       "    <tr>\n",
       "      <th>0</th>\n",
       "      <td>11809</td>\n",
       "      <td>27</td>\n",
       "      <td>3.0</td>\n",
       "      <td>115.027311</td>\n",
       "      <td>102.027311</td>\n",
       "      <td>10.0</td>\n",
       "      <td>4.0</td>\n",
       "      <td>10.0</td>\n",
       "      <td>2014</td>\n",
       "      <td>0.075424</td>\n",
       "      <td>...</td>\n",
       "      <td>1</td>\n",
       "      <td>305018.871089</td>\n",
       "      <td>0</td>\n",
       "      <td>0</td>\n",
       "      <td>1</td>\n",
       "      <td>851</td>\n",
       "      <td>1</td>\n",
       "      <td>146171.433190</td>\n",
       "      <td>5.0</td>\n",
       "      <td>1.0</td>\n",
       "    </tr>\n",
       "    <tr>\n",
       "      <th>1</th>\n",
       "      <td>3013</td>\n",
       "      <td>22</td>\n",
       "      <td>1.0</td>\n",
       "      <td>39.832524</td>\n",
       "      <td>23.169223</td>\n",
       "      <td>8.0</td>\n",
       "      <td>7.0</td>\n",
       "      <td>8.0</td>\n",
       "      <td>1966</td>\n",
       "      <td>0.118537</td>\n",
       "      <td>...</td>\n",
       "      <td>1</td>\n",
       "      <td>177734.553407</td>\n",
       "      <td>0</td>\n",
       "      <td>0</td>\n",
       "      <td>0</td>\n",
       "      <td>78</td>\n",
       "      <td>0</td>\n",
       "      <td>183678.134031</td>\n",
       "      <td>2.0</td>\n",
       "      <td>2.0</td>\n",
       "    </tr>\n",
       "    <tr>\n",
       "      <th>2</th>\n",
       "      <td>8215</td>\n",
       "      <td>1</td>\n",
       "      <td>3.0</td>\n",
       "      <td>78.342215</td>\n",
       "      <td>47.671972</td>\n",
       "      <td>10.0</td>\n",
       "      <td>2.0</td>\n",
       "      <td>17.0</td>\n",
       "      <td>1988</td>\n",
       "      <td>0.025609</td>\n",
       "      <td>...</td>\n",
       "      <td>1</td>\n",
       "      <td>282078.720850</td>\n",
       "      <td>0</td>\n",
       "      <td>0</td>\n",
       "      <td>0</td>\n",
       "      <td>652</td>\n",
       "      <td>1</td>\n",
       "      <td>183663.443595</td>\n",
       "      <td>3.0</td>\n",
       "      <td>0.0</td>\n",
       "    </tr>\n",
       "    <tr>\n",
       "      <th>3</th>\n",
       "      <td>2352</td>\n",
       "      <td>1</td>\n",
       "      <td>1.0</td>\n",
       "      <td>40.409907</td>\n",
       "      <td>32.409907</td>\n",
       "      <td>5.0</td>\n",
       "      <td>10.0</td>\n",
       "      <td>22.0</td>\n",
       "      <td>1977</td>\n",
       "      <td>0.007122</td>\n",
       "      <td>...</td>\n",
       "      <td>1</td>\n",
       "      <td>168106.007630</td>\n",
       "      <td>0</td>\n",
       "      <td>0</td>\n",
       "      <td>1</td>\n",
       "      <td>652</td>\n",
       "      <td>1</td>\n",
       "      <td>183663.443595</td>\n",
       "      <td>2.0</td>\n",
       "      <td>3.0</td>\n",
       "    </tr>\n",
       "    <tr>\n",
       "      <th>4</th>\n",
       "      <td>13866</td>\n",
       "      <td>94</td>\n",
       "      <td>2.0</td>\n",
       "      <td>64.285067</td>\n",
       "      <td>38.562517</td>\n",
       "      <td>9.0</td>\n",
       "      <td>16.0</td>\n",
       "      <td>16.0</td>\n",
       "      <td>1972</td>\n",
       "      <td>0.282798</td>\n",
       "      <td>...</td>\n",
       "      <td>1</td>\n",
       "      <td>343995.102962</td>\n",
       "      <td>0</td>\n",
       "      <td>0</td>\n",
       "      <td>0</td>\n",
       "      <td>89</td>\n",
       "      <td>0</td>\n",
       "      <td>181706.718894</td>\n",
       "      <td>2.0</td>\n",
       "      <td>4.0</td>\n",
       "    </tr>\n",
       "  </tbody>\n",
       "</table>\n",
       "<p>5 rows × 28 columns</p>\n",
       "</div>"
      ],
      "text/plain": [
       "      Id DistrictId  Rooms      Square  LifeSquare  KitchenSquare  Floor  \\\n",
       "0  11809         27    3.0  115.027311  102.027311           10.0    4.0   \n",
       "1   3013         22    1.0   39.832524   23.169223            8.0    7.0   \n",
       "2   8215          1    3.0   78.342215   47.671972           10.0    2.0   \n",
       "3   2352          1    1.0   40.409907   32.409907            5.0   10.0   \n",
       "4  13866         94    2.0   64.285067   38.562517            9.0   16.0   \n",
       "\n",
       "   HouseFloor  HouseYear  Ecology_1  ...  Shops_2          Price  \\\n",
       "0        10.0       2014   0.075424  ...        1  305018.871089   \n",
       "1         8.0       1966   0.118537  ...        1  177734.553407   \n",
       "2        17.0       1988   0.025609  ...        1  282078.720850   \n",
       "3        22.0       1977   0.007122  ...        1  168106.007630   \n",
       "4        16.0       1972   0.282798  ...        1  343995.102962   \n",
       "\n",
       "   Rooms_outlier  HouseFloor_outlier  LifeSquare_nan  DistrictSize  \\\n",
       "0              0                   0               1           851   \n",
       "1              0                   0               0            78   \n",
       "2              0                   0               0           652   \n",
       "3              0                   0               1           652   \n",
       "4              0                   0               0            89   \n",
       "\n",
       "   IsDistrictLarge  MedPriceByDistrict  year_cat  floor_cat  \n",
       "0                1       146171.433190       5.0        1.0  \n",
       "1                0       183678.134031       2.0        2.0  \n",
       "2                1       183663.443595       3.0        0.0  \n",
       "3                1       183663.443595       2.0        3.0  \n",
       "4                0       181706.718894       2.0        4.0  \n",
       "\n",
       "[5 rows x 28 columns]"
      ]
     },
     "execution_count": 60,
     "metadata": {},
     "output_type": "execute_result"
    }
   ],
   "source": [
    "train_df = year_to_cat(train_df)\n",
    "train_df = floor_to_cat(train_df)\n",
    "train_df.head()"
   ]
  },
  {
   "cell_type": "code",
   "execution_count": 61,
   "metadata": {
    "execution": {
     "iopub.execute_input": "2022-01-06T15:47:15.759091Z",
     "iopub.status.busy": "2022-01-06T15:47:15.758383Z",
     "iopub.status.idle": "2022-01-06T15:47:15.778194Z",
     "shell.execute_reply": "2022-01-06T15:47:15.777148Z",
     "shell.execute_reply.started": "2022-01-06T15:45:46.740883Z"
    },
    "papermill": {
     "duration": 0.123747,
     "end_time": "2022-01-06T15:47:15.778348",
     "exception": false,
     "start_time": "2022-01-06T15:47:15.654601",
     "status": "completed"
    },
    "tags": []
   },
   "outputs": [
    {
     "data": {
      "text/html": [
       "<div>\n",
       "<style scoped>\n",
       "    .dataframe tbody tr th:only-of-type {\n",
       "        vertical-align: middle;\n",
       "    }\n",
       "\n",
       "    .dataframe tbody tr th {\n",
       "        vertical-align: top;\n",
       "    }\n",
       "\n",
       "    .dataframe thead th {\n",
       "        text-align: right;\n",
       "    }\n",
       "</style>\n",
       "<table border=\"1\" class=\"dataframe\">\n",
       "  <thead>\n",
       "    <tr style=\"text-align: right;\">\n",
       "      <th></th>\n",
       "      <th>year_cat</th>\n",
       "      <th>floor_cat</th>\n",
       "      <th>MedPriceByFloorYear</th>\n",
       "    </tr>\n",
       "  </thead>\n",
       "  <tbody>\n",
       "    <tr>\n",
       "      <th>0</th>\n",
       "      <td>-1.0</td>\n",
       "      <td>2.0</td>\n",
       "      <td>287954.720682</td>\n",
       "    </tr>\n",
       "    <tr>\n",
       "      <th>1</th>\n",
       "      <td>0.0</td>\n",
       "      <td>-1.0</td>\n",
       "      <td>263299.720173</td>\n",
       "    </tr>\n",
       "    <tr>\n",
       "      <th>2</th>\n",
       "      <td>0.0</td>\n",
       "      <td>0.0</td>\n",
       "      <td>410299.956558</td>\n",
       "    </tr>\n",
       "    <tr>\n",
       "      <th>3</th>\n",
       "      <td>0.0</td>\n",
       "      <td>1.0</td>\n",
       "      <td>324303.812481</td>\n",
       "    </tr>\n",
       "    <tr>\n",
       "      <th>4</th>\n",
       "      <td>0.0</td>\n",
       "      <td>2.0</td>\n",
       "      <td>423580.477982</td>\n",
       "    </tr>\n",
       "  </tbody>\n",
       "</table>\n",
       "</div>"
      ],
      "text/plain": [
       "   year_cat  floor_cat  MedPriceByFloorYear\n",
       "0      -1.0        2.0        287954.720682\n",
       "1       0.0       -1.0        263299.720173\n",
       "2       0.0        0.0        410299.956558\n",
       "3       0.0        1.0        324303.812481\n",
       "4       0.0        2.0        423580.477982"
      ]
     },
     "execution_count": 61,
     "metadata": {},
     "output_type": "execute_result"
    }
   ],
   "source": [
    "med_price_by_floor_year = train_df.groupby(['year_cat', 'floor_cat'], as_index=False).agg({'Price':'median'}).\\\n",
    "                                            rename(columns={'Price':'MedPriceByFloorYear'})\n",
    "med_price_by_floor_year.head()"
   ]
  },
  {
   "cell_type": "code",
   "execution_count": 62,
   "metadata": {
    "execution": {
     "iopub.execute_input": "2022-01-06T15:47:15.998208Z",
     "iopub.status.busy": "2022-01-06T15:47:15.997182Z",
     "iopub.status.idle": "2022-01-06T15:47:16.034277Z",
     "shell.execute_reply": "2022-01-06T15:47:16.033540Z",
     "shell.execute_reply.started": "2022-01-06T15:45:46.764212Z"
    },
    "papermill": {
     "duration": 0.153342,
     "end_time": "2022-01-06T15:47:16.034403",
     "exception": false,
     "start_time": "2022-01-06T15:47:15.881061",
     "status": "completed"
    },
    "tags": []
   },
   "outputs": [
    {
     "data": {
      "text/html": [
       "<div>\n",
       "<style scoped>\n",
       "    .dataframe tbody tr th:only-of-type {\n",
       "        vertical-align: middle;\n",
       "    }\n",
       "\n",
       "    .dataframe tbody tr th {\n",
       "        vertical-align: top;\n",
       "    }\n",
       "\n",
       "    .dataframe thead th {\n",
       "        text-align: right;\n",
       "    }\n",
       "</style>\n",
       "<table border=\"1\" class=\"dataframe\">\n",
       "  <thead>\n",
       "    <tr style=\"text-align: right;\">\n",
       "      <th></th>\n",
       "      <th>Id</th>\n",
       "      <th>DistrictId</th>\n",
       "      <th>Rooms</th>\n",
       "      <th>Square</th>\n",
       "      <th>LifeSquare</th>\n",
       "      <th>KitchenSquare</th>\n",
       "      <th>Floor</th>\n",
       "      <th>HouseFloor</th>\n",
       "      <th>HouseYear</th>\n",
       "      <th>Ecology_1</th>\n",
       "      <th>...</th>\n",
       "      <th>Price</th>\n",
       "      <th>Rooms_outlier</th>\n",
       "      <th>HouseFloor_outlier</th>\n",
       "      <th>LifeSquare_nan</th>\n",
       "      <th>DistrictSize</th>\n",
       "      <th>IsDistrictLarge</th>\n",
       "      <th>MedPriceByDistrict</th>\n",
       "      <th>year_cat</th>\n",
       "      <th>floor_cat</th>\n",
       "      <th>MedPriceByFloorYear</th>\n",
       "    </tr>\n",
       "  </thead>\n",
       "  <tbody>\n",
       "    <tr>\n",
       "      <th>0</th>\n",
       "      <td>11809</td>\n",
       "      <td>27</td>\n",
       "      <td>3.0</td>\n",
       "      <td>115.027311</td>\n",
       "      <td>102.027311</td>\n",
       "      <td>10.0</td>\n",
       "      <td>4.0</td>\n",
       "      <td>10.0</td>\n",
       "      <td>2014</td>\n",
       "      <td>0.075424</td>\n",
       "      <td>...</td>\n",
       "      <td>305018.871089</td>\n",
       "      <td>0</td>\n",
       "      <td>0</td>\n",
       "      <td>1</td>\n",
       "      <td>851</td>\n",
       "      <td>1</td>\n",
       "      <td>146171.433190</td>\n",
       "      <td>5.0</td>\n",
       "      <td>1.0</td>\n",
       "      <td>161744.506404</td>\n",
       "    </tr>\n",
       "    <tr>\n",
       "      <th>1</th>\n",
       "      <td>3013</td>\n",
       "      <td>22</td>\n",
       "      <td>1.0</td>\n",
       "      <td>39.832524</td>\n",
       "      <td>23.169223</td>\n",
       "      <td>8.0</td>\n",
       "      <td>7.0</td>\n",
       "      <td>8.0</td>\n",
       "      <td>1966</td>\n",
       "      <td>0.118537</td>\n",
       "      <td>...</td>\n",
       "      <td>177734.553407</td>\n",
       "      <td>0</td>\n",
       "      <td>0</td>\n",
       "      <td>0</td>\n",
       "      <td>78</td>\n",
       "      <td>0</td>\n",
       "      <td>183678.134031</td>\n",
       "      <td>2.0</td>\n",
       "      <td>2.0</td>\n",
       "      <td>192213.977261</td>\n",
       "    </tr>\n",
       "    <tr>\n",
       "      <th>2</th>\n",
       "      <td>8215</td>\n",
       "      <td>1</td>\n",
       "      <td>3.0</td>\n",
       "      <td>78.342215</td>\n",
       "      <td>47.671972</td>\n",
       "      <td>10.0</td>\n",
       "      <td>2.0</td>\n",
       "      <td>17.0</td>\n",
       "      <td>1988</td>\n",
       "      <td>0.025609</td>\n",
       "      <td>...</td>\n",
       "      <td>282078.720850</td>\n",
       "      <td>0</td>\n",
       "      <td>0</td>\n",
       "      <td>0</td>\n",
       "      <td>652</td>\n",
       "      <td>1</td>\n",
       "      <td>183663.443595</td>\n",
       "      <td>3.0</td>\n",
       "      <td>0.0</td>\n",
       "      <td>205210.068542</td>\n",
       "    </tr>\n",
       "    <tr>\n",
       "      <th>3</th>\n",
       "      <td>2352</td>\n",
       "      <td>1</td>\n",
       "      <td>1.0</td>\n",
       "      <td>40.409907</td>\n",
       "      <td>32.409907</td>\n",
       "      <td>5.0</td>\n",
       "      <td>10.0</td>\n",
       "      <td>22.0</td>\n",
       "      <td>1977</td>\n",
       "      <td>0.007122</td>\n",
       "      <td>...</td>\n",
       "      <td>168106.007630</td>\n",
       "      <td>0</td>\n",
       "      <td>0</td>\n",
       "      <td>1</td>\n",
       "      <td>652</td>\n",
       "      <td>1</td>\n",
       "      <td>183663.443595</td>\n",
       "      <td>2.0</td>\n",
       "      <td>3.0</td>\n",
       "      <td>184374.328532</td>\n",
       "    </tr>\n",
       "    <tr>\n",
       "      <th>4</th>\n",
       "      <td>13866</td>\n",
       "      <td>94</td>\n",
       "      <td>2.0</td>\n",
       "      <td>64.285067</td>\n",
       "      <td>38.562517</td>\n",
       "      <td>9.0</td>\n",
       "      <td>16.0</td>\n",
       "      <td>16.0</td>\n",
       "      <td>1972</td>\n",
       "      <td>0.282798</td>\n",
       "      <td>...</td>\n",
       "      <td>343995.102962</td>\n",
       "      <td>0</td>\n",
       "      <td>0</td>\n",
       "      <td>0</td>\n",
       "      <td>89</td>\n",
       "      <td>0</td>\n",
       "      <td>181706.718894</td>\n",
       "      <td>2.0</td>\n",
       "      <td>4.0</td>\n",
       "      <td>175503.767602</td>\n",
       "    </tr>\n",
       "  </tbody>\n",
       "</table>\n",
       "<p>5 rows × 29 columns</p>\n",
       "</div>"
      ],
      "text/plain": [
       "      Id DistrictId  Rooms      Square  LifeSquare  KitchenSquare  Floor  \\\n",
       "0  11809         27    3.0  115.027311  102.027311           10.0    4.0   \n",
       "1   3013         22    1.0   39.832524   23.169223            8.0    7.0   \n",
       "2   8215          1    3.0   78.342215   47.671972           10.0    2.0   \n",
       "3   2352          1    1.0   40.409907   32.409907            5.0   10.0   \n",
       "4  13866         94    2.0   64.285067   38.562517            9.0   16.0   \n",
       "\n",
       "   HouseFloor  HouseYear  Ecology_1  ...          Price  Rooms_outlier  \\\n",
       "0        10.0       2014   0.075424  ...  305018.871089              0   \n",
       "1         8.0       1966   0.118537  ...  177734.553407              0   \n",
       "2        17.0       1988   0.025609  ...  282078.720850              0   \n",
       "3        22.0       1977   0.007122  ...  168106.007630              0   \n",
       "4        16.0       1972   0.282798  ...  343995.102962              0   \n",
       "\n",
       "   HouseFloor_outlier  LifeSquare_nan  DistrictSize  IsDistrictLarge  \\\n",
       "0                   0               1           851                1   \n",
       "1                   0               0            78                0   \n",
       "2                   0               0           652                1   \n",
       "3                   0               1           652                1   \n",
       "4                   0               0            89                0   \n",
       "\n",
       "   MedPriceByDistrict  year_cat  floor_cat  MedPriceByFloorYear  \n",
       "0       146171.433190       5.0        1.0        161744.506404  \n",
       "1       183678.134031       2.0        2.0        192213.977261  \n",
       "2       183663.443595       3.0        0.0        205210.068542  \n",
       "3       183663.443595       2.0        3.0        184374.328532  \n",
       "4       181706.718894       2.0        4.0        175503.767602  \n",
       "\n",
       "[5 rows x 29 columns]"
      ]
     },
     "execution_count": 62,
     "metadata": {},
     "output_type": "execute_result"
    }
   ],
   "source": [
    "train_df = train_df.merge(med_price_by_floor_year, on=['year_cat', 'floor_cat'], how='left')\n",
    "train_df.head()"
   ]
  },
  {
   "cell_type": "code",
   "execution_count": 63,
   "metadata": {
    "execution": {
     "iopub.execute_input": "2022-01-06T15:47:16.253881Z",
     "iopub.status.busy": "2022-01-06T15:47:16.253107Z",
     "iopub.status.idle": "2022-01-06T15:47:16.285699Z",
     "shell.execute_reply": "2022-01-06T15:47:16.285078Z",
     "shell.execute_reply.started": "2022-01-06T15:45:46.812938Z"
    },
    "papermill": {
     "duration": 0.14675,
     "end_time": "2022-01-06T15:47:16.285830",
     "exception": false,
     "start_time": "2022-01-06T15:47:16.139080",
     "status": "completed"
    },
    "tags": []
   },
   "outputs": [],
   "source": [
    "class FeatureGenetator():\n",
    "    \"\"\"Class for feature generation for train and test datasets\"\"\"\n",
    "    \n",
    "    def __init__(self, large_district_threshold=100, med_price_by_district_grouping=[]):\n",
    "        \"\"\"Feature parameters\"\"\"\n",
    "        self.DistrictId_counts = None\n",
    "        self.binary_to_numbers = None\n",
    "        self.med_price_by_district = None\n",
    "        self.med_price_by_floor_year = None\n",
    "        self.house_year_max = None\n",
    "        self.floor_max = None\n",
    "        self.house_year_min = None\n",
    "        self.floor_min = None\n",
    "        self.district_size = None\n",
    "        \n",
    "        self.large_district_threshold = large_district_threshold\n",
    "        self.med_price_by_district_grouping = med_price_by_district_grouping\n",
    "        \n",
    "    def fit(self, X, y=None):\n",
    "        \"\"\"Get statistics\"\"\"\n",
    "        X = X.copy()\n",
    "        \n",
    "        # Binary features\n",
    "        self.binary_to_numbers = {'A': 0, 'B': 1}\n",
    "        \n",
    "        # DistrictID\n",
    "        self.district_size = X['DistrictId'].value_counts().reset_index() \\\n",
    "                               .rename(columns={'index':'DistrictId', 'DistrictId':'DistrictSize'})\n",
    "        \n",
    "        # Target encoding\n",
    "        ## District, Rooms\n",
    "        df = X.copy()\n",
    "        \n",
    "        if y is not None:\n",
    "            df['Price'] = y.values\n",
    "            \n",
    "            self.med_price_by_district = df.groupby(self.med_price_by_district_grouping, as_index=False).agg({'Price':'median'}) \\\n",
    "                                            .rename(columns={'Price':'MedPriceByDistrict'})\n",
    "            \n",
    "            self.med_price_by_district_median = self.med_price_by_district['MedPriceByDistrict'].median()\n",
    "        \n",
    "        ## Median price for square meter in each district\n",
    "        if y is not None:\n",
    "            self.district_price_per_square = df.groupby(['DistrictId'], as_index=False).agg({'Price':'median'}) \\\n",
    "                                            .rename(columns={'Price':'DistrictPrice'})\n",
    "            \n",
    "            self.district_price_per_square_median = self.district_price_per_square['DistrictPrice'].median()\n",
    "        \n",
    "        ## floor, year\n",
    "        if y is not None:\n",
    "            self.floor_max = df['Floor'].max()\n",
    "            self.floor_min = df['Floor'].min()\n",
    "            self.house_year_max = df['HouseYear'].max()\n",
    "            self.house_year_min = df['HouseYear'].min()\n",
    "            df['Price'] = y.values\n",
    "            df = self.floor_to_cat(df)\n",
    "            df = self.year_to_cat(df)\n",
    "            self.med_price_by_floor_year = df.groupby(['year_cat', 'floor_cat'], as_index=False).agg({'Price':'median'}).\\\n",
    "                                            rename(columns={'Price':'MedPriceByFloorYear'})\n",
    "            self.med_price_by_floor_year_median = self.med_price_by_floor_year['MedPriceByFloorYear'].median()\n",
    "    \n",
    "    def transform(self, X):\n",
    "        \"\"\"Transform data\"\"\"\n",
    "        # Binary features\n",
    "        X['Ecology_2'] = X['Ecology_2'].map(self.binary_to_numbers)  # self.binary_to_numbers = {'A': 0, 'B': 1}\n",
    "        X['Ecology_3'] = X['Ecology_3'].map(self.binary_to_numbers)\n",
    "        X['Shops_2'] = X['Shops_2'].map(self.binary_to_numbers)\n",
    "        \n",
    "        # DistrictId, IsDistrictLarge\n",
    "        X = X.merge(self.district_size, on='DistrictId', how='left')\n",
    "        \n",
    "        X['new_district'] = 0\n",
    "        X.loc[X['DistrictSize'].isna(), 'new_district'] = 1\n",
    "        \n",
    "        X['DistrictSize'].fillna(5, inplace=True)\n",
    "        \n",
    "        X['IsDistrictLarge'] = (X['DistrictSize'] > self.large_district_threshold).astype(int)\n",
    "        \n",
    "        # More categorical features\n",
    "        X = self.floor_to_cat(X)\n",
    "        X = self.year_to_cat(X)\n",
    "        \n",
    "        # Target encoding\n",
    "        if self.med_price_by_district is not None:\n",
    "            X = X.merge(self.med_price_by_district, on=self.med_price_by_district_grouping, how='left')\n",
    "            X['MedPriceByDistrict'].fillna(self.med_price_by_district_median, inplace=True)\n",
    "        \n",
    "        if self.med_price_by_floor_year is not None:\n",
    "            X = X.merge(self.med_price_by_floor_year, on=['year_cat', 'floor_cat'], how='left')\n",
    "            X['MedPriceByFloorYear'].fillna(self.med_price_by_floor_year_median, inplace=True)\n",
    "        \n",
    "        if self.district_price_per_square is not None:\n",
    "            X = X.merge(self.district_price_per_square, on=['DistrictId'], how='left')\n",
    "            X['DistrictPrice'].fillna(self.district_price_per_square_median, inplace=True)\n",
    "        \n",
    "        return X\n",
    "    \n",
    "    def floor_to_cat(self, X):\n",
    "        \"\"\"floor_cat feature\"\"\"\n",
    "        bins = [self.floor_min, 3, 5, 9, 15, self.floor_max]\n",
    "        X['floor_cat'] = pd.cut(X['Floor'], bins=bins, labels=False)\n",
    "\n",
    "        X['floor_cat'].fillna(-1, inplace=True)\n",
    "        return X\n",
    "    \n",
    "    def year_to_cat(self, X):\n",
    "        \"\"\"year_cat feature\"\"\"\n",
    "        bins = [self.house_year_min, 1941, 1945, 1980, 2000, 2010, self.house_year_max]\n",
    "        X['year_cat'] = pd.cut(X['HouseYear'], bins=bins, labels=False)\n",
    "\n",
    "        X['year_cat'].fillna(-1, inplace=True)\n",
    "        return X"
   ]
  },
  {
   "cell_type": "markdown",
   "metadata": {
    "papermill": {
     "duration": 0.105465,
     "end_time": "2022-01-06T15:47:16.498565",
     "exception": false,
     "start_time": "2022-01-06T15:47:16.393100",
     "status": "completed"
    },
    "tags": []
   },
   "source": [
    "### **5. Feature selection**  <a class='anchor' id='feature_selection'>"
   ]
  },
  {
   "cell_type": "code",
   "execution_count": 64,
   "metadata": {
    "execution": {
     "iopub.execute_input": "2022-01-06T15:47:16.713408Z",
     "iopub.status.busy": "2022-01-06T15:47:16.712726Z",
     "iopub.status.idle": "2022-01-06T15:47:16.717480Z",
     "shell.execute_reply": "2022-01-06T15:47:16.716839Z",
     "shell.execute_reply.started": "2022-01-06T15:45:46.851046Z"
    },
    "papermill": {
     "duration": 0.115426,
     "end_time": "2022-01-06T15:47:16.717596",
     "exception": false,
     "start_time": "2022-01-06T15:47:16.602170",
     "status": "completed"
    },
    "tags": []
   },
   "outputs": [
    {
     "data": {
      "text/plain": [
       "['Id',\n",
       " 'DistrictId',\n",
       " 'Rooms',\n",
       " 'Square',\n",
       " 'LifeSquare',\n",
       " 'KitchenSquare',\n",
       " 'Floor',\n",
       " 'HouseFloor',\n",
       " 'HouseYear',\n",
       " 'Ecology_1',\n",
       " 'Ecology_2',\n",
       " 'Ecology_3',\n",
       " 'Social_1',\n",
       " 'Social_2',\n",
       " 'Social_3',\n",
       " 'Healthcare_1',\n",
       " 'Helthcare_2',\n",
       " 'Shops_1',\n",
       " 'Shops_2',\n",
       " 'Price',\n",
       " 'Rooms_outlier',\n",
       " 'HouseFloor_outlier',\n",
       " 'LifeSquare_nan',\n",
       " 'DistrictSize',\n",
       " 'IsDistrictLarge',\n",
       " 'MedPriceByDistrict',\n",
       " 'year_cat',\n",
       " 'floor_cat',\n",
       " 'MedPriceByFloorYear']"
      ]
     },
     "execution_count": 64,
     "metadata": {},
     "output_type": "execute_result"
    }
   ],
   "source": [
    "train_df.columns.tolist()"
   ]
  },
  {
   "cell_type": "code",
   "execution_count": 65,
   "metadata": {
    "execution": {
     "iopub.execute_input": "2022-01-06T15:47:16.929341Z",
     "iopub.status.busy": "2022-01-06T15:47:16.928642Z",
     "iopub.status.idle": "2022-01-06T15:47:16.931782Z",
     "shell.execute_reply": "2022-01-06T15:47:16.931083Z",
     "shell.execute_reply.started": "2022-01-06T15:45:46.869551Z"
    },
    "papermill": {
     "duration": 0.111791,
     "end_time": "2022-01-06T15:47:16.931912",
     "exception": false,
     "start_time": "2022-01-06T15:47:16.820121",
     "status": "completed"
    },
    "tags": []
   },
   "outputs": [],
   "source": [
    "# Exclude Floor and Healthcare_1 columns for better predictions\n",
    "feature_names = ['Rooms', 'Square', 'LifeSquare', 'KitchenSquare', 'HouseFloor', 'HouseYear', # 'Floor',\n",
    "                 'Ecology_1', 'Ecology_2', 'Ecology_3', 'Social_1', 'Social_2', 'Social_3', # 'Healthcare_1',\n",
    "                 'Helthcare_2', 'Shops_1', 'Shops_2']\n",
    "\n",
    "new_feature_names = ['Rooms_outlier', 'HouseFloor_outlier', 'HouseYear_outlier', 'LifeSquare_nan', 'DistrictSize',\n",
    "                     'DistrictPrice', 'new_district', 'IsDistrictLarge',  'MedPriceByDistrict', 'MedPriceByFloorYear']\n",
    "\n",
    "target_name = 'Price'"
   ]
  },
  {
   "cell_type": "markdown",
   "metadata": {
    "papermill": {
     "duration": 0.103938,
     "end_time": "2022-01-06T15:47:17.143813",
     "exception": false,
     "start_time": "2022-01-06T15:47:17.039875",
     "status": "completed"
    },
    "tags": []
   },
   "source": [
    "### **6. Train and test split**  <a class='anchor' id='split'>"
   ]
  },
  {
   "cell_type": "code",
   "execution_count": 66,
   "metadata": {
    "execution": {
     "iopub.execute_input": "2022-01-06T15:47:17.358782Z",
     "iopub.status.busy": "2022-01-06T15:47:17.358063Z",
     "iopub.status.idle": "2022-01-06T15:47:17.410831Z",
     "shell.execute_reply": "2022-01-06T15:47:17.411372Z",
     "shell.execute_reply.started": "2022-01-06T15:45:46.882484Z"
    },
    "papermill": {
     "duration": 0.163503,
     "end_time": "2022-01-06T15:47:17.411546",
     "exception": false,
     "start_time": "2022-01-06T15:47:17.248043",
     "status": "completed"
    },
    "tags": []
   },
   "outputs": [],
   "source": [
    "train_df = pd.read_csv(TRAIN_DATASET_PATH)\n",
    "test_df = pd.read_csv(TEST_DATASET_PATH)\n",
    "\n",
    "X = train_df.drop(columns=target_name)\n",
    "y = train_df[target_name]"
   ]
  },
  {
   "cell_type": "code",
   "execution_count": 67,
   "metadata": {
    "execution": {
     "iopub.execute_input": "2022-01-06T15:47:17.621800Z",
     "iopub.status.busy": "2022-01-06T15:47:17.621066Z",
     "iopub.status.idle": "2022-01-06T15:47:17.654093Z",
     "shell.execute_reply": "2022-01-06T15:47:17.653503Z",
     "shell.execute_reply.started": "2022-01-06T15:45:46.949572Z"
    },
    "papermill": {
     "duration": 0.13943,
     "end_time": "2022-01-06T15:47:17.654226",
     "exception": false,
     "start_time": "2022-01-06T15:47:17.514796",
     "status": "completed"
    },
    "tags": []
   },
   "outputs": [
    {
     "data": {
      "text/html": [
       "<div>\n",
       "<style scoped>\n",
       "    .dataframe tbody tr th:only-of-type {\n",
       "        vertical-align: middle;\n",
       "    }\n",
       "\n",
       "    .dataframe tbody tr th {\n",
       "        vertical-align: top;\n",
       "    }\n",
       "\n",
       "    .dataframe thead th {\n",
       "        text-align: right;\n",
       "    }\n",
       "</style>\n",
       "<table border=\"1\" class=\"dataframe\">\n",
       "  <thead>\n",
       "    <tr style=\"text-align: right;\">\n",
       "      <th></th>\n",
       "      <th>Id</th>\n",
       "      <th>DistrictId</th>\n",
       "      <th>Rooms</th>\n",
       "      <th>Square</th>\n",
       "      <th>LifeSquare</th>\n",
       "      <th>KitchenSquare</th>\n",
       "      <th>Floor</th>\n",
       "      <th>HouseFloor</th>\n",
       "      <th>HouseYear</th>\n",
       "      <th>Ecology_1</th>\n",
       "      <th>Ecology_2</th>\n",
       "      <th>Ecology_3</th>\n",
       "      <th>Social_1</th>\n",
       "      <th>Social_2</th>\n",
       "      <th>Social_3</th>\n",
       "      <th>Healthcare_1</th>\n",
       "      <th>Helthcare_2</th>\n",
       "      <th>Shops_1</th>\n",
       "      <th>Shops_2</th>\n",
       "    </tr>\n",
       "  </thead>\n",
       "  <tbody>\n",
       "    <tr>\n",
       "      <th>0</th>\n",
       "      <td>4567</td>\n",
       "      <td>44</td>\n",
       "      <td>1.0</td>\n",
       "      <td>36.847630</td>\n",
       "      <td>19.094182</td>\n",
       "      <td>5.0</td>\n",
       "      <td>5</td>\n",
       "      <td>9.0</td>\n",
       "      <td>1970</td>\n",
       "      <td>0.036122</td>\n",
       "      <td>B</td>\n",
       "      <td>B</td>\n",
       "      <td>24</td>\n",
       "      <td>4378</td>\n",
       "      <td>0</td>\n",
       "      <td>1036.0</td>\n",
       "      <td>1</td>\n",
       "      <td>1</td>\n",
       "      <td>B</td>\n",
       "    </tr>\n",
       "    <tr>\n",
       "      <th>1</th>\n",
       "      <td>5925</td>\n",
       "      <td>62</td>\n",
       "      <td>1.0</td>\n",
       "      <td>42.493907</td>\n",
       "      <td>42.568133</td>\n",
       "      <td>10.0</td>\n",
       "      <td>7</td>\n",
       "      <td>17.0</td>\n",
       "      <td>2017</td>\n",
       "      <td>0.072158</td>\n",
       "      <td>B</td>\n",
       "      <td>B</td>\n",
       "      <td>2</td>\n",
       "      <td>629</td>\n",
       "      <td>1</td>\n",
       "      <td>NaN</td>\n",
       "      <td>0</td>\n",
       "      <td>0</td>\n",
       "      <td>A</td>\n",
       "    </tr>\n",
       "    <tr>\n",
       "      <th>2</th>\n",
       "      <td>960</td>\n",
       "      <td>27</td>\n",
       "      <td>2.0</td>\n",
       "      <td>59.463678</td>\n",
       "      <td>NaN</td>\n",
       "      <td>9.0</td>\n",
       "      <td>19</td>\n",
       "      <td>19.0</td>\n",
       "      <td>1977</td>\n",
       "      <td>0.211401</td>\n",
       "      <td>B</td>\n",
       "      <td>B</td>\n",
       "      <td>9</td>\n",
       "      <td>1892</td>\n",
       "      <td>0</td>\n",
       "      <td>NaN</td>\n",
       "      <td>0</td>\n",
       "      <td>1</td>\n",
       "      <td>B</td>\n",
       "    </tr>\n",
       "    <tr>\n",
       "      <th>3</th>\n",
       "      <td>3848</td>\n",
       "      <td>23</td>\n",
       "      <td>3.0</td>\n",
       "      <td>49.646030</td>\n",
       "      <td>33.893825</td>\n",
       "      <td>6.0</td>\n",
       "      <td>2</td>\n",
       "      <td>2.0</td>\n",
       "      <td>1965</td>\n",
       "      <td>0.014073</td>\n",
       "      <td>B</td>\n",
       "      <td>B</td>\n",
       "      <td>2</td>\n",
       "      <td>475</td>\n",
       "      <td>0</td>\n",
       "      <td>NaN</td>\n",
       "      <td>0</td>\n",
       "      <td>0</td>\n",
       "      <td>B</td>\n",
       "    </tr>\n",
       "    <tr>\n",
       "      <th>4</th>\n",
       "      <td>746</td>\n",
       "      <td>74</td>\n",
       "      <td>1.0</td>\n",
       "      <td>53.837056</td>\n",
       "      <td>NaN</td>\n",
       "      <td>1.0</td>\n",
       "      <td>8</td>\n",
       "      <td>17.0</td>\n",
       "      <td>1977</td>\n",
       "      <td>0.309479</td>\n",
       "      <td>B</td>\n",
       "      <td>B</td>\n",
       "      <td>35</td>\n",
       "      <td>7715</td>\n",
       "      <td>4</td>\n",
       "      <td>990.0</td>\n",
       "      <td>0</td>\n",
       "      <td>6</td>\n",
       "      <td>B</td>\n",
       "    </tr>\n",
       "    <tr>\n",
       "      <th>...</th>\n",
       "      <td>...</td>\n",
       "      <td>...</td>\n",
       "      <td>...</td>\n",
       "      <td>...</td>\n",
       "      <td>...</td>\n",
       "      <td>...</td>\n",
       "      <td>...</td>\n",
       "      <td>...</td>\n",
       "      <td>...</td>\n",
       "      <td>...</td>\n",
       "      <td>...</td>\n",
       "      <td>...</td>\n",
       "      <td>...</td>\n",
       "      <td>...</td>\n",
       "      <td>...</td>\n",
       "      <td>...</td>\n",
       "      <td>...</td>\n",
       "      <td>...</td>\n",
       "      <td>...</td>\n",
       "    </tr>\n",
       "    <tr>\n",
       "      <th>4995</th>\n",
       "      <td>10379</td>\n",
       "      <td>29</td>\n",
       "      <td>2.0</td>\n",
       "      <td>43.177521</td>\n",
       "      <td>30.339945</td>\n",
       "      <td>5.0</td>\n",
       "      <td>6</td>\n",
       "      <td>5.0</td>\n",
       "      <td>1962</td>\n",
       "      <td>0.069660</td>\n",
       "      <td>B</td>\n",
       "      <td>B</td>\n",
       "      <td>31</td>\n",
       "      <td>6119</td>\n",
       "      <td>4</td>\n",
       "      <td>NaN</td>\n",
       "      <td>1</td>\n",
       "      <td>2</td>\n",
       "      <td>B</td>\n",
       "    </tr>\n",
       "    <tr>\n",
       "      <th>4996</th>\n",
       "      <td>16138</td>\n",
       "      <td>38</td>\n",
       "      <td>3.0</td>\n",
       "      <td>93.698122</td>\n",
       "      <td>94.521465</td>\n",
       "      <td>10.0</td>\n",
       "      <td>21</td>\n",
       "      <td>27.0</td>\n",
       "      <td>2018</td>\n",
       "      <td>0.060753</td>\n",
       "      <td>B</td>\n",
       "      <td>B</td>\n",
       "      <td>15</td>\n",
       "      <td>2787</td>\n",
       "      <td>2</td>\n",
       "      <td>520.0</td>\n",
       "      <td>0</td>\n",
       "      <td>7</td>\n",
       "      <td>B</td>\n",
       "    </tr>\n",
       "    <tr>\n",
       "      <th>4997</th>\n",
       "      <td>3912</td>\n",
       "      <td>101</td>\n",
       "      <td>1.0</td>\n",
       "      <td>33.656723</td>\n",
       "      <td>19.003259</td>\n",
       "      <td>5.0</td>\n",
       "      <td>2</td>\n",
       "      <td>5.0</td>\n",
       "      <td>1966</td>\n",
       "      <td>0.038693</td>\n",
       "      <td>B</td>\n",
       "      <td>B</td>\n",
       "      <td>28</td>\n",
       "      <td>6533</td>\n",
       "      <td>1</td>\n",
       "      <td>1015.0</td>\n",
       "      <td>2</td>\n",
       "      <td>5</td>\n",
       "      <td>B</td>\n",
       "    </tr>\n",
       "    <tr>\n",
       "      <th>4998</th>\n",
       "      <td>5722</td>\n",
       "      <td>10</td>\n",
       "      <td>1.0</td>\n",
       "      <td>38.635155</td>\n",
       "      <td>20.976257</td>\n",
       "      <td>9.0</td>\n",
       "      <td>8</td>\n",
       "      <td>14.0</td>\n",
       "      <td>1970</td>\n",
       "      <td>0.089040</td>\n",
       "      <td>B</td>\n",
       "      <td>B</td>\n",
       "      <td>33</td>\n",
       "      <td>7976</td>\n",
       "      <td>5</td>\n",
       "      <td>NaN</td>\n",
       "      <td>0</td>\n",
       "      <td>11</td>\n",
       "      <td>B</td>\n",
       "    </tr>\n",
       "    <tr>\n",
       "      <th>4999</th>\n",
       "      <td>11004</td>\n",
       "      <td>21</td>\n",
       "      <td>2.0</td>\n",
       "      <td>67.122742</td>\n",
       "      <td>33.944344</td>\n",
       "      <td>13.0</td>\n",
       "      <td>9</td>\n",
       "      <td>17.0</td>\n",
       "      <td>2009</td>\n",
       "      <td>0.194489</td>\n",
       "      <td>B</td>\n",
       "      <td>B</td>\n",
       "      <td>47</td>\n",
       "      <td>8004</td>\n",
       "      <td>3</td>\n",
       "      <td>125.0</td>\n",
       "      <td>3</td>\n",
       "      <td>5</td>\n",
       "      <td>B</td>\n",
       "    </tr>\n",
       "  </tbody>\n",
       "</table>\n",
       "<p>5000 rows × 19 columns</p>\n",
       "</div>"
      ],
      "text/plain": [
       "         Id  DistrictId  Rooms     Square  LifeSquare  KitchenSquare  Floor  \\\n",
       "0      4567          44    1.0  36.847630   19.094182            5.0      5   \n",
       "1      5925          62    1.0  42.493907   42.568133           10.0      7   \n",
       "2       960          27    2.0  59.463678         NaN            9.0     19   \n",
       "3      3848          23    3.0  49.646030   33.893825            6.0      2   \n",
       "4       746          74    1.0  53.837056         NaN            1.0      8   \n",
       "...     ...         ...    ...        ...         ...            ...    ...   \n",
       "4995  10379          29    2.0  43.177521   30.339945            5.0      6   \n",
       "4996  16138          38    3.0  93.698122   94.521465           10.0     21   \n",
       "4997   3912         101    1.0  33.656723   19.003259            5.0      2   \n",
       "4998   5722          10    1.0  38.635155   20.976257            9.0      8   \n",
       "4999  11004          21    2.0  67.122742   33.944344           13.0      9   \n",
       "\n",
       "      HouseFloor  HouseYear  Ecology_1 Ecology_2 Ecology_3  Social_1  \\\n",
       "0            9.0       1970   0.036122         B         B        24   \n",
       "1           17.0       2017   0.072158         B         B         2   \n",
       "2           19.0       1977   0.211401         B         B         9   \n",
       "3            2.0       1965   0.014073         B         B         2   \n",
       "4           17.0       1977   0.309479         B         B        35   \n",
       "...          ...        ...        ...       ...       ...       ...   \n",
       "4995         5.0       1962   0.069660         B         B        31   \n",
       "4996        27.0       2018   0.060753         B         B        15   \n",
       "4997         5.0       1966   0.038693         B         B        28   \n",
       "4998        14.0       1970   0.089040         B         B        33   \n",
       "4999        17.0       2009   0.194489         B         B        47   \n",
       "\n",
       "      Social_2  Social_3  Healthcare_1  Helthcare_2  Shops_1 Shops_2  \n",
       "0         4378         0        1036.0            1        1       B  \n",
       "1          629         1           NaN            0        0       A  \n",
       "2         1892         0           NaN            0        1       B  \n",
       "3          475         0           NaN            0        0       B  \n",
       "4         7715         4         990.0            0        6       B  \n",
       "...        ...       ...           ...          ...      ...     ...  \n",
       "4995      6119         4           NaN            1        2       B  \n",
       "4996      2787         2         520.0            0        7       B  \n",
       "4997      6533         1        1015.0            2        5       B  \n",
       "4998      7976         5           NaN            0       11       B  \n",
       "4999      8004         3         125.0            3        5       B  \n",
       "\n",
       "[5000 rows x 19 columns]"
      ]
     },
     "execution_count": 67,
     "metadata": {},
     "output_type": "execute_result"
    }
   ],
   "source": [
    "test_df"
   ]
  },
  {
   "cell_type": "code",
   "execution_count": 68,
   "metadata": {
    "execution": {
     "iopub.execute_input": "2022-01-06T15:47:17.871375Z",
     "iopub.status.busy": "2022-01-06T15:47:17.870685Z",
     "iopub.status.idle": "2022-01-06T15:47:17.878177Z",
     "shell.execute_reply": "2022-01-06T15:47:17.877460Z",
     "shell.execute_reply.started": "2022-01-06T15:45:46.992228Z"
    },
    "papermill": {
     "duration": 0.119118,
     "end_time": "2022-01-06T15:47:17.878302",
     "exception": false,
     "start_time": "2022-01-06T15:47:17.759184",
     "status": "completed"
    },
    "tags": []
   },
   "outputs": [],
   "source": [
    "X_train, X_valid, y_train, y_valid = train_test_split(X, y, test_size=0.2, shuffle=True, random_state=21)"
   ]
  },
  {
   "cell_type": "code",
   "execution_count": 69,
   "metadata": {
    "execution": {
     "iopub.execute_input": "2022-01-06T15:47:18.093958Z",
     "iopub.status.busy": "2022-01-06T15:47:18.093213Z",
     "iopub.status.idle": "2022-01-06T15:47:18.166509Z",
     "shell.execute_reply": "2022-01-06T15:47:18.165814Z",
     "shell.execute_reply.started": "2022-01-06T15:45:47.005193Z"
    },
    "papermill": {
     "duration": 0.183761,
     "end_time": "2022-01-06T15:47:18.166631",
     "exception": false,
     "start_time": "2022-01-06T15:47:17.982870",
     "status": "completed"
    },
    "tags": []
   },
   "outputs": [
    {
     "data": {
      "text/plain": [
       "((8000, 23), (2000, 23), (5000, 23))"
      ]
     },
     "execution_count": 69,
     "metadata": {},
     "output_type": "execute_result"
    }
   ],
   "source": [
    "preprocessor = DataPreprocessing(kitchen_square_quantile=0.95, kitchen_square_min_threshold=3,\n",
    "                                 balcony_square=5)\n",
    "preprocessor.fit(X_train)\n",
    "\n",
    "X_train = preprocessor.transform(X_train)\n",
    "X_valid = preprocessor.transform(X_valid)\n",
    "test_df = preprocessor.transform(test_df)\n",
    "\n",
    "X_train.shape, X_valid.shape, test_df.shape"
   ]
  },
  {
   "cell_type": "code",
   "execution_count": 70,
   "metadata": {
    "execution": {
     "iopub.execute_input": "2022-01-06T15:47:18.379798Z",
     "iopub.status.busy": "2022-01-06T15:47:18.378811Z",
     "iopub.status.idle": "2022-01-06T15:47:18.521093Z",
     "shell.execute_reply": "2022-01-06T15:47:18.521716Z",
     "shell.execute_reply.started": "2022-01-06T15:45:47.088390Z"
    },
    "papermill": {
     "duration": 0.250147,
     "end_time": "2022-01-06T15:47:18.521898",
     "exception": false,
     "start_time": "2022-01-06T15:47:18.271751",
     "status": "completed"
    },
    "tags": []
   },
   "outputs": [
    {
     "data": {
      "text/plain": [
       "((8000, 31), (2000, 31), (5000, 31))"
      ]
     },
     "execution_count": 70,
     "metadata": {},
     "output_type": "execute_result"
    }
   ],
   "source": [
    "features_gen = FeatureGenetator(large_district_threshold=100, med_price_by_district_grouping=['DistrictId'])\n",
    "features_gen.fit(X_train, y_train)\n",
    "\n",
    "X_train = features_gen.transform(X_train)\n",
    "X_valid = features_gen.transform(X_valid)\n",
    "test_df = features_gen.transform(test_df)\n",
    "\n",
    "X_train.shape, X_valid.shape, test_df.shape"
   ]
  },
  {
   "cell_type": "code",
   "execution_count": 71,
   "metadata": {
    "execution": {
     "iopub.execute_input": "2022-01-06T15:47:18.739015Z",
     "iopub.status.busy": "2022-01-06T15:47:18.737989Z",
     "iopub.status.idle": "2022-01-06T15:47:18.753411Z",
     "shell.execute_reply": "2022-01-06T15:47:18.752652Z",
     "shell.execute_reply.started": "2022-01-06T15:45:47.236693Z"
    },
    "papermill": {
     "duration": 0.123963,
     "end_time": "2022-01-06T15:47:18.753540",
     "exception": false,
     "start_time": "2022-01-06T15:47:18.629577",
     "status": "completed"
    },
    "tags": []
   },
   "outputs": [],
   "source": [
    "X_train = X_train[feature_names + new_feature_names]\n",
    "X_valid = X_valid[feature_names + new_feature_names]\n",
    "test_df = test_df[feature_names + new_feature_names]"
   ]
  },
  {
   "cell_type": "code",
   "execution_count": 72,
   "metadata": {
    "execution": {
     "iopub.execute_input": "2022-01-06T15:47:18.968623Z",
     "iopub.status.busy": "2022-01-06T15:47:18.967627Z",
     "iopub.status.idle": "2022-01-06T15:47:18.978542Z",
     "shell.execute_reply": "2022-01-06T15:47:18.979116Z",
     "shell.execute_reply.started": "2022-01-06T15:45:47.253041Z"
    },
    "papermill": {
     "duration": 0.119258,
     "end_time": "2022-01-06T15:47:18.979264",
     "exception": false,
     "start_time": "2022-01-06T15:47:18.860006",
     "status": "completed"
    },
    "tags": []
   },
   "outputs": [
    {
     "data": {
      "text/plain": [
       "(0, 0, 0)"
      ]
     },
     "execution_count": 72,
     "metadata": {},
     "output_type": "execute_result"
    }
   ],
   "source": [
    "X_train.isna().sum().sum(), X_valid.isna().sum().sum(), test_df.isna().sum().sum()"
   ]
  },
  {
   "cell_type": "markdown",
   "metadata": {
    "papermill": {
     "duration": 0.104768,
     "end_time": "2022-01-06T15:47:19.189176",
     "exception": false,
     "start_time": "2022-01-06T15:47:19.084408",
     "status": "completed"
    },
    "tags": []
   },
   "source": [
    "### **7. Model building**  <a class='anchor' id='modeling'>"
   ]
  },
  {
   "cell_type": "markdown",
   "metadata": {
    "papermill": {
     "duration": 0.104727,
     "end_time": "2022-01-06T15:47:19.402153",
     "exception": false,
     "start_time": "2022-01-06T15:47:19.297426",
     "status": "completed"
    },
    "tags": []
   },
   "source": [
    "### **Learning**"
   ]
  },
  {
   "cell_type": "markdown",
   "metadata": {
    "papermill": {
     "duration": 0.104322,
     "end_time": "2022-01-06T15:47:19.610522",
     "exception": false,
     "start_time": "2022-01-06T15:47:19.506200",
     "status": "completed"
    },
    "tags": []
   },
   "source": [
    "All examples in this section should work. You can uncomment each model and check its evaluation."
   ]
  },
  {
   "cell_type": "markdown",
   "metadata": {
    "papermill": {
     "duration": 0.103592,
     "end_time": "2022-01-06T15:47:19.817542",
     "exception": false,
     "start_time": "2022-01-06T15:47:19.713950",
     "status": "completed"
    },
    "tags": []
   },
   "source": [
    "**RandomForestRegressor**"
   ]
  },
  {
   "cell_type": "code",
   "execution_count": 73,
   "metadata": {
    "execution": {
     "iopub.execute_input": "2022-01-06T15:47:20.033105Z",
     "iopub.status.busy": "2022-01-06T15:47:20.032323Z",
     "iopub.status.idle": "2022-01-06T15:47:20.034987Z",
     "shell.execute_reply": "2022-01-06T15:47:20.034331Z",
     "shell.execute_reply.started": "2022-01-06T15:45:47.267351Z"
    },
    "papermill": {
     "duration": 0.111954,
     "end_time": "2022-01-06T15:47:20.035108",
     "exception": false,
     "start_time": "2022-01-06T15:47:19.923154",
     "status": "completed"
    },
    "tags": []
   },
   "outputs": [],
   "source": [
    "# model = RandomForestRegressor(\n",
    "#     random_state=21,\n",
    "#     criterion='mse',\n",
    "#     max_depth=9,\n",
    "#     max_features=9,\n",
    "#     n_estimators=200,\n",
    "# )\n",
    "# model.fit(X_train, y_train)"
   ]
  },
  {
   "cell_type": "markdown",
   "metadata": {},
   "source": [
    "### 5.4 Gradient Boosting decision trees"
   ]
  },
  {
   "cell_type": "code",
   "execution_count": 74,
   "metadata": {},
   "outputs": [
    {
     "data": {
      "text/plain": [
       "array([ 2, -5, -4, -5,  7])"
      ]
     },
     "execution_count": 74,
     "metadata": {},
     "output_type": "execute_result"
    }
   ],
   "source": [
    "y = np.array([10, 20, 30, 5, 10])\n",
    "\n",
    "# Первое дерево\n",
    "y_pred_1 = np.array([8, 25, 34, 10, 3])\n",
    "error_1 = y - y_pred_1\n",
    "\n",
    "error_1"
   ]
  },
  {
   "cell_type": "code",
   "execution_count": 75,
   "metadata": {},
   "outputs": [
    {
     "data": {
      "text/plain": [
       "0.7025"
      ]
     },
     "execution_count": 75,
     "metadata": {},
     "output_type": "execute_result"
    }
   ],
   "source": [
    "gb_pred = y_pred_1\n",
    "r2(y, gb_pred)"
   ]
  },
  {
   "cell_type": "code",
   "execution_count": 76,
   "metadata": {},
   "outputs": [
    {
     "data": {
      "text/plain": [
       "array([ 1, -1, -2, -4,  4])"
      ]
     },
     "execution_count": 76,
     "metadata": {},
     "output_type": "execute_result"
    }
   ],
   "source": [
    "# Второе дерево: таргет = ошибки первого (error_1)\n",
    "y_2 = error_1\n",
    "y_pred_2 = np.array([1, -4, -2, -1, 3])\n",
    "\n",
    "error_2 = y_2 - y_pred_2\n",
    "error_2"
   ]
  },
  {
   "cell_type": "code",
   "execution_count": 77,
   "metadata": {},
   "outputs": [
    {
     "data": {
      "text/plain": [
       "0.905"
      ]
     },
     "execution_count": 77,
     "metadata": {},
     "output_type": "execute_result"
    }
   ],
   "source": [
    "gb_pred = y_pred_1 + y_pred_2\n",
    "r2(y, gb_pred)"
   ]
  },
  {
   "cell_type": "code",
   "execution_count": 78,
   "metadata": {},
   "outputs": [
    {
     "data": {
      "text/plain": [
       "array([ 1,  0, -1, -3,  3])"
      ]
     },
     "execution_count": 78,
     "metadata": {},
     "output_type": "execute_result"
    }
   ],
   "source": [
    "# Третье дерево: таргет = ошибки второго (error_2)\n",
    "y_3 = error_2\n",
    "y_pred_3 = np.array([0, -1, -1, -1, 1])\n",
    "\n",
    "error_2 = y_3 - y_pred_3\n",
    "error_2"
   ]
  },
  {
   "cell_type": "code",
   "execution_count": 79,
   "metadata": {},
   "outputs": [
    {
     "data": {
      "text/plain": [
       "0.95"
      ]
     },
     "execution_count": 79,
     "metadata": {},
     "output_type": "execute_result"
    }
   ],
   "source": [
    "gb_pred = y_pred_1 + y_pred_2 + y_pred_3\n",
    "r2(y, gb_pred)"
   ]
  },
  {
   "cell_type": "code",
   "execution_count": 84,
   "metadata": {},
   "outputs": [],
   "source": [
    "def evaluate_preds(true_values, pred_values, save=False):\n",
    "    \"\"\"Оценка качества модели и график preds vs true\"\"\"\n",
    "    \n",
    "    print(\"R2:\\t\" + str(round(r2(true_values, pred_values), 3)) + \"\\n\" +\n",
    "          \"RMSE:\\t\" + str(round(np.sqrt(mse(true_values, pred_values)), 3)) + \"\\n\" +\n",
    "          \"MSE:\\t\" + str(round(mse(true_values, pred_values), 3))\n",
    "         )\n",
    "    \n",
    "    plt.figure(figsize=(8,8))\n",
    "    \n",
    "    sns.scatterplot(x=pred_values, y=true_values)\n",
    "    plt.plot([0, 500000], [0, 500000], linestyle='--', color='black')  # диагональ, где true_values = pred_values\n",
    "    \n",
    "    plt.xlabel('Predicted values')\n",
    "    plt.ylabel('True values')\n",
    "    plt.title('True vs Predicted values')\n",
    "    \n",
    "    if save == True:\n",
    "        plt.savefig(REPORTS_FILE_PATH + 'report.png')\n",
    "    plt.show()"
   ]
  },
  {
   "cell_type": "code",
   "execution_count": 86,
   "metadata": {
    "scrolled": false
   },
   "outputs": [
    {
     "name": "stdout",
     "output_type": "stream",
     "text": [
      "R2:\t0.9\n",
      "RMSE:\t29291.8\n",
      "MSE:\t858009537.277\n"
     ]
    },
    {
     "data": {
      "image/png": "[encoded data removed]",
      "text/plain": [
       "<Figure size 576x576 with 1 Axes>"
      ]
     },
     "metadata": {
      "needs_background": "light"
     },
     "output_type": "display_data"
    }
   ],
   "source": [
    "from sklearn.ensemble import RandomForestRegressor, GradientBoostingRegressor\n",
    "from sklearn.metrics import mean_squared_error as mse, r2_score as r2\n",
    "gb_model = GradientBoostingRegressor(criterion='mse',\n",
    "                                     max_depth=7,\n",
    "                                     min_samples_leaf=10,\n",
    "                                     random_state=42,  \n",
    "                                     n_estimators=100)\n",
    "gb_model.fit(X_train, y_train)\n",
    "\n",
    "y_train_preds = gb_model.predict(X_train)\n",
    "evaluate_preds(y_train, y_train_preds)"
   ]
  },
  {
   "cell_type": "code",
   "execution_count": 89,
   "metadata": {},
   "outputs": [
    {
     "ename": "NameError",
     "evalue": "name 'gb' is not defined",
     "output_type": "error",
     "traceback": [
      "\u001b[1;31m---------------------------------------------------------------------------\u001b[0m",
      "\u001b[1;31mNameError\u001b[0m                                 Traceback (most recent call last)",
      "\u001b[1;32m<ipython-input-89-1ca8ea47a9a5>\u001b[0m in \u001b[0;36m<module>\u001b[1;34m\u001b[0m\n\u001b[1;32m----> 1\u001b[1;33m \u001b[0mX\u001b[0m \u001b[1;33m=\u001b[0m \u001b[0mgb\u001b[0m\u001b[1;33m[\u001b[0m\u001b[0mfeature_names\u001b[0m\u001b[1;33m]\u001b[0m\u001b[1;33m\u001b[0m\u001b[1;33m\u001b[0m\u001b[0m\n\u001b[0m\u001b[0;32m      2\u001b[0m \u001b[0my\u001b[0m \u001b[1;33m=\u001b[0m \u001b[0mgb\u001b[0m\u001b[1;33m[\u001b[0m\u001b[0mtarget_name\u001b[0m\u001b[1;33m]\u001b[0m\u001b[1;33m\u001b[0m\u001b[1;33m\u001b[0m\u001b[0m\n\u001b[0;32m      3\u001b[0m \u001b[1;33m\u001b[0m\u001b[0m\n\u001b[0;32m      4\u001b[0m \u001b[0mX_train\u001b[0m\u001b[1;33m,\u001b[0m \u001b[0mX_test\u001b[0m\u001b[1;33m,\u001b[0m \u001b[0my_train\u001b[0m\u001b[1;33m,\u001b[0m \u001b[0my_test\u001b[0m \u001b[1;33m=\u001b[0m \u001b[0mtrain_test_split\u001b[0m\u001b[1;33m(\u001b[0m\u001b[0mX\u001b[0m\u001b[1;33m,\u001b[0m \u001b[0my\u001b[0m\u001b[1;33m,\u001b[0m \u001b[0mtest_size\u001b[0m\u001b[1;33m=\u001b[0m\u001b[1;36m0.33\u001b[0m\u001b[1;33m,\u001b[0m \u001b[0mshuffle\u001b[0m\u001b[1;33m=\u001b[0m\u001b[1;32mTrue\u001b[0m\u001b[1;33m,\u001b[0m \u001b[0mrandom_state\u001b[0m\u001b[1;33m=\u001b[0m\u001b[1;36m42\u001b[0m\u001b[1;33m)\u001b[0m\u001b[1;33m\u001b[0m\u001b[1;33m\u001b[0m\u001b[0m\n",
      "\u001b[1;31mNameError\u001b[0m: name 'gb' is not defined"
     ]
    }
   ],
   "source": [
    "X = gb[feature_names]\n",
    "y = gb[target_name]\n",
    "\n",
    "X_train, X_test, y_train, y_test = train_test_split(X, y, test_size=0.33, shuffle=True, random_state=42)"
   ]
  },
  {
   "cell_type": "code",
   "execution_count": 87,
   "metadata": {},
   "outputs": [
    {
     "ename": "NameError",
     "evalue": "name 'X_test' is not defined",
     "output_type": "error",
     "traceback": [
      "\u001b[1;31m---------------------------------------------------------------------------\u001b[0m",
      "\u001b[1;31mNameError\u001b[0m                                 Traceback (most recent call last)",
      "\u001b[1;32m<ipython-input-87-1f0f9862801b>\u001b[0m in \u001b[0;36m<module>\u001b[1;34m\u001b[0m\n\u001b[1;32m----> 1\u001b[1;33m \u001b[0my_test_preds\u001b[0m \u001b[1;33m=\u001b[0m \u001b[0mgb_model\u001b[0m\u001b[1;33m.\u001b[0m\u001b[0mpredict\u001b[0m\u001b[1;33m(\u001b[0m\u001b[0mX_test\u001b[0m\u001b[1;33m)\u001b[0m\u001b[1;33m\u001b[0m\u001b[1;33m\u001b[0m\u001b[0m\n\u001b[0m\u001b[0;32m      2\u001b[0m \u001b[0mevaluate_preds\u001b[0m\u001b[1;33m(\u001b[0m\u001b[0my_test\u001b[0m\u001b[1;33m,\u001b[0m \u001b[0my_test_preds\u001b[0m\u001b[1;33m)\u001b[0m\u001b[1;33m\u001b[0m\u001b[1;33m\u001b[0m\u001b[0m\n",
      "\u001b[1;31mNameError\u001b[0m: name 'X_test' is not defined"
     ]
    }
   ],
   "source": [
    "y_test_preds = gb_model.predict(X_test)\n",
    "evaluate_preds(y_test, y_test_preds)"
   ]
  },
  {
   "cell_type": "markdown",
   "metadata": {
    "papermill": {
     "duration": 0.106334,
     "end_time": "2022-01-06T15:47:20.247175",
     "exception": false,
     "start_time": "2022-01-06T15:47:20.140841",
     "status": "completed"
    },
    "tags": []
   },
   "source": [
    "**GridSearchCV with RandomForestRegressor**"
   ]
  },
  {
   "cell_type": "code",
   "execution_count": 72,
   "metadata": {
    "execution": {
     "iopub.execute_input": "2022-01-06T15:47:20.461342Z",
     "iopub.status.busy": "2022-01-06T15:47:20.460703Z",
     "iopub.status.idle": "2022-01-06T15:47:20.464914Z",
     "shell.execute_reply": "2022-01-06T15:47:20.465427Z",
     "shell.execute_reply.started": "2022-01-06T15:45:47.273719Z"
    },
    "papermill": {
     "duration": 0.112323,
     "end_time": "2022-01-06T15:47:20.465575",
     "exception": false,
     "start_time": "2022-01-06T15:47:20.353252",
     "status": "completed"
    },
    "tags": []
   },
   "outputs": [],
   "source": [
    "# parameters = [{\n",
    "#     'n_estimators': [100, 200, 400],\n",
    "#     'max_features': np.arange(5, 10),\n",
    "#     'max_depth': np.arange(4, 10),\n",
    "# }]\n",
    "\n",
    "# model = GridSearchCV(\n",
    "#     estimator=RandomForestRegressor(random_state=21, criterion='mse'),\n",
    "#     param_grid=parameters,\n",
    "#     scoring='r2',\n",
    "#     cv=3,\n",
    "# )\n",
    "# model.fit(X_train, y_train)\n",
    "\n",
    "# model.best_params_"
   ]
  },
  {
   "cell_type": "markdown",
   "metadata": {
    "papermill": {
     "duration": 0.104167,
     "end_time": "2022-01-06T15:47:20.675437",
     "exception": false,
     "start_time": "2022-01-06T15:47:20.571270",
     "status": "completed"
    },
    "tags": []
   },
   "source": [
    "**CatBoostRegressor**"
   ]
  },
  {
   "cell_type": "code",
   "execution_count": 73,
   "metadata": {
    "execution": {
     "iopub.execute_input": "2022-01-06T15:47:20.892003Z",
     "iopub.status.busy": "2022-01-06T15:47:20.886240Z",
     "iopub.status.idle": "2022-01-06T15:47:31.618979Z",
     "shell.execute_reply": "2022-01-06T15:47:31.618370Z",
     "shell.execute_reply.started": "2022-01-06T15:45:47.288858Z"
    },
    "papermill": {
     "duration": 10.839411,
     "end_time": "2022-01-06T15:47:31.619107",
     "exception": false,
     "start_time": "2022-01-06T15:47:20.779696",
     "status": "completed"
    },
    "tags": []
   },
   "outputs": [
    {
     "data": {
      "text/plain": [
       "<catboost.core.CatBoostRegressor at 0x7f2c8a19acd0>"
      ]
     },
     "execution_count": 73,
     "metadata": {},
     "output_type": "execute_result"
    }
   ],
   "source": [
    "model = CatBoostRegressor(\n",
    "    learning_rate=0.03,\n",
    "    depth=9,\n",
    "    l2_leaf_reg=2,\n",
    "    iterations=1000,\n",
    "    loss_function='RMSE',\n",
    "    eval_metric='RMSE',\n",
    "    random_seed=21,\n",
    "    silent=True,\n",
    ")\n",
    "model.fit(X_train, y_train)"
   ]
  },
  {
   "cell_type": "markdown",
   "metadata": {
    "papermill": {
     "duration": 0.10432,
     "end_time": "2022-01-06T15:47:31.827912",
     "exception": false,
     "start_time": "2022-01-06T15:47:31.723592",
     "status": "completed"
    },
    "tags": []
   },
   "source": [
    "**Grid search with CatBoostRegressor**"
   ]
  },
  {
   "cell_type": "code",
   "execution_count": 74,
   "metadata": {
    "execution": {
     "iopub.execute_input": "2022-01-06T15:47:32.043227Z",
     "iopub.status.busy": "2022-01-06T15:47:32.042222Z",
     "iopub.status.idle": "2022-01-06T15:47:32.045486Z",
     "shell.execute_reply": "2022-01-06T15:47:32.044982Z",
     "shell.execute_reply.started": "2022-01-06T15:45:58.381908Z"
    },
    "papermill": {
     "duration": 0.112912,
     "end_time": "2022-01-06T15:47:32.045606",
     "exception": false,
     "start_time": "2022-01-06T15:47:31.932694",
     "status": "completed"
    },
    "tags": []
   },
   "outputs": [],
   "source": [
    "# model = CatBoostRegressor(\n",
    "#     loss_function='RMSE',\n",
    "#     eval_metric='RMSE',\n",
    "# )\n",
    "\n",
    "# grid = {\n",
    "#     'learning_rate': [0.03, 0.1],\n",
    "#     'depth': [4, 7, 10],\n",
    "#     'n_estimators': [200, 600, 1000],\n",
    "#     'l2_leaf_reg': [1, 5, 9]\n",
    "# }\n",
    "\n",
    "# grid_search_result = model.grid_search(\n",
    "#     grid,\n",
    "#     X=X_train,\n",
    "#     y=y_train,\n",
    "#     plot=True,\n",
    "# )"
   ]
  },
  {
   "cell_type": "code",
   "execution_count": 75,
   "metadata": {
    "execution": {
     "iopub.execute_input": "2022-01-06T15:47:32.262943Z",
     "iopub.status.busy": "2022-01-06T15:47:32.262289Z",
     "iopub.status.idle": "2022-01-06T15:47:32.265483Z",
     "shell.execute_reply": "2022-01-06T15:47:32.264873Z",
     "shell.execute_reply.started": "2022-01-06T15:45:58.387838Z"
    },
    "papermill": {
     "duration": 0.113459,
     "end_time": "2022-01-06T15:47:32.265593",
     "exception": false,
     "start_time": "2022-01-06T15:47:32.152134",
     "status": "completed"
    },
    "tags": []
   },
   "outputs": [],
   "source": [
    "# grid_search_result['params']"
   ]
  },
  {
   "cell_type": "markdown",
   "metadata": {
    "papermill": {
     "duration": 0.104336,
     "end_time": "2022-01-06T15:47:32.475069",
     "exception": false,
     "start_time": "2022-01-06T15:47:32.370733",
     "status": "completed"
    },
    "tags": []
   },
   "source": [
    "**XGBRegressor**"
   ]
  },
  {
   "cell_type": "code",
   "execution_count": 76,
   "metadata": {
    "execution": {
     "iopub.execute_input": "2022-01-06T15:47:32.689467Z",
     "iopub.status.busy": "2022-01-06T15:47:32.688831Z",
     "iopub.status.idle": "2022-01-06T15:47:32.692389Z",
     "shell.execute_reply": "2022-01-06T15:47:32.691834Z",
     "shell.execute_reply.started": "2022-01-06T15:45:58.403333Z"
    },
    "papermill": {
     "duration": 0.112084,
     "end_time": "2022-01-06T15:47:32.692514",
     "exception": false,
     "start_time": "2022-01-06T15:47:32.580430",
     "status": "completed"
    },
    "tags": []
   },
   "outputs": [],
   "source": [
    "# model = XGBRegressor(n_estimators=400, max_depth=7, random_state=21)\n",
    "# model.fit(X_train, y_train)"
   ]
  },
  {
   "cell_type": "markdown",
   "metadata": {
    "papermill": {
     "duration": 0.104942,
     "end_time": "2022-01-06T15:47:32.904004",
     "exception": false,
     "start_time": "2022-01-06T15:47:32.799062",
     "status": "completed"
    },
    "tags": []
   },
   "source": [
    "**LGBMRegressor**"
   ]
  },
  {
   "cell_type": "code",
   "execution_count": 77,
   "metadata": {
    "execution": {
     "iopub.execute_input": "2022-01-06T15:47:33.120132Z",
     "iopub.status.busy": "2022-01-06T15:47:33.119443Z",
     "iopub.status.idle": "2022-01-06T15:47:33.122588Z",
     "shell.execute_reply": "2022-01-06T15:47:33.122068Z",
     "shell.execute_reply.started": "2022-01-06T15:45:58.416160Z"
    },
    "papermill": {
     "duration": 0.112564,
     "end_time": "2022-01-06T15:47:33.122716",
     "exception": false,
     "start_time": "2022-01-06T15:47:33.010152",
     "status": "completed"
    },
    "tags": []
   },
   "outputs": [],
   "source": [
    "# model = LGBMRegressor(\n",
    "#     n_estimators=400,\n",
    "#     random_state=21,\n",
    "#     max_depth=15\n",
    "# )\n",
    "# model.fit(X_train, y_train)"
   ]
  },
  {
   "cell_type": "markdown",
   "metadata": {
    "papermill": {
     "duration": 0.105058,
     "end_time": "2022-01-06T15:47:33.331968",
     "exception": false,
     "start_time": "2022-01-06T15:47:33.226910",
     "status": "completed"
    },
    "tags": []
   },
   "source": [
    "**Model evaluation**"
   ]
  },
  {
   "cell_type": "code",
   "execution_count": 78,
   "metadata": {
    "execution": {
     "iopub.execute_input": "2022-01-06T15:47:33.548624Z",
     "iopub.status.busy": "2022-01-06T15:47:33.547600Z",
     "iopub.status.idle": "2022-01-06T15:47:34.003159Z",
     "shell.execute_reply": "2022-01-06T15:47:34.003656Z",
     "shell.execute_reply.started": "2022-01-06T15:45:58.426371Z"
    },
    "papermill": {
     "duration": 0.567431,
     "end_time": "2022-01-06T15:47:34.003871",
     "exception": false,
     "start_time": "2022-01-06T15:47:33.436440",
     "status": "completed"
    },
    "tags": []
   },
   "outputs": [
    {
     "name": "stdout",
     "output_type": "stream",
     "text": [
      "Train R2:\t0.933\n",
      "Test R2:\t0.778\n"
     ]
    },
    {
     "data": {
      "image/png": "[encoded data removed]",
      "text/plain": [
       "<Figure size 1296x720 with 2 Axes>"
      ]
     },
     "metadata": {
      "needs_background": "light"
     },
     "output_type": "display_data"
    }
   ],
   "source": [
    "y_train_preds = model.predict(X_train)\n",
    "y_test_preds = model.predict(X_valid)\n",
    "\n",
    "evaluate_preds(y_train, y_train_preds, y_valid, y_test_preds)"
   ]
  },
  {
   "cell_type": "markdown",
   "metadata": {
    "papermill": {
     "duration": 0.110092,
     "end_time": "2022-01-06T15:47:34.224803",
     "exception": false,
     "start_time": "2022-01-06T15:47:34.114711",
     "status": "completed"
    },
    "tags": []
   },
   "source": [
    "#### **Cross-validation**"
   ]
  },
  {
   "cell_type": "code",
   "execution_count": 79,
   "metadata": {
    "execution": {
     "iopub.execute_input": "2022-01-06T15:47:34.451296Z",
     "iopub.status.busy": "2022-01-06T15:47:34.450228Z",
     "iopub.status.idle": "2022-01-06T15:48:03.269871Z",
     "shell.execute_reply": "2022-01-06T15:48:03.269014Z",
     "shell.execute_reply.started": "2022-01-06T15:45:58.855407Z"
    },
    "papermill": {
     "duration": 28.935422,
     "end_time": "2022-01-06T15:48:03.270010",
     "exception": false,
     "start_time": "2022-01-06T15:47:34.334588",
     "status": "completed"
    },
    "tags": []
   },
   "outputs": [
    {
     "data": {
      "text/plain": [
       "array([0.75698084, 0.7239611 , 0.76063462])"
      ]
     },
     "execution_count": 79,
     "metadata": {},
     "output_type": "execute_result"
    }
   ],
   "source": [
    "cv_score = cross_val_score(model, X_train, y_train, scoring='r2', cv=KFold(n_splits=3, shuffle=True, random_state=21))\n",
    "cv_score"
   ]
  },
  {
   "cell_type": "code",
   "execution_count": 80,
   "metadata": {
    "execution": {
     "iopub.execute_input": "2022-01-06T15:48:03.504644Z",
     "iopub.status.busy": "2022-01-06T15:48:03.503624Z",
     "iopub.status.idle": "2022-01-06T15:48:03.507792Z",
     "shell.execute_reply": "2022-01-06T15:48:03.507210Z",
     "shell.execute_reply.started": "2022-01-06T15:46:28.032932Z"
    },
    "papermill": {
     "duration": 0.124559,
     "end_time": "2022-01-06T15:48:03.507916",
     "exception": false,
     "start_time": "2022-01-06T15:48:03.383357",
     "status": "completed"
    },
    "tags": []
   },
   "outputs": [
    {
     "data": {
      "text/plain": [
       "0.7471921864878203"
      ]
     },
     "execution_count": 80,
     "metadata": {},
     "output_type": "execute_result"
    }
   ],
   "source": [
    "cv_score.mean()"
   ]
  },
  {
   "cell_type": "markdown",
   "metadata": {
    "papermill": {
     "duration": 0.114242,
     "end_time": "2022-01-06T15:48:03.736118",
     "exception": false,
     "start_time": "2022-01-06T15:48:03.621876",
     "status": "completed"
    },
    "tags": []
   },
   "source": [
    "**Feature importances**"
   ]
  },
  {
   "cell_type": "code",
   "execution_count": 81,
   "metadata": {
    "execution": {
     "iopub.execute_input": "2022-01-06T15:48:03.976263Z",
     "iopub.status.busy": "2022-01-06T15:48:03.975546Z",
     "iopub.status.idle": "2022-01-06T15:48:03.981029Z",
     "shell.execute_reply": "2022-01-06T15:48:03.980390Z",
     "shell.execute_reply.started": "2022-01-06T15:46:28.042095Z"
    },
    "papermill": {
     "duration": 0.134596,
     "end_time": "2022-01-06T15:48:03.981155",
     "exception": false,
     "start_time": "2022-01-06T15:48:03.846559",
     "status": "completed"
    },
    "tags": []
   },
   "outputs": [
    {
     "data": {
      "text/html": [
       "<div>\n",
       "<style scoped>\n",
       "    .dataframe tbody tr th:only-of-type {\n",
       "        vertical-align: middle;\n",
       "    }\n",
       "\n",
       "    .dataframe tbody tr th {\n",
       "        vertical-align: top;\n",
       "    }\n",
       "\n",
       "    .dataframe thead th {\n",
       "        text-align: right;\n",
       "    }\n",
       "</style>\n",
       "<table border=\"1\" class=\"dataframe\">\n",
       "  <thead>\n",
       "    <tr style=\"text-align: right;\">\n",
       "      <th></th>\n",
       "      <th>feature_name</th>\n",
       "      <th>importance</th>\n",
       "    </tr>\n",
       "  </thead>\n",
       "  <tbody>\n",
       "    <tr>\n",
       "      <th>1</th>\n",
       "      <td>Square</td>\n",
       "      <td>26.427286</td>\n",
       "    </tr>\n",
       "    <tr>\n",
       "      <th>23</th>\n",
       "      <td>MedPriceByDistrict</td>\n",
       "      <td>9.072280</td>\n",
       "    </tr>\n",
       "    <tr>\n",
       "      <th>20</th>\n",
       "      <td>DistrictPrice</td>\n",
       "      <td>8.867921</td>\n",
       "    </tr>\n",
       "    <tr>\n",
       "      <th>24</th>\n",
       "      <td>MedPriceByFloorYear</td>\n",
       "      <td>6.233109</td>\n",
       "    </tr>\n",
       "    <tr>\n",
       "      <th>5</th>\n",
       "      <td>HouseYear</td>\n",
       "      <td>5.639281</td>\n",
       "    </tr>\n",
       "    <tr>\n",
       "      <th>11</th>\n",
       "      <td>Social_3</td>\n",
       "      <td>4.950455</td>\n",
       "    </tr>\n",
       "    <tr>\n",
       "      <th>3</th>\n",
       "      <td>KitchenSquare</td>\n",
       "      <td>4.685376</td>\n",
       "    </tr>\n",
       "    <tr>\n",
       "      <th>19</th>\n",
       "      <td>DistrictSize</td>\n",
       "      <td>4.526633</td>\n",
       "    </tr>\n",
       "    <tr>\n",
       "      <th>4</th>\n",
       "      <td>HouseFloor</td>\n",
       "      <td>4.297350</td>\n",
       "    </tr>\n",
       "    <tr>\n",
       "      <th>2</th>\n",
       "      <td>LifeSquare</td>\n",
       "      <td>4.192273</td>\n",
       "    </tr>\n",
       "    <tr>\n",
       "      <th>6</th>\n",
       "      <td>Ecology_1</td>\n",
       "      <td>4.156724</td>\n",
       "    </tr>\n",
       "    <tr>\n",
       "      <th>9</th>\n",
       "      <td>Social_1</td>\n",
       "      <td>4.121955</td>\n",
       "    </tr>\n",
       "    <tr>\n",
       "      <th>0</th>\n",
       "      <td>Rooms</td>\n",
       "      <td>3.579109</td>\n",
       "    </tr>\n",
       "    <tr>\n",
       "      <th>10</th>\n",
       "      <td>Social_2</td>\n",
       "      <td>3.301972</td>\n",
       "    </tr>\n",
       "    <tr>\n",
       "      <th>13</th>\n",
       "      <td>Shops_1</td>\n",
       "      <td>2.224498</td>\n",
       "    </tr>\n",
       "    <tr>\n",
       "      <th>12</th>\n",
       "      <td>Helthcare_2</td>\n",
       "      <td>2.185158</td>\n",
       "    </tr>\n",
       "    <tr>\n",
       "      <th>16</th>\n",
       "      <td>HouseFloor_outlier</td>\n",
       "      <td>0.780663</td>\n",
       "    </tr>\n",
       "    <tr>\n",
       "      <th>22</th>\n",
       "      <td>IsDistrictLarge</td>\n",
       "      <td>0.390617</td>\n",
       "    </tr>\n",
       "    <tr>\n",
       "      <th>14</th>\n",
       "      <td>Shops_2</td>\n",
       "      <td>0.169910</td>\n",
       "    </tr>\n",
       "    <tr>\n",
       "      <th>18</th>\n",
       "      <td>LifeSquare_nan</td>\n",
       "      <td>0.122169</td>\n",
       "    </tr>\n",
       "    <tr>\n",
       "      <th>8</th>\n",
       "      <td>Ecology_3</td>\n",
       "      <td>0.070404</td>\n",
       "    </tr>\n",
       "    <tr>\n",
       "      <th>7</th>\n",
       "      <td>Ecology_2</td>\n",
       "      <td>0.003653</td>\n",
       "    </tr>\n",
       "    <tr>\n",
       "      <th>15</th>\n",
       "      <td>Rooms_outlier</td>\n",
       "      <td>0.000688</td>\n",
       "    </tr>\n",
       "    <tr>\n",
       "      <th>17</th>\n",
       "      <td>HouseYear_outlier</td>\n",
       "      <td>0.000518</td>\n",
       "    </tr>\n",
       "    <tr>\n",
       "      <th>21</th>\n",
       "      <td>new_district</td>\n",
       "      <td>0.000000</td>\n",
       "    </tr>\n",
       "  </tbody>\n",
       "</table>\n",
       "</div>"
      ],
      "text/plain": [
       "           feature_name  importance\n",
       "1                Square   26.427286\n",
       "23   MedPriceByDistrict    9.072280\n",
       "20        DistrictPrice    8.867921\n",
       "24  MedPriceByFloorYear    6.233109\n",
       "5             HouseYear    5.639281\n",
       "11             Social_3    4.950455\n",
       "3         KitchenSquare    4.685376\n",
       "19         DistrictSize    4.526633\n",
       "4            HouseFloor    4.297350\n",
       "2            LifeSquare    4.192273\n",
       "6             Ecology_1    4.156724\n",
       "9              Social_1    4.121955\n",
       "0                 Rooms    3.579109\n",
       "10             Social_2    3.301972\n",
       "13              Shops_1    2.224498\n",
       "12          Helthcare_2    2.185158\n",
       "16   HouseFloor_outlier    0.780663\n",
       "22      IsDistrictLarge    0.390617\n",
       "14              Shops_2    0.169910\n",
       "18       LifeSquare_nan    0.122169\n",
       "8             Ecology_3    0.070404\n",
       "7             Ecology_2    0.003653\n",
       "15        Rooms_outlier    0.000688\n",
       "17    HouseYear_outlier    0.000518\n",
       "21         new_district    0.000000"
      ]
     },
     "execution_count": 81,
     "metadata": {},
     "output_type": "execute_result"
    }
   ],
   "source": [
    "feature_importances = pd.DataFrame(zip(X_train.columns, model.feature_importances_), \n",
    "                                   columns=['feature_name', 'importance'])\n",
    "\n",
    "feature_importances.sort_values(by='importance', ascending=False)"
   ]
  },
  {
   "cell_type": "markdown",
   "metadata": {
    "papermill": {
     "duration": 0.110254,
     "end_time": "2022-01-06T15:48:04.205494",
     "exception": false,
     "start_time": "2022-01-06T15:48:04.095240",
     "status": "completed"
    },
    "tags": []
   },
   "source": [
    "### **8. Prediction on test dataset** <a class='anchor' id='prediction'>\n",
    "\n",
    "1. Make sure that evaluated data preprocesing and feature generation for test dataset too\n",
    "2. Make sure that you didn't lose or mix indices in predicted data\n",
    "3. Predictions should be evaluated for all rows from the test dataset"
   ]
  },
  {
   "cell_type": "code",
   "execution_count": 82,
   "metadata": {
    "execution": {
     "iopub.execute_input": "2022-01-06T15:48:04.433138Z",
     "iopub.status.busy": "2022-01-06T15:48:04.432486Z",
     "iopub.status.idle": "2022-01-06T15:48:04.437367Z",
     "shell.execute_reply": "2022-01-06T15:48:04.436818Z",
     "shell.execute_reply.started": "2022-01-06T15:46:28.065052Z"
    },
    "papermill": {
     "duration": 0.120277,
     "end_time": "2022-01-06T15:48:04.437489",
     "exception": false,
     "start_time": "2022-01-06T15:48:04.317212",
     "status": "completed"
    },
    "tags": []
   },
   "outputs": [
    {
     "data": {
      "text/plain": [
       "(5000, 25)"
      ]
     },
     "execution_count": 82,
     "metadata": {},
     "output_type": "execute_result"
    }
   ],
   "source": [
    "test_df.shape"
   ]
  },
  {
   "cell_type": "code",
   "execution_count": 83,
   "metadata": {
    "execution": {
     "iopub.execute_input": "2022-01-06T15:48:04.677336Z",
     "iopub.status.busy": "2022-01-06T15:48:04.667912Z",
     "iopub.status.idle": "2022-01-06T15:48:04.705935Z",
     "shell.execute_reply": "2022-01-06T15:48:04.705216Z",
     "shell.execute_reply.started": "2022-01-06T15:46:28.079049Z"
    },
    "papermill": {
     "duration": 0.158273,
     "end_time": "2022-01-06T15:48:04.706056",
     "exception": false,
     "start_time": "2022-01-06T15:48:04.547783",
     "status": "completed"
    },
    "tags": []
   },
   "outputs": [
    {
     "data": {
      "text/html": [
       "<div>\n",
       "<style scoped>\n",
       "    .dataframe tbody tr th:only-of-type {\n",
       "        vertical-align: middle;\n",
       "    }\n",
       "\n",
       "    .dataframe tbody tr th {\n",
       "        vertical-align: top;\n",
       "    }\n",
       "\n",
       "    .dataframe thead th {\n",
       "        text-align: right;\n",
       "    }\n",
       "</style>\n",
       "<table border=\"1\" class=\"dataframe\">\n",
       "  <thead>\n",
       "    <tr style=\"text-align: right;\">\n",
       "      <th></th>\n",
       "      <th>Rooms</th>\n",
       "      <th>Square</th>\n",
       "      <th>LifeSquare</th>\n",
       "      <th>KitchenSquare</th>\n",
       "      <th>HouseFloor</th>\n",
       "      <th>HouseYear</th>\n",
       "      <th>Ecology_1</th>\n",
       "      <th>Ecology_2</th>\n",
       "      <th>Ecology_3</th>\n",
       "      <th>Social_1</th>\n",
       "      <th>...</th>\n",
       "      <th>Rooms_outlier</th>\n",
       "      <th>HouseFloor_outlier</th>\n",
       "      <th>HouseYear_outlier</th>\n",
       "      <th>LifeSquare_nan</th>\n",
       "      <th>DistrictSize</th>\n",
       "      <th>DistrictPrice</th>\n",
       "      <th>new_district</th>\n",
       "      <th>IsDistrictLarge</th>\n",
       "      <th>MedPriceByDistrict</th>\n",
       "      <th>MedPriceByFloorYear</th>\n",
       "    </tr>\n",
       "  </thead>\n",
       "  <tbody>\n",
       "    <tr>\n",
       "      <th>0</th>\n",
       "      <td>1.0</td>\n",
       "      <td>36.847630</td>\n",
       "      <td>19.094182</td>\n",
       "      <td>5.0</td>\n",
       "      <td>9.0</td>\n",
       "      <td>1970</td>\n",
       "      <td>0.036122</td>\n",
       "      <td>1</td>\n",
       "      <td>1</td>\n",
       "      <td>24</td>\n",
       "      <td>...</td>\n",
       "      <td>0</td>\n",
       "      <td>0</td>\n",
       "      <td>0</td>\n",
       "      <td>0</td>\n",
       "      <td>86.0</td>\n",
       "      <td>206400.446460</td>\n",
       "      <td>0</td>\n",
       "      <td>0</td>\n",
       "      <td>206400.446460</td>\n",
       "      <td>186044.241187</td>\n",
       "    </tr>\n",
       "    <tr>\n",
       "      <th>1</th>\n",
       "      <td>1.0</td>\n",
       "      <td>42.493907</td>\n",
       "      <td>42.568133</td>\n",
       "      <td>10.0</td>\n",
       "      <td>17.0</td>\n",
       "      <td>2017</td>\n",
       "      <td>0.072158</td>\n",
       "      <td>1</td>\n",
       "      <td>1</td>\n",
       "      <td>2</td>\n",
       "      <td>...</td>\n",
       "      <td>0</td>\n",
       "      <td>0</td>\n",
       "      <td>0</td>\n",
       "      <td>0</td>\n",
       "      <td>193.0</td>\n",
       "      <td>162537.996292</td>\n",
       "      <td>0</td>\n",
       "      <td>1</td>\n",
       "      <td>162537.996292</td>\n",
       "      <td>179986.169695</td>\n",
       "    </tr>\n",
       "    <tr>\n",
       "      <th>2</th>\n",
       "      <td>2.0</td>\n",
       "      <td>59.463678</td>\n",
       "      <td>45.463678</td>\n",
       "      <td>9.0</td>\n",
       "      <td>19.0</td>\n",
       "      <td>1977</td>\n",
       "      <td>0.211401</td>\n",
       "      <td>1</td>\n",
       "      <td>1</td>\n",
       "      <td>9</td>\n",
       "      <td>...</td>\n",
       "      <td>0</td>\n",
       "      <td>0</td>\n",
       "      <td>0</td>\n",
       "      <td>1</td>\n",
       "      <td>691.0</td>\n",
       "      <td>146652.390009</td>\n",
       "      <td>0</td>\n",
       "      <td>1</td>\n",
       "      <td>146652.390009</td>\n",
       "      <td>174137.278013</td>\n",
       "    </tr>\n",
       "    <tr>\n",
       "      <th>3</th>\n",
       "      <td>3.0</td>\n",
       "      <td>49.646030</td>\n",
       "      <td>33.893825</td>\n",
       "      <td>6.0</td>\n",
       "      <td>2.0</td>\n",
       "      <td>1965</td>\n",
       "      <td>0.014073</td>\n",
       "      <td>1</td>\n",
       "      <td>1</td>\n",
       "      <td>2</td>\n",
       "      <td>...</td>\n",
       "      <td>0</td>\n",
       "      <td>0</td>\n",
       "      <td>0</td>\n",
       "      <td>0</td>\n",
       "      <td>444.0</td>\n",
       "      <td>113919.670183</td>\n",
       "      <td>0</td>\n",
       "      <td>1</td>\n",
       "      <td>113919.670183</td>\n",
       "      <td>182128.021554</td>\n",
       "    </tr>\n",
       "    <tr>\n",
       "      <th>4</th>\n",
       "      <td>1.0</td>\n",
       "      <td>53.837056</td>\n",
       "      <td>45.837056</td>\n",
       "      <td>3.0</td>\n",
       "      <td>17.0</td>\n",
       "      <td>1977</td>\n",
       "      <td>0.309479</td>\n",
       "      <td>1</td>\n",
       "      <td>1</td>\n",
       "      <td>35</td>\n",
       "      <td>...</td>\n",
       "      <td>0</td>\n",
       "      <td>0</td>\n",
       "      <td>0</td>\n",
       "      <td>1</td>\n",
       "      <td>81.0</td>\n",
       "      <td>212801.122972</td>\n",
       "      <td>0</td>\n",
       "      <td>0</td>\n",
       "      <td>212801.122972</td>\n",
       "      <td>190891.093552</td>\n",
       "    </tr>\n",
       "    <tr>\n",
       "      <th>...</th>\n",
       "      <td>...</td>\n",
       "      <td>...</td>\n",
       "      <td>...</td>\n",
       "      <td>...</td>\n",
       "      <td>...</td>\n",
       "      <td>...</td>\n",
       "      <td>...</td>\n",
       "      <td>...</td>\n",
       "      <td>...</td>\n",
       "      <td>...</td>\n",
       "      <td>...</td>\n",
       "      <td>...</td>\n",
       "      <td>...</td>\n",
       "      <td>...</td>\n",
       "      <td>...</td>\n",
       "      <td>...</td>\n",
       "      <td>...</td>\n",
       "      <td>...</td>\n",
       "      <td>...</td>\n",
       "      <td>...</td>\n",
       "      <td>...</td>\n",
       "    </tr>\n",
       "    <tr>\n",
       "      <th>4995</th>\n",
       "      <td>2.0</td>\n",
       "      <td>43.177521</td>\n",
       "      <td>30.339945</td>\n",
       "      <td>5.0</td>\n",
       "      <td>5.0</td>\n",
       "      <td>1962</td>\n",
       "      <td>0.069660</td>\n",
       "      <td>1</td>\n",
       "      <td>1</td>\n",
       "      <td>31</td>\n",
       "      <td>...</td>\n",
       "      <td>0</td>\n",
       "      <td>1</td>\n",
       "      <td>0</td>\n",
       "      <td>0</td>\n",
       "      <td>69.0</td>\n",
       "      <td>173315.200160</td>\n",
       "      <td>0</td>\n",
       "      <td>0</td>\n",
       "      <td>173315.200160</td>\n",
       "      <td>186044.241187</td>\n",
       "    </tr>\n",
       "    <tr>\n",
       "      <th>4996</th>\n",
       "      <td>3.0</td>\n",
       "      <td>93.698122</td>\n",
       "      <td>94.521465</td>\n",
       "      <td>10.0</td>\n",
       "      <td>27.0</td>\n",
       "      <td>2018</td>\n",
       "      <td>0.060753</td>\n",
       "      <td>1</td>\n",
       "      <td>1</td>\n",
       "      <td>15</td>\n",
       "      <td>...</td>\n",
       "      <td>0</td>\n",
       "      <td>0</td>\n",
       "      <td>0</td>\n",
       "      <td>0</td>\n",
       "      <td>29.0</td>\n",
       "      <td>317697.404029</td>\n",
       "      <td>0</td>\n",
       "      <td>0</td>\n",
       "      <td>317697.404029</td>\n",
       "      <td>195066.700021</td>\n",
       "    </tr>\n",
       "    <tr>\n",
       "      <th>4997</th>\n",
       "      <td>1.0</td>\n",
       "      <td>33.656723</td>\n",
       "      <td>19.003259</td>\n",
       "      <td>5.0</td>\n",
       "      <td>5.0</td>\n",
       "      <td>1966</td>\n",
       "      <td>0.038693</td>\n",
       "      <td>1</td>\n",
       "      <td>1</td>\n",
       "      <td>28</td>\n",
       "      <td>...</td>\n",
       "      <td>0</td>\n",
       "      <td>0</td>\n",
       "      <td>0</td>\n",
       "      <td>0</td>\n",
       "      <td>70.0</td>\n",
       "      <td>187448.635642</td>\n",
       "      <td>0</td>\n",
       "      <td>0</td>\n",
       "      <td>187448.635642</td>\n",
       "      <td>182128.021554</td>\n",
       "    </tr>\n",
       "    <tr>\n",
       "      <th>4998</th>\n",
       "      <td>1.0</td>\n",
       "      <td>38.635155</td>\n",
       "      <td>20.976257</td>\n",
       "      <td>9.0</td>\n",
       "      <td>14.0</td>\n",
       "      <td>1970</td>\n",
       "      <td>0.089040</td>\n",
       "      <td>1</td>\n",
       "      <td>1</td>\n",
       "      <td>33</td>\n",
       "      <td>...</td>\n",
       "      <td>0</td>\n",
       "      <td>0</td>\n",
       "      <td>0</td>\n",
       "      <td>0</td>\n",
       "      <td>46.0</td>\n",
       "      <td>217749.656911</td>\n",
       "      <td>0</td>\n",
       "      <td>0</td>\n",
       "      <td>217749.656911</td>\n",
       "      <td>190891.093552</td>\n",
       "    </tr>\n",
       "    <tr>\n",
       "      <th>4999</th>\n",
       "      <td>2.0</td>\n",
       "      <td>67.122742</td>\n",
       "      <td>33.944344</td>\n",
       "      <td>6.0</td>\n",
       "      <td>17.0</td>\n",
       "      <td>2009</td>\n",
       "      <td>0.194489</td>\n",
       "      <td>1</td>\n",
       "      <td>1</td>\n",
       "      <td>47</td>\n",
       "      <td>...</td>\n",
       "      <td>0</td>\n",
       "      <td>0</td>\n",
       "      <td>0</td>\n",
       "      <td>0</td>\n",
       "      <td>130.0</td>\n",
       "      <td>181955.856450</td>\n",
       "      <td>0</td>\n",
       "      <td>1</td>\n",
       "      <td>181955.856450</td>\n",
       "      <td>235255.942212</td>\n",
       "    </tr>\n",
       "  </tbody>\n",
       "</table>\n",
       "<p>5000 rows × 25 columns</p>\n",
       "</div>"
      ],
      "text/plain": [
       "      Rooms     Square  LifeSquare  KitchenSquare  HouseFloor  HouseYear  \\\n",
       "0       1.0  36.847630   19.094182            5.0         9.0       1970   \n",
       "1       1.0  42.493907   42.568133           10.0        17.0       2017   \n",
       "2       2.0  59.463678   45.463678            9.0        19.0       1977   \n",
       "3       3.0  49.646030   33.893825            6.0         2.0       1965   \n",
       "4       1.0  53.837056   45.837056            3.0        17.0       1977   \n",
       "...     ...        ...         ...            ...         ...        ...   \n",
       "4995    2.0  43.177521   30.339945            5.0         5.0       1962   \n",
       "4996    3.0  93.698122   94.521465           10.0        27.0       2018   \n",
       "4997    1.0  33.656723   19.003259            5.0         5.0       1966   \n",
       "4998    1.0  38.635155   20.976257            9.0        14.0       1970   \n",
       "4999    2.0  67.122742   33.944344            6.0        17.0       2009   \n",
       "\n",
       "      Ecology_1  Ecology_2  Ecology_3  Social_1  ...  Rooms_outlier  \\\n",
       "0      0.036122          1          1        24  ...              0   \n",
       "1      0.072158          1          1         2  ...              0   \n",
       "2      0.211401          1          1         9  ...              0   \n",
       "3      0.014073          1          1         2  ...              0   \n",
       "4      0.309479          1          1        35  ...              0   \n",
       "...         ...        ...        ...       ...  ...            ...   \n",
       "4995   0.069660          1          1        31  ...              0   \n",
       "4996   0.060753          1          1        15  ...              0   \n",
       "4997   0.038693          1          1        28  ...              0   \n",
       "4998   0.089040          1          1        33  ...              0   \n",
       "4999   0.194489          1          1        47  ...              0   \n",
       "\n",
       "      HouseFloor_outlier  HouseYear_outlier  LifeSquare_nan  DistrictSize  \\\n",
       "0                      0                  0               0          86.0   \n",
       "1                      0                  0               0         193.0   \n",
       "2                      0                  0               1         691.0   \n",
       "3                      0                  0               0         444.0   \n",
       "4                      0                  0               1          81.0   \n",
       "...                  ...                ...             ...           ...   \n",
       "4995                   1                  0               0          69.0   \n",
       "4996                   0                  0               0          29.0   \n",
       "4997                   0                  0               0          70.0   \n",
       "4998                   0                  0               0          46.0   \n",
       "4999                   0                  0               0         130.0   \n",
       "\n",
       "      DistrictPrice  new_district  IsDistrictLarge  MedPriceByDistrict  \\\n",
       "0     206400.446460             0                0       206400.446460   \n",
       "1     162537.996292             0                1       162537.996292   \n",
       "2     146652.390009             0                1       146652.390009   \n",
       "3     113919.670183             0                1       113919.670183   \n",
       "4     212801.122972             0                0       212801.122972   \n",
       "...             ...           ...              ...                 ...   \n",
       "4995  173315.200160             0                0       173315.200160   \n",
       "4996  317697.404029             0                0       317697.404029   \n",
       "4997  187448.635642             0                0       187448.635642   \n",
       "4998  217749.656911             0                0       217749.656911   \n",
       "4999  181955.856450             0                1       181955.856450   \n",
       "\n",
       "      MedPriceByFloorYear  \n",
       "0           186044.241187  \n",
       "1           179986.169695  \n",
       "2           174137.278013  \n",
       "3           182128.021554  \n",
       "4           190891.093552  \n",
       "...                   ...  \n",
       "4995        186044.241187  \n",
       "4996        195066.700021  \n",
       "4997        182128.021554  \n",
       "4998        190891.093552  \n",
       "4999        235255.942212  \n",
       "\n",
       "[5000 rows x 25 columns]"
      ]
     },
     "execution_count": 83,
     "metadata": {},
     "output_type": "execute_result"
    }
   ],
   "source": [
    "test_df"
   ]
  },
  {
   "cell_type": "code",
   "execution_count": 84,
   "metadata": {
    "execution": {
     "iopub.execute_input": "2022-01-06T15:48:04.942855Z",
     "iopub.status.busy": "2022-01-06T15:48:04.942111Z",
     "iopub.status.idle": "2022-01-06T15:48:04.964135Z",
     "shell.execute_reply": "2022-01-06T15:48:04.963391Z",
     "shell.execute_reply.started": "2022-01-06T15:46:28.127149Z"
    },
    "papermill": {
     "duration": 0.145408,
     "end_time": "2022-01-06T15:48:04.964285",
     "exception": false,
     "start_time": "2022-01-06T15:48:04.818877",
     "status": "completed"
    },
    "tags": []
   },
   "outputs": [
    {
     "data": {
      "text/html": [
       "<div>\n",
       "<style scoped>\n",
       "    .dataframe tbody tr th:only-of-type {\n",
       "        vertical-align: middle;\n",
       "    }\n",
       "\n",
       "    .dataframe tbody tr th {\n",
       "        vertical-align: top;\n",
       "    }\n",
       "\n",
       "    .dataframe thead th {\n",
       "        text-align: right;\n",
       "    }\n",
       "</style>\n",
       "<table border=\"1\" class=\"dataframe\">\n",
       "  <thead>\n",
       "    <tr style=\"text-align: right;\">\n",
       "      <th></th>\n",
       "      <th>Id</th>\n",
       "      <th>Price</th>\n",
       "    </tr>\n",
       "  </thead>\n",
       "  <tbody>\n",
       "    <tr>\n",
       "      <th>0</th>\n",
       "      <td>4567</td>\n",
       "      <td>200000.0</td>\n",
       "    </tr>\n",
       "    <tr>\n",
       "      <th>1</th>\n",
       "      <td>5925</td>\n",
       "      <td>200000.0</td>\n",
       "    </tr>\n",
       "    <tr>\n",
       "      <th>2</th>\n",
       "      <td>960</td>\n",
       "      <td>200000.0</td>\n",
       "    </tr>\n",
       "    <tr>\n",
       "      <th>3</th>\n",
       "      <td>3848</td>\n",
       "      <td>200000.0</td>\n",
       "    </tr>\n",
       "    <tr>\n",
       "      <th>4</th>\n",
       "      <td>746</td>\n",
       "      <td>200000.0</td>\n",
       "    </tr>\n",
       "  </tbody>\n",
       "</table>\n",
       "</div>"
      ],
      "text/plain": [
       "     Id     Price\n",
       "0  4567  200000.0\n",
       "1  5925  200000.0\n",
       "2   960  200000.0\n",
       "3  3848  200000.0\n",
       "4   746  200000.0"
      ]
     },
     "execution_count": 84,
     "metadata": {},
     "output_type": "execute_result"
    }
   ],
   "source": [
    "submit = pd.read_csv('/kaggle/input/real-estate-price-prediction-moscow/sample_submission.csv')\n",
    "submit.head()"
   ]
  },
  {
   "cell_type": "code",
   "execution_count": 85,
   "metadata": {
    "execution": {
     "iopub.execute_input": "2022-01-06T15:48:05.200330Z",
     "iopub.status.busy": "2022-01-06T15:48:05.199357Z",
     "iopub.status.idle": "2022-01-06T15:48:05.216029Z",
     "shell.execute_reply": "2022-01-06T15:48:05.215354Z",
     "shell.execute_reply.started": "2022-01-06T15:46:28.146201Z"
    },
    "papermill": {
     "duration": 0.136297,
     "end_time": "2022-01-06T15:48:05.216147",
     "exception": false,
     "start_time": "2022-01-06T15:48:05.079850",
     "status": "completed"
    },
    "tags": []
   },
   "outputs": [
    {
     "data": {
      "text/plain": [
       "array([164241.96435013, 119867.92609298, 145591.54121062, ...,\n",
       "       148006.56047061, 195498.05636921, 261384.96947155])"
      ]
     },
     "execution_count": 85,
     "metadata": {},
     "output_type": "execute_result"
    }
   ],
   "source": [
    "predictions = model.predict(test_df)\n",
    "predictions"
   ]
  },
  {
   "cell_type": "code",
   "execution_count": 86,
   "metadata": {
    "execution": {
     "iopub.execute_input": "2022-01-06T15:48:05.453488Z",
     "iopub.status.busy": "2022-01-06T15:48:05.452595Z",
     "iopub.status.idle": "2022-01-06T15:48:05.457464Z",
     "shell.execute_reply": "2022-01-06T15:48:05.456738Z",
     "shell.execute_reply.started": "2022-01-06T15:46:28.171978Z"
    },
    "papermill": {
     "duration": 0.126955,
     "end_time": "2022-01-06T15:48:05.457597",
     "exception": false,
     "start_time": "2022-01-06T15:48:05.330642",
     "status": "completed"
    },
    "tags": []
   },
   "outputs": [
    {
     "data": {
      "text/html": [
       "<div>\n",
       "<style scoped>\n",
       "    .dataframe tbody tr th:only-of-type {\n",
       "        vertical-align: middle;\n",
       "    }\n",
       "\n",
       "    .dataframe tbody tr th {\n",
       "        vertical-align: top;\n",
       "    }\n",
       "\n",
       "    .dataframe thead th {\n",
       "        text-align: right;\n",
       "    }\n",
       "</style>\n",
       "<table border=\"1\" class=\"dataframe\">\n",
       "  <thead>\n",
       "    <tr style=\"text-align: right;\">\n",
       "      <th></th>\n",
       "      <th>Id</th>\n",
       "      <th>Price</th>\n",
       "    </tr>\n",
       "  </thead>\n",
       "  <tbody>\n",
       "    <tr>\n",
       "      <th>0</th>\n",
       "      <td>4567</td>\n",
       "      <td>164241.964350</td>\n",
       "    </tr>\n",
       "    <tr>\n",
       "      <th>1</th>\n",
       "      <td>5925</td>\n",
       "      <td>119867.926093</td>\n",
       "    </tr>\n",
       "    <tr>\n",
       "      <th>2</th>\n",
       "      <td>960</td>\n",
       "      <td>145591.541211</td>\n",
       "    </tr>\n",
       "    <tr>\n",
       "      <th>3</th>\n",
       "      <td>3848</td>\n",
       "      <td>99548.394162</td>\n",
       "    </tr>\n",
       "    <tr>\n",
       "      <th>4</th>\n",
       "      <td>746</td>\n",
       "      <td>206741.880306</td>\n",
       "    </tr>\n",
       "  </tbody>\n",
       "</table>\n",
       "</div>"
      ],
      "text/plain": [
       "     Id          Price\n",
       "0  4567  164241.964350\n",
       "1  5925  119867.926093\n",
       "2   960  145591.541211\n",
       "3  3848   99548.394162\n",
       "4   746  206741.880306"
      ]
     },
     "execution_count": 86,
     "metadata": {},
     "output_type": "execute_result"
    }
   ],
   "source": [
    "submit['Price'] = predictions\n",
    "submit.head()"
   ]
  },
  {
   "cell_type": "code",
   "execution_count": 87,
   "metadata": {
    "execution": {
     "iopub.execute_input": "2022-01-06T15:48:05.688223Z",
     "iopub.status.busy": "2022-01-06T15:48:05.687481Z",
     "iopub.status.idle": "2022-01-06T15:48:05.946022Z",
     "shell.execute_reply": "2022-01-06T15:48:05.945403Z",
     "shell.execute_reply.started": "2022-01-06T15:46:28.186658Z"
    },
    "papermill": {
     "duration": 0.37567,
     "end_time": "2022-01-06T15:48:05.946146",
     "exception": false,
     "start_time": "2022-01-06T15:48:05.570476",
     "status": "completed"
    },
    "tags": []
   },
   "outputs": [],
   "source": [
    "submit.to_csv('submit.csv', index=False)"
   ]
  },
  {
   "cell_type": "code",
   "execution_count": null,
   "metadata": {
    "papermill": {
     "duration": 0.11412,
     "end_time": "2022-01-06T15:48:06.173707",
     "exception": false,
     "start_time": "2022-01-06T15:48:06.059587",
     "status": "completed"
    },
    "tags": []
   },
   "outputs": [],
   "source": []
  }
 ],
 "metadata": {
  "kernelspec": {
   "display_name": "Python 3",
   "language": "python",
   "name": "python3"
  },
  "language_info": {
   "codemirror_mode": {
    "name": "ipython",
    "version": 3
   },
   "file_extension": ".py",
   "mimetype": "text/x-python",
   "name": "python",
   "nbconvert_exporter": "python",
   "pygments_lexer": "ipython3",
   "version": "3.8.8"
  },
  "papermill": {
   "duration": 75.176839,
   "end_time": "2022-01-06T15:48:07.314208",
   "environment_variables": {},
   "exception": null,
   "input_path": "__notebook__.ipynb",
   "output_path": "__notebook__.ipynb",
   "parameters": {},
   "start_time": "2022-01-06T15:46:52.137369",
   "version": "2.1.0"
  }
 },
 "nbformat": 4,
 "nbformat_minor": 4
}
